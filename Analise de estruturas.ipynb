{
 "cells": [
  {
   "cell_type": "code",
   "execution_count": 4,
   "metadata": {
    "collapsed": true
   },
   "outputs": [],
   "source": [
    "import numpy as np\n",
    "import matplotlib.pyplot as plt"
   ]
  },
  {
   "cell_type": "markdown",
   "metadata": {},
   "source": [
    "Para criar um viga, é preciso instaciar um objeto da classe `Viga`. Seus parâmetros são:\n",
    "\n",
    "$$ nomeDaViga = Viga(E,I,L,A)$$\n",
    "\n",
    "- $L$ = Comprimento em metros\n",
    "- $E$ = Módulo de elasticidade em MPa\n",
    "- $I$ = Momento de inércia em metros à quarta\n",
    "- $A$ = Área em m2\n"
   ]
  },
  {
   "cell_type": "code",
   "execution_count": 5,
   "metadata": {
    "collapsed": false
   },
   "outputs": [],
   "source": [
    "# Definir class Viga\n",
    "class Viga:\n",
    "    def __init__(self, L = 1, E = 20000, I = 1, A = 1):\n",
    "        self.E = E\n",
    "        self.I = I\n",
    "        self.L = L\n",
    "        self.A = A\n",
    "        \n",
    "        #Matriz de rigidez \n",
    "        self.k = E * I / L**3 * np.array([\n",
    "                [12., 6*L, -12, 6*L],\n",
    "                [6*L, 4*L**2, -6*L, 2*L**2],\n",
    "                [-12, -6*L, 12, -6*L],\n",
    "                [6*L, 2*L**2, -6*L, 4*L**2]\n",
    "            ])\n",
    "        \n",
    "    def __str__(self):\n",
    "        return ('Comprimento = ' + str(self.L) + \" m, \\n\"\n",
    "    + 'Inercia = ' + str(self.I) + ' m^4, \\n'\n",
    "    + 'Elasticidade = ' + str(self.E) + ' MPa \\n')\n",
    "        \n",
    "# Exemplo de criacao de viga\n",
    "minhaViga1 = Viga() #com valores padroes\n",
    "minhaViga2 = Viga(2) #com comprimento 2 e resto padrao\n",
    "minhaViga3 = Viga(2, 25000, 3000000) # Total"
   ]
  },
  {
   "cell_type": "markdown",
   "metadata": {},
   "source": [
    "Observe que a qualquer momento pode-se obter as informações de cada viga com: `minhaViga.parametro`"
   ]
  },
  {
   "cell_type": "code",
   "execution_count": 6,
   "metadata": {
    "collapsed": false
   },
   "outputs": [
    {
     "data": {
      "text/plain": [
       "2"
      ]
     },
     "execution_count": 6,
     "metadata": {},
     "output_type": "execute_result"
    }
   ],
   "source": [
    "#Exemplo\n",
    "minhaViga2.L #para mostrar o comprimento da `minhaViga2`"
   ]
  },
  {
   "cell_type": "code",
   "execution_count": 7,
   "metadata": {
    "collapsed": false
   },
   "outputs": [
    {
     "data": {
      "text/plain": [
       "'Comprimento = 1 m, \\nInercia = 1 m^4, \\nElasticidade = 20000 MPa \\n'"
      ]
     },
     "execution_count": 7,
     "metadata": {},
     "output_type": "execute_result"
    }
   ],
   "source": [
    "#Exemplo to STRING\n",
    "str(minhaViga1)"
   ]
  },
  {
   "cell_type": "markdown",
   "metadata": {},
   "source": [
    "As matrizes de rigidez também estão disponíveis através do comando `minhaViga.k`"
   ]
  },
  {
   "cell_type": "code",
   "execution_count": 8,
   "metadata": {
    "collapsed": false
   },
   "outputs": [
    {
     "data": {
      "text/plain": [
       "array([[  1.12500000e+11,   1.12500000e+11,  -1.12500000e+11,\n",
       "          1.12500000e+11],\n",
       "       [  1.12500000e+11,   1.50000000e+11,  -1.12500000e+11,\n",
       "          7.50000000e+10],\n",
       "       [ -1.12500000e+11,  -1.12500000e+11,   1.12500000e+11,\n",
       "         -1.12500000e+11],\n",
       "       [  1.12500000e+11,   7.50000000e+10,  -1.12500000e+11,\n",
       "          1.50000000e+11]])"
      ]
     },
     "execution_count": 8,
     "metadata": {},
     "output_type": "execute_result"
    }
   ],
   "source": [
    "#Exemplo\n",
    "minhaViga3.k #mostrar matriz de rigidez da minhaViga3"
   ]
  },
  {
   "cell_type": "markdown",
   "metadata": {},
   "source": [
    "## Apoios\n",
    "\n",
    "- Tipo 1 = fixo em x (apoiado)\n",
    "- Tipo 2 = fixo em x e y (fixo)\n",
    "- Tipo 3 = fixo em x, y e z (engastado)\n"
   ]
  },
  {
   "cell_type": "code",
   "execution_count": 9,
   "metadata": {
    "collapsed": false
   },
   "outputs": [],
   "source": [
    "#Definicao da classe Nó\n",
    "#Tipo 1 = fixo em x (apoiado)\n",
    "#Tipo 2 = fixo em x e y (fixo)\n",
    "#Tipo 3 = fixo em x, y e z (engastado)\n",
    "class Apoio:\n",
    "    def __init__(self, x, tipo = 1):\n",
    "        self.x = x\n",
    "        self.tipo = tipo\n",
    "\n",
    "    "
   ]
  },
  {
   "cell_type": "code",
   "execution_count": 10,
   "metadata": {
    "collapsed": true
   },
   "outputs": [],
   "source": [
    "a = Apoio(0,1)\n",
    "b = Apoio(3,1)"
   ]
  },
  {
   "cell_type": "markdown",
   "metadata": {},
   "source": [
    "## Forças concentradas\n",
    "\n",
    "- Tipo 1 = em x (POSITIVO = ESQUERDA PARA DIREITA)\n",
    "- Tipo 2 = em y (POSITIVO = CIMA PARA BAIXO) \n",
    "- Tipo 3 = em z (momento) (POSITIVO = HORARIO)"
   ]
  },
  {
   "cell_type": "code",
   "execution_count": 11,
   "metadata": {
    "collapsed": true
   },
   "outputs": [],
   "source": [
    "class ForcaC:\n",
    "    def __init__(self, f, x, tipo):\n",
    "        self.f = f\n",
    "        self.x = x\n",
    "        self.tipo = tipo"
   ]
  },
  {
   "cell_type": "code",
   "execution_count": 12,
   "metadata": {
    "collapsed": true
   },
   "outputs": [],
   "source": [
    "f1 = ForcaC(10,3,2)"
   ]
  },
  {
   "cell_type": "markdown",
   "metadata": {},
   "source": [
    "## Forças distribuidas\n",
    "\n",
    "No momento apenas distribuicoes lineares \n",
    "- Tipo 1 = em x (POSITIVO = ESQUERDA PARA DIREITA)\n",
    "- Tipo 2 = em y (POSITIVO = CIMA PARA BAIXO) \n",
    "- Tipo 3 = em z (momento) (POSITIVO = HORARIO) [existe?]"
   ]
  },
  {
   "cell_type": "code",
   "execution_count": 13,
   "metadata": {
    "collapsed": false
   },
   "outputs": [],
   "source": [
    "class ForcaD:\n",
    "    def __init__(self, f_i, f_f, x_i, x_f, tipo):\n",
    "        self.f_i = f_i\n",
    "        self.f_f = f_f\n",
    "        self.x_i = x_i\n",
    "        self.x_f = x_f\n",
    "        sef.tipo = tipo"
   ]
  },
  {
   "cell_type": "markdown",
   "metadata": {},
   "source": [
    "# Estrutura\n",
    "\n",
    "Agora que temos a viga, os apoios e forças podemos fechar a estrutura e calcular os diagramas"
   ]
  },
  {
   "cell_type": "code",
   "execution_count": 26,
   "metadata": {
    "collapsed": true
   },
   "outputs": [],
   "source": [
    "class Eztrut:\n",
    "    def __init__(self, vigas, apoios, cargas):\n",
    "        self.vigas = vigas\n",
    "        self.apoios = apoios\n",
    "        self.cargas = cargas\n",
    "        \n",
    "    def mostrar_vigas():\n",
    "        for viga in self_vigas:\n",
    "            print(str(viga))\n",
    "        \n",
    "    \n",
    "    def estaticidade():\n",
    "        estaticidade = 0\n",
    "        for apoio in apoios:\n",
    "            estacidade+= apoio.tipo"
   ]
  },
  {
   "cell_type": "code",
   "execution_count": 27,
   "metadata": {
    "collapsed": false
   },
   "outputs": [
    {
     "ename": "TypeError",
     "evalue": "mostrar_vigas() takes 0 positional arguments but 1 was given",
     "output_type": "error",
     "traceback": [
      "\u001b[0;31m---------------------------------------------------------------------------\u001b[0m",
      "\u001b[0;31mTypeError\u001b[0m                                 Traceback (most recent call last)",
      "\u001b[0;32m<ipython-input-27-b9535b9462be>\u001b[0m in \u001b[0;36m<module>\u001b[0;34m()\u001b[0m\n\u001b[1;32m      1\u001b[0m \u001b[0mvigas\u001b[0m \u001b[0;34m=\u001b[0m \u001b[0;34m[\u001b[0m\u001b[0mminhaViga1\u001b[0m\u001b[0;34m,\u001b[0m \u001b[0mminhaViga2\u001b[0m\u001b[0;34m]\u001b[0m\u001b[0;34m\u001b[0m\u001b[0m\n\u001b[1;32m      2\u001b[0m \u001b[0mex1\u001b[0m \u001b[0;34m=\u001b[0m \u001b[0mEztrut\u001b[0m\u001b[0;34m(\u001b[0m\u001b[0mvigas\u001b[0m\u001b[0;34m,\u001b[0m \u001b[0;34m[\u001b[0m\u001b[0ma\u001b[0m\u001b[0;34m,\u001b[0m\u001b[0mb\u001b[0m\u001b[0;34m]\u001b[0m\u001b[0;34m,\u001b[0m \u001b[0mf1\u001b[0m\u001b[0;34m)\u001b[0m\u001b[0;34m\u001b[0m\u001b[0m\n\u001b[0;32m----> 3\u001b[0;31m \u001b[0mprint\u001b[0m\u001b[0;34m(\u001b[0m\u001b[0mex1\u001b[0m\u001b[0;34m.\u001b[0m\u001b[0mmostrar_vigas\u001b[0m\u001b[0;34m(\u001b[0m\u001b[0;34m)\u001b[0m\u001b[0;34m)\u001b[0m\u001b[0;34m\u001b[0m\u001b[0m\n\u001b[0m",
      "\u001b[0;31mTypeError\u001b[0m: mostrar_vigas() takes 0 positional arguments but 1 was given"
     ]
    }
   ],
   "source": [
    "vigas = [minhaViga1, minhaViga2]\n",
    "ex1 = Eztrut(vigas, [a,b], f1)\n",
    "print(ex1.mostrar_vigas())"
   ]
  },
  {
   "cell_type": "code",
   "execution_count": 16,
   "metadata": {
    "collapsed": false
   },
   "outputs": [
    {
     "data": {
      "image/png": "[encoded data removed]",
      "text/plain": [
       "<matplotlib.figure.Figure at 0x7f16e7d56d30>"
      ]
     },
     "metadata": {},
     "output_type": "display_data"
    }
   ],
   "source": [
    "j= range(0,6)\n",
    "x = []\n",
    "y = []\n",
    "for i in j:\n",
    "    x.append(i)\n",
    "    y.append(-5 + i**2 - i)\n",
    "\n",
    "#Preparar graficos para sombrear regiao\n",
    "xgraf = [0] + x #colocar um zero na primera casa\n",
    "xgraf.append(5) #colocar o ultimo valor no final do vetor\n",
    "ygraf = [0] + y\n",
    "ygraf.append(0)\n",
    "\n",
    "plt.plot([0,5], [0, 0], linewidth = 10, alpha=0.5)\n",
    "plt.xlabel('x [m]')\n",
    "plt.ylabel('Momento fletor [kNm]')\n",
    "plt.plot(y)\n",
    "plt.fill(xgraf, ygraf, 'v', alpha=0.2)\n",
    "plt.show()"
   ]
  },
  {
   "cell_type": "code",
   "execution_count": 17,
   "metadata": {
    "collapsed": false
   },
   "outputs": [
    {
     "data": {
      "text/plain": [
       "[0, -5, -5, -3, 1, 7, 15, 0]"
      ]
     },
     "execution_count": 17,
     "metadata": {},
     "output_type": "execute_result"
    }
   ],
   "source": [
    "ygraf"
   ]
  },
  {
   "cell_type": "code",
   "execution_count": 18,
   "metadata": {
    "collapsed": false
   },
   "outputs": [
    {
     "ename": "TypeError",
     "evalue": "estaticidade() takes 0 positional arguments but 1 was given",
     "output_type": "error",
     "traceback": [
      "\u001b[0;31m---------------------------------------------------------------------------\u001b[0m",
      "\u001b[0;31mTypeError\u001b[0m                                 Traceback (most recent call last)",
      "\u001b[0;32m<ipython-input-18-f5b48d13477c>\u001b[0m in \u001b[0;36m<module>\u001b[0;34m()\u001b[0m\n\u001b[0;32m----> 1\u001b[0;31m \u001b[0mEztrut\u001b[0m\u001b[0;34m.\u001b[0m\u001b[0mestaticidade\u001b[0m\u001b[0;34m(\u001b[0m\u001b[0mex1\u001b[0m\u001b[0;34m)\u001b[0m\u001b[0;34m\u001b[0m\u001b[0m\n\u001b[0m",
      "\u001b[0;31mTypeError\u001b[0m: estaticidade() takes 0 positional arguments but 1 was given"
     ]
    }
   ],
   "source": [
    "Eztrut.estaticidade(ex1)"
   ]
  },
  {
   "cell_type": "code",
   "execution_count": null,
   "metadata": {
    "collapsed": true
   },
   "outputs": [],
   "source": []
  },
  {
   "cell_type": "code",
   "execution_count": null,
   "metadata": {
    "collapsed": false
   },
   "outputs": [],
   "source": [
    "import PIL.image\n",
    "from cStringIO import StringIO\n",
    "import IPython.display\n",
    "def showarray(a, fmt='png'):\n",
    "    a = np.uint8(a)\n",
    "    f = StringIO()\n",
    "    PIL.Image.fromarray(a).save(f, fmt)\n",
    "    IPython.display.display(IPython.display.Image(data=f.getvalue()))"
   ]
  }
 ],
 "metadata": {
  "kernelspec": {
   "display_name": "Python 3",
   "language": "python",
   "name": "python3"
  },
  "language_info": {
   "codemirror_mode": {
    "name": "ipython",
    "version": 3
   },
   "file_extension": ".py",
   "mimetype": "text/x-python",
   "name": "python",
   "nbconvert_exporter": "python",
   "pygments_lexer": "ipython3",
   "version": "3.5.2"
  }
 },
 "nbformat": 4,
 "nbformat_minor": 2
}
