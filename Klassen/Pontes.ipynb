{
 "cells": [
  {
   "cell_type": "markdown",
   "metadata": {},
   "source": [
    "# Exemplo: Cálculo da laje central"
   ]
  },
  {
   "cell_type": "markdown",
   "metadata": {},
   "source": [
    "<img src=\"pontes/images/1.jpg\" width=\"300\" />"
   ]
  },
  {
   "cell_type": "markdown",
   "metadata": {},
   "source": [
    "## Esquema estrutural"
   ]
  },
  {
   "cell_type": "markdown",
   "metadata": {},
   "source": [
    "<img src=\"pontes/images/1.1.jpg\" width=\"300\" />"
   ]
  },
  {
   "cell_type": "code",
   "execution_count": 100,
   "metadata": {
    "collapsed": false,
    "scrolled": true
   },
   "outputs": [
    {
     "data": {
      "text/html": [
       "<div>\n",
       "<style>\n",
       "    .dataframe thead tr:only-child th {\n",
       "        text-align: right;\n",
       "    }\n",
       "\n",
       "    .dataframe thead th {\n",
       "        text-align: left;\n",
       "    }\n",
       "\n",
       "    .dataframe tbody tr th {\n",
       "        vertical-align: top;\n",
       "    }\n",
       "</style>\n",
       "<table border=\"1\" class=\"dataframe\">\n",
       "  <thead>\n",
       "    <tr style=\"text-align: right;\">\n",
       "      <th></th>\n",
       "      <th>0</th>\n",
       "    </tr>\n",
       "  </thead>\n",
       "  <tbody>\n",
       "    <tr>\n",
       "      <th>t1</th>\n",
       "      <td>0.62</td>\n",
       "    </tr>\n",
       "    <tr>\n",
       "      <th>t2</th>\n",
       "      <td>0.8</td>\n",
       "    </tr>\n",
       "    <tr>\n",
       "      <th>t</th>\n",
       "      <td>1.1916375287812984 meter</td>\n",
       "    </tr>\n",
       "    <tr>\n",
       "      <th>t/a</th>\n",
       "      <td>0.5958187643906492 dimensionless</td>\n",
       "    </tr>\n",
       "    <tr>\n",
       "      <th>lx/a</th>\n",
       "      <td>3.3 dimensionless</td>\n",
       "    </tr>\n",
       "  </tbody>\n",
       "</table>\n",
       "</div>"
      ],
      "text/plain": [
       "                                     0\n",
       "t1                                0.62\n",
       "t2                                 0.8\n",
       "t             1.1916375287812984 meter\n",
       "t/a   0.5958187643906492 dimensionless\n",
       "lx/a                 3.3 dimensionless"
      ]
     },
     "execution_count": 100,
     "metadata": {},
     "output_type": "execute_result"
    }
   ],
   "source": [
    "import pandas as pd\n",
    "import numpy as np\n",
    "import pint\n",
    "u = pint.UnitRegistry()\n",
    "\n",
    "# distancia entre eixos do trem tipo\n",
    "a = 2 * u.meter\n",
    "\n",
    "# distancia entre as longarinas\n",
    "lx = 6.6 * u.meter\n",
    "\n",
    "# ????? \n",
    "t1 = 0.2 + 2 * (0.085) + 0.25\n",
    "t2 = 0.5 + 2 * (0.025) + 0.25\n",
    "t = np.sqrt((t1 + t2)) * u.meter\n",
    "\n",
    "# tabela para mostrar valores\n",
    "df = pd.DataFrame(\n",
    "    [t1, t2,t, t/a, lx/a],\n",
    "    ['t1', 't2', 't', 't/a', 'lx/a']\n",
    ")\n",
    "df\n"
   ]
  },
  {
   "cell_type": "markdown",
   "metadata": {},
   "source": [
    "## Cargas permanentes"
   ]
  },
  {
   "cell_type": "code",
   "execution_count": 101,
   "metadata": {
    "collapsed": false
   },
   "outputs": [
    {
     "data": {
      "text/html": [
       "<div>\n",
       "<style>\n",
       "    .dataframe thead tr:only-child th {\n",
       "        text-align: right;\n",
       "    }\n",
       "\n",
       "    .dataframe thead th {\n",
       "        text-align: left;\n",
       "    }\n",
       "\n",
       "    .dataframe tbody tr th {\n",
       "        vertical-align: top;\n",
       "    }\n",
       "</style>\n",
       "<table border=\"1\" class=\"dataframe\">\n",
       "  <thead>\n",
       "    <tr style=\"text-align: right;\">\n",
       "      <th></th>\n",
       "      <th>0</th>\n",
       "    </tr>\n",
       "  </thead>\n",
       "  <tbody>\n",
       "    <tr>\n",
       "      <th>altura_laje</th>\n",
       "      <td>0.25</td>\n",
       "    </tr>\n",
       "    <tr>\n",
       "      <th>peso_concreto</th>\n",
       "      <td>2.5 force_ton / meter ** 3</td>\n",
       "    </tr>\n",
       "    <tr>\n",
       "      <th>pp_laje</th>\n",
       "      <td>0.625 force_ton / meter ** 2</td>\n",
       "    </tr>\n",
       "    <tr>\n",
       "      <th>altura_pavimento</th>\n",
       "      <td>0.085 meter</td>\n",
       "    </tr>\n",
       "    <tr>\n",
       "      <th>peso_pavimento</th>\n",
       "      <td>2.4 force_ton / meter ** 3</td>\n",
       "    </tr>\n",
       "    <tr>\n",
       "      <th>pp_pavimento</th>\n",
       "      <td>0.20400000000000001 force_ton / meter ** 2</td>\n",
       "    </tr>\n",
       "    <tr>\n",
       "      <th>g</th>\n",
       "      <td>0.829 force_ton / meter ** 2</td>\n",
       "    </tr>\n",
       "  </tbody>\n",
       "</table>\n",
       "</div>"
      ],
      "text/plain": [
       "                                                           0\n",
       "altura_laje                                             0.25\n",
       "peso_concreto                     2.5 force_ton / meter ** 3\n",
       "pp_laje                         0.625 force_ton / meter ** 2\n",
       "altura_pavimento                                 0.085 meter\n",
       "peso_pavimento                    2.4 force_ton / meter ** 3\n",
       "pp_pavimento      0.20400000000000001 force_ton / meter ** 2\n",
       "g                               0.829 force_ton / meter ** 2"
      ]
     },
     "execution_count": 101,
     "metadata": {},
     "output_type": "execute_result"
    }
   ],
   "source": [
    "# Peso próprio da laje\n",
    "altura_laje = 0.25 * u.meter\n",
    "peso_concreto = 2.5 * u.ton_force / u.meter**3\n",
    "pp_laje = altura_laje * peso_concreto\n",
    "\n",
    "## Peso próprio pavimento\n",
    "altura_pavimento = 0.085 * u.meter\n",
    "peso_pavimento =  2.4 * u.ton_force / u.meter**3\n",
    "pp_pavimento = altura_pavimento * peso_pavimento\n",
    "\n",
    "g = pp_laje + pp_pavimento\n",
    "\n",
    "df = pd.DataFrame(\n",
    "    [altura_laje.magnitude, peso_concreto, pp_laje, altura_pavimento, peso_pavimento, pp_pavimento, g],\n",
    "    ['altura_laje', \"peso_concreto\", 'pp_laje', 'altura_pavimento', 'peso_pavimento', 'pp_pavimento', 'g']\n",
    ")\n",
    "df\n"
   ]
  },
  {
   "cell_type": "code",
   "execution_count": 111,
   "metadata": {
    "collapsed": false,
    "scrolled": true
   },
   "outputs": [
    {
     "data": {
      "text/html": [
       "<div>\n",
       "<style>\n",
       "    .dataframe thead tr:only-child th {\n",
       "        text-align: right;\n",
       "    }\n",
       "\n",
       "    .dataframe thead th {\n",
       "        text-align: left;\n",
       "    }\n",
       "\n",
       "    .dataframe tbody tr th {\n",
       "        vertical-align: top;\n",
       "    }\n",
       "</style>\n",
       "<table border=\"1\" class=\"dataframe\">\n",
       "  <thead>\n",
       "    <tr style=\"text-align: right;\">\n",
       "      <th></th>\n",
       "      <th>magnitude</th>\n",
       "      <th>units</th>\n",
       "    </tr>\n",
       "  </thead>\n",
       "  <tbody>\n",
       "    <tr>\n",
       "      <th>g</th>\n",
       "      <td>0.829000</td>\n",
       "      <td>force_ton / meter ** 2</td>\n",
       "    </tr>\n",
       "    <tr>\n",
       "      <th>lx</th>\n",
       "      <td>6.600000</td>\n",
       "      <td>meter</td>\n",
       "    </tr>\n",
       "    <tr>\n",
       "      <th>$k_{xm}$</th>\n",
       "      <td>0.041700</td>\n",
       "      <td>force_ton</td>\n",
       "    </tr>\n",
       "    <tr>\n",
       "      <th>$M_{xm}$</th>\n",
       "      <td>1.505839</td>\n",
       "      <td>force_ton ** 2</td>\n",
       "    </tr>\n",
       "    <tr>\n",
       "      <th>$k_{ym}$</th>\n",
       "      <td>0.069000</td>\n",
       "      <td>force_ton</td>\n",
       "    </tr>\n",
       "    <tr>\n",
       "      <th>$M_{ym}$</th>\n",
       "      <td>2.491676</td>\n",
       "      <td>force_ton ** 2</td>\n",
       "    </tr>\n",
       "    <tr>\n",
       "      <th>$k_{xe}$</th>\n",
       "      <td>-0.083300</td>\n",
       "      <td>force_ton</td>\n",
       "    </tr>\n",
       "    <tr>\n",
       "      <th>$M_{xe}$</th>\n",
       "      <td>-3.008066</td>\n",
       "      <td>force_ton ** 2</td>\n",
       "    </tr>\n",
       "  </tbody>\n",
       "</table>\n",
       "</div>"
      ],
      "text/plain": [
       "          magnitude                   units\n",
       "g          0.829000  force_ton / meter ** 2\n",
       "lx         6.600000                   meter\n",
       "$k_{xm}$   0.041700               force_ton\n",
       "$M_{xm}$   1.505839          force_ton ** 2\n",
       "$k_{ym}$   0.069000               force_ton\n",
       "$M_{ym}$   2.491676          force_ton ** 2\n",
       "$k_{xe}$  -0.083300               force_ton\n",
       "$M_{xe}$  -3.008066          force_ton ** 2"
      ]
     },
     "execution_count": 111,
     "metadata": {},
     "output_type": "execute_result"
    }
   ],
   "source": [
    "kxm = 0.0417 * u.ton_force\n",
    "mxm = kxm * g * lx**2\n",
    "\n",
    "kym = 0.069 * u.ton_force\n",
    "mym = kym * g * lx**2\n",
    "\n",
    "kxe = -0.0833 * u.ton_force\n",
    "mxe = kxe * g * lx**2\n",
    "\n",
    "df2 = pd.DataFrame([\n",
    "    [g.magnitude, g.units],\n",
    "    [lx.magnitude, lx.units],\n",
    "        [kxm.magnitude, kxm.units],\n",
    "    [mxm.magnitude, mxm.units],\n",
    "        [kym.magnitude, kym.units],\n",
    "    [mym.magnitude, mym.units],\n",
    "        [kxe.magnitude, kxe.units],\n",
    "    [mxe.magnitude, mxe.units]\n",
    "],\n",
    "    columns=['magnitude', 'units'],\n",
    "    index=['g','lx','$k_{xm}$','$M_{xm}$','$k_{ym}$','$M_{ym}$','$k_{xe}$', '$M_{xe}$']\n",
    ")\n",
    "df2\n"
   ]
  },
  {
   "cell_type": "markdown",
   "metadata": {},
   "source": [
    "## ???????\n",
    "\n",
    "## Direção transversal"
   ]
  },
  {
   "cell_type": "markdown",
   "metadata": {},
   "source": [
    "### DMF permanente"
   ]
  },
  {
   "cell_type": "markdown",
   "metadata": {},
   "source": [
    "### Seção transversal"
   ]
  },
  {
   "cell_type": "markdown",
   "metadata": {},
   "source": [
    "<img src=\"pontes/images/1.4.2.jpg\" width=\"400\" />"
   ]
  },
  {
   "cell_type": "markdown",
   "metadata": {},
   "source": [
    "### Momentos fletores nas seções de cálculo devido a carga permanente"
   ]
  },
  {
   "cell_type": "markdown",
   "metadata": {},
   "source": [
    "<img src=\"pontes/images/1.4.3.jpg\" width=\"300\" />"
   ]
  },
  {
   "cell_type": "markdown",
   "metadata": {},
   "source": [
    "### Momento fletor na seção de cálculo, devido carga móvel"
   ]
  },
  {
   "cell_type": "markdown",
   "metadata": {},
   "source": [
    "### Coeficiente de impacto vertical"
   ]
  },
  {
   "cell_type": "markdown",
   "metadata": {},
   "source": [
    "### Envoltório momento fletor"
   ]
  },
  {
   "cell_type": "markdown",
   "metadata": {},
   "source": [
    "### DImensionamento ao momento fletor"
   ]
  },
  {
   "cell_type": "markdown",
   "metadata": {},
   "source": [
    "<img src=\"pontes/images/1.4.7.jpg\" width=\"300\" />"
   ]
  },
  {
   "cell_type": "markdown",
   "metadata": {},
   "source": [
    "#### Momentos positivos"
   ]
  },
  {
   "cell_type": "markdown",
   "metadata": {},
   "source": [
    "#### Momentos negativos"
   ]
  },
  {
   "cell_type": "markdown",
   "metadata": {},
   "source": [
    "#### Momento positivos - Verificação fadiga"
   ]
  },
  {
   "cell_type": "markdown",
   "metadata": {},
   "source": [
    "#### Momentos negativos - Verificação fadiga"
   ]
  },
  {
   "cell_type": "markdown",
   "metadata": {},
   "source": [
    "#### Resumo armadura positiva"
   ]
  },
  {
   "cell_type": "markdown",
   "metadata": {},
   "source": [
    "#### Resumo armadura negativa"
   ]
  },
  {
   "cell_type": "markdown",
   "metadata": {},
   "source": [
    "## Direção longitudinal"
   ]
  },
  {
   "cell_type": "markdown",
   "metadata": {},
   "source": [
    "### Envoltorio dos momentos fletores"
   ]
  },
  {
   "cell_type": "markdown",
   "metadata": {},
   "source": [
    "<img src=\"pontes/images/1.5.1.jpg\" width=\"80%\" />"
   ]
  },
  {
   "cell_type": "markdown",
   "metadata": {},
   "source": [
    "# ????"
   ]
  },
  {
   "cell_type": "markdown",
   "metadata": {},
   "source": [
    "## ???"
   ]
  },
  {
   "cell_type": "markdown",
   "metadata": {},
   "source": [
    "## Cargas permanentes"
   ]
  },
  {
   "cell_type": "markdown",
   "metadata": {},
   "source": [
    "### Cálculo das cargas"
   ]
  },
  {
   "cell_type": "markdown",
   "metadata": {},
   "source": [
    "### Momentos fletores nas seções de cálculo, devido a carga permanente"
   ]
  },
  {
   "cell_type": "markdown",
   "metadata": {},
   "source": [
    "### Seção $S_1$"
   ]
  },
  {
   "cell_type": "markdown",
   "metadata": {},
   "source": [
    "### Seção $S_2$"
   ]
  },
  {
   "cell_type": "markdown",
   "metadata": {},
   "source": [
    "### Seção $S_3$"
   ]
  },
  {
   "cell_type": "markdown",
   "metadata": {},
   "source": [
    "## Cargas móveis"
   ]
  },
  {
   "cell_type": "markdown",
   "metadata": {},
   "source": [
    "### Momento fletor nas seções de cálculo, devido a carga móvel"
   ]
  },
  {
   "cell_type": "markdown",
   "metadata": {},
   "source": [
    "#### Direção transversal ('x')"
   ]
  },
  {
   "cell_type": "markdown",
   "metadata": {},
   "source": [
    "#### Direção longitudinal ('y')"
   ]
  },
  {
   "cell_type": "markdown",
   "metadata": {},
   "source": [
    "## Direção transversal ('x')"
   ]
  },
  {
   "cell_type": "markdown",
   "metadata": {},
   "source": [
    "### Coeficiente de impacto vertical"
   ]
  },
  {
   "cell_type": "markdown",
   "metadata": {},
   "source": [
    "### Envoltório dos momentos fletores"
   ]
  },
  {
   "cell_type": "markdown",
   "metadata": {},
   "source": [
    "### Dimensionamento aos momentos fletores - direção ('y')"
   ]
  },
  {
   "cell_type": "markdown",
   "metadata": {},
   "source": [
    "<img src=\"pontes/images/2.4.3.jpg\" width=\"80%\" />"
   ]
  },
  {
   "cell_type": "markdown",
   "metadata": {},
   "source": [
    "<img src=\"pontes/images/2.4.3.1.jpg\" width=\"80%\" />"
   ]
  },
  {
   "cell_type": "markdown",
   "metadata": {},
   "source": [
    "# Cálculo da viga principal"
   ]
  },
  {
   "cell_type": "markdown",
   "metadata": {},
   "source": [
    "## Esquema estrutural e seções de cálculo"
   ]
  },
  {
   "cell_type": "markdown",
   "metadata": {},
   "source": [
    "<img src=\"pontes/images/3.1.jpg\" width=\"60%\" />"
   ]
  },
  {
   "cell_type": "markdown",
   "metadata": {},
   "source": [
    "## Carga permanente"
   ]
  },
  {
   "cell_type": "markdown",
   "metadata": {},
   "source": [
    "### Cálculo das cargas permamentes"
   ]
  },
  {
   "cell_type": "markdown",
   "metadata": {},
   "source": [
    "#### Peso próprio da viga"
   ]
  },
  {
   "cell_type": "markdown",
   "metadata": {},
   "source": [
    "<img src=\"pontes/images/3.2.1.1.jpg\" width=\"300\" />"
   ]
  },
  {
   "cell_type": "markdown",
   "metadata": {},
   "source": [
    "#### Laje central"
   ]
  },
  {
   "cell_type": "markdown",
   "metadata": {},
   "source": [
    "<img src=\"pontes/images/3.2.1.2.jpg\" width=\"600\" />"
   ]
  },
  {
   "cell_type": "markdown",
   "metadata": {},
   "source": [
    "#### Laje em balanço"
   ]
  },
  {
   "cell_type": "markdown",
   "metadata": {},
   "source": [
    "#### Carga uniformemente distribuída"
   ]
  },
  {
   "cell_type": "markdown",
   "metadata": {},
   "source": [
    "<img src=\"pontes/images/3.2.1.4.jpg\" width=\"500\" />"
   ]
  },
  {
   "cell_type": "markdown",
   "metadata": {},
   "source": [
    "#### Carga concentrada sobre os apoios devido o peso do alargamento"
   ]
  },
  {
   "cell_type": "markdown",
   "metadata": {},
   "source": [
    "#### Carga concentrada nos vãos devido o peso próprio das transversinas intermediárias"
   ]
  },
  {
   "cell_type": "markdown",
   "metadata": {},
   "source": [
    "<img src=\"pontes/images/3.2.1.6.jpg\" width=\"500\" />"
   ]
  },
  {
   "cell_type": "markdown",
   "metadata": {},
   "source": [
    "#### Carga concentrada nos apoios devido o peso próprio das transversinas"
   ]
  },
  {
   "cell_type": "markdown",
   "metadata": {},
   "source": [
    "<img src=\"pontes/images/3.2.1.7.jpg\" width=\"80%\" />"
   ]
  },
  {
   "cell_type": "markdown",
   "metadata": {},
   "source": [
    "#### ????????"
   ]
  },
  {
   "cell_type": "markdown",
   "metadata": {},
   "source": [
    "#### Carga concentrada no externo do balanço devido ao peso próprio da ?????"
   ]
  },
  {
   "cell_type": "markdown",
   "metadata": {},
   "source": [
    "<img src=\"pontes/images/3.2.1.9.jpg\" width=\"300\" />"
   ]
  },
  {
   "cell_type": "markdown",
   "metadata": {},
   "source": [
    "#### Carga concentrada no extremo do balanço devido a laje de transição (placa da aproximação)"
   ]
  },
  {
   "cell_type": "markdown",
   "metadata": {},
   "source": [
    "<img src=\"pontes/images/3.2.1.10.jpg\" width=\"300\" />"
   ]
  },
  {
   "cell_type": "markdown",
   "metadata": {},
   "source": [
    "### Esquema da viga principal **SEM** laje de transição"
   ]
  },
  {
   "cell_type": "markdown",
   "metadata": {},
   "source": [
    "<img src=\"pontes/images/3.2.2.jpg\" width=\"80%\" />"
   ]
  },
  {
   "cell_type": "markdown",
   "metadata": {},
   "source": [
    "### Esquema da viga principal **COM** laje de transição"
   ]
  },
  {
   "cell_type": "markdown",
   "metadata": {},
   "source": [
    "<img src=\"pontes/images/3.2.3.jpg\" width=\"80%\" />"
   ]
  },
  {
   "cell_type": "markdown",
   "metadata": {},
   "source": [
    "### Momento fletor e esforços cortantes nas seções de cálculo, devido a carga permanente com a laje de transição"
   ]
  },
  {
   "cell_type": "markdown",
   "metadata": {},
   "source": [
    "## Cargas móveis"
   ]
  },
  {
   "cell_type": "markdown",
   "metadata": {},
   "source": [
    "### Coeficiente de impacto vertical"
   ]
  },
  {
   "cell_type": "markdown",
   "metadata": {},
   "source": [
    "### Determinação do trem tipo real, sem impacto"
   ]
  },
  {
   "cell_type": "markdown",
   "metadata": {},
   "source": [
    "<img src=\"pontes/images/3.3.2.jpg\" width=\"300\" />"
   ]
  },
  {
   "cell_type": "markdown",
   "metadata": {},
   "source": [
    "### Determinação do veículo tipo *SIMPLIFICADO* sem impacto"
   ]
  },
  {
   "cell_type": "markdown",
   "metadata": {},
   "source": [
    "### Determinação do trem tipo"
   ]
  },
  {
   "cell_type": "markdown",
   "metadata": {},
   "source": [
    "### Momento fletor nas seções devido a carga móvel"
   ]
  },
  {
   "cell_type": "markdown",
   "metadata": {},
   "source": []
  },
  {
   "cell_type": "markdown",
   "metadata": {},
   "source": []
  },
  {
   "cell_type": "markdown",
   "metadata": {},
   "source": []
  },
  {
   "cell_type": "markdown",
   "metadata": {},
   "source": []
  },
  {
   "cell_type": "markdown",
   "metadata": {},
   "source": []
  },
  {
   "cell_type": "markdown",
   "metadata": {},
   "source": []
  },
  {
   "cell_type": "markdown",
   "metadata": {},
   "source": []
  },
  {
   "cell_type": "markdown",
   "metadata": {},
   "source": []
  },
  {
   "cell_type": "markdown",
   "metadata": {},
   "source": []
  },
  {
   "cell_type": "markdown",
   "metadata": {},
   "source": []
  },
  {
   "cell_type": "markdown",
   "metadata": {},
   "source": []
  },
  {
   "cell_type": "markdown",
   "metadata": {},
   "source": []
  },
  {
   "cell_type": "markdown",
   "metadata": {},
   "source": []
  },
  {
   "cell_type": "markdown",
   "metadata": {},
   "source": []
  }
 ],
 "metadata": {
  "kernelspec": {
   "display_name": "Python 3",
   "language": "python",
   "name": "python3"
  },
  "language_info": {
   "codemirror_mode": {
    "name": "ipython",
    "version": 3
   },
   "file_extension": ".py",
   "mimetype": "text/x-python",
   "name": "python",
   "nbconvert_exporter": "python",
   "pygments_lexer": "ipython3",
   "version": "3.5.2"
  },
  "latex_envs": {
   "LaTeX_envs_menu_present": true,
   "autocomplete": true,
   "bibliofile": "biblio.bib",
   "cite_by": "apalike",
   "current_citInitial": 1,
   "eqLabelWithNumbers": true,
   "eqNumInitial": 1,
   "hotkeys": {
    "equation": "Ctrl-E",
    "itemize": "Ctrl-I"
   },
   "labels_anchors": false,
   "latex_user_defs": false,
   "report_style_numbering": false,
   "user_envs_cfg": false
  },
  "toc": {
   "nav_menu": {},
   "number_sections": true,
   "sideBar": false,
   "skip_h1_title": false,
   "toc_cell": false,
   "toc_position": {
    "height": "286px",
    "left": "2px",
    "right": "20px",
    "top": "115px",
    "width": "212px"
   },
   "toc_section_display": "block",
   "toc_window_display": true
  },
  "varInspector": {
   "cols": {
    "lenName": 16,
    "lenType": 16,
    "lenVar": 40
   },
   "kernels_config": {
    "python": {
     "delete_cmd_postfix": "",
     "delete_cmd_prefix": "del ",
     "library": "var_list.py",
     "varRefreshCmd": "print(var_dic_list())"
    },
    "r": {
     "delete_cmd_postfix": ") ",
     "delete_cmd_prefix": "rm(",
     "library": "var_list.r",
     "varRefreshCmd": "cat(var_dic_list()) "
    }
   },
   "oldHeight": 341,
   "position": {
    "height": "363px",
    "left": "792px",
    "right": "20px",
    "top": "31px",
    "width": "480px"
   },
   "types_to_exclude": [
    "module",
    "function",
    "builtin_function_or_method",
    "instance",
    "_Feature"
   ],
   "varInspector_section_display": "block",
   "window_display": false
  }
 },
 "nbformat": 4,
 "nbformat_minor": 2
}
