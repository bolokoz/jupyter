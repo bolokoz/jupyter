{
 "cells": [
  {
   "cell_type": "markdown",
   "metadata": {
    "toc": "true"
   },
   "source": [
    " # Table of Contents\n",
    "<div class=\"toc\" style=\"margin-top: 1em;\"><ul class=\"toc-item\" id=\"toc-level0\"><li><span><a href=\"http://localhost:8888/notebooks/Klassen/Estradas_1/Estradas_1.ipynb#Curva-horizontal\" data-toc-modified-id=\"Curva-horizontal-1\"><span class=\"toc-item-num\">1&nbsp;&nbsp;</span>Curva horizontal</a></span><ul class=\"toc-item\"><li><span><a href=\"http://localhost:8888/notebooks/Klassen/Estradas_1/Estradas_1.ipynb#Curva-circular-simples\" data-toc-modified-id=\"Curva-circular-simples-1.1\"><span class=\"toc-item-num\">1.1&nbsp;&nbsp;</span>Curva circular simples</a></span><ul class=\"toc-item\"><li><span><a href=\"http://localhost:8888/notebooks/Klassen/Estradas_1/Estradas_1.ipynb#Tangente-externa\" data-toc-modified-id=\"Tangente-externa-1.1.1\"><span class=\"toc-item-num\">1.1.1&nbsp;&nbsp;</span>Tangente externa</a></span></li><li><span><a href=\"http://localhost:8888/notebooks/Klassen/Estradas_1/Estradas_1.ipynb#Grau-da-curva\" data-toc-modified-id=\"Grau-da-curva-1.1.2\"><span class=\"toc-item-num\">1.1.2&nbsp;&nbsp;</span>Grau da curva</a></span></li><li><span><a href=\"http://localhost:8888/notebooks/Klassen/Estradas_1/Estradas_1.ipynb#Desenvolvimento---comprimento-do-arco\" data-toc-modified-id=\"Desenvolvimento---comprimento-do-arco-1.1.3\"><span class=\"toc-item-num\">1.1.3&nbsp;&nbsp;</span>Desenvolvimento - comprimento do arco</a></span></li><li><span><a href=\"http://localhost:8888/notebooks/Klassen/Estradas_1/Estradas_1.ipynb#Deflexão\" data-toc-modified-id=\"Deflexão-1.1.4\"><span class=\"toc-item-num\">1.1.4&nbsp;&nbsp;</span>Deflexão</a></span><ul class=\"toc-item\"><li><span><a href=\"http://localhost:8888/notebooks/Klassen/Estradas_1/Estradas_1.ipynb#Exercicio-1\" data-toc-modified-id=\"Exercicio-1-1.1.4.1\"><span class=\"toc-item-num\">1.1.4.1&nbsp;&nbsp;</span>Exercicio 1</a></span></li></ul></li></ul></li><li><span><a href=\"http://localhost:8888/notebooks/Klassen/Estradas_1/Estradas_1.ipynb#Curva-de-transição\" data-toc-modified-id=\"Curva-de-transição-1.2\"><span class=\"toc-item-num\">1.2&nbsp;&nbsp;</span>Curva de transição</a></span><ul class=\"toc-item\"><li><span><a href=\"http://localhost:8888/notebooks/Klassen/Estradas_1/Estradas_1.ipynb#Exemplo-1\" data-toc-modified-id=\"Exemplo-1-1.2.1\"><span class=\"toc-item-num\">1.2.1&nbsp;&nbsp;</span>Exemplo 1</a></span></li><li><span><a href=\"http://localhost:8888/notebooks/Klassen/Estradas_1/Estradas_1.ipynb#Super-funcao\" data-toc-modified-id=\"Super-funcao-1.2.2\"><span class=\"toc-item-num\">1.2.2&nbsp;&nbsp;</span>Super funcao</a></span></li><li><span><a href=\"http://localhost:8888/notebooks/Klassen/Estradas_1/Estradas_1.ipynb#Locação\" data-toc-modified-id=\"Locação-1.2.3\"><span class=\"toc-item-num\">1.2.3&nbsp;&nbsp;</span>Locação</a></span></li><li><span><a href=\"http://localhost:8888/notebooks/Klassen/Estradas_1/Estradas_1.ipynb#Exemplo-1---tabela-de-locacao\" data-toc-modified-id=\"Exemplo-1---tabela-de-locacao-1.2.4\"><span class=\"toc-item-num\">1.2.4&nbsp;&nbsp;</span>Exemplo 1 - tabela de locacao</a></span></li></ul></li></ul></li></ul></div>"
   ]
  },
  {
   "cell_type": "code",
   "execution_count": 14,
   "metadata": {
    "collapsed": true
   },
   "outputs": [],
   "source": [
    "import pint\n",
    "u = pint.UnitRegistry()\n",
    "import numpy as np"
   ]
  },
  {
   "cell_type": "markdown",
   "metadata": {},
   "source": [
    "# Curva horizontal"
   ]
  },
  {
   "cell_type": "markdown",
   "metadata": {},
   "source": [
    "## Curva circular simples"
   ]
  },
  {
   "cell_type": "markdown",
   "metadata": {},
   "source": [
    "### Tangente externa\n",
    "\n",
    "$$T = R \\cdot tan (\\frac{AC}{2})$$\n",
    "- T (metros): comprimento da tangente externa\n",
    "- R (metros): raio da curva\n",
    "- AC (radianos): angulo da curva central"
   ]
  },
  {
   "cell_type": "code",
   "execution_count": 15,
   "metadata": {
    "collapsed": true
   },
   "outputs": [],
   "source": [
    "def t(raio_metros,anguloCentral_radianos):\n",
    "    \"\"\"Tangente Externa\n",
    "    args:\n",
    "        r (metros): raio da curva\n",
    "        AC (radianos): angulo central da curva\n",
    "    \"\"\"\n",
    "    return raio_metros*tan((anguloCentral_radianos/2))"
   ]
  },
  {
   "cell_type": "markdown",
   "metadata": {},
   "source": [
    "### Grau da curva\n",
    "\n",
    "\n",
    "$$G = \\frac{180 \\cdot c}{\\pi \\cdot R}$$\n",
    "\n",
    "- c (metros): comprimento de corda\n",
    "- R (metros): raio da curva\n",
    "\n",
    "**Deve ser múltiplo de 40'**\n",
    "1. Adotar raio provisório\n",
    "2. Determinar grau de curva e arredondar para múltiplo de 40'\n",
    "3. Agora pode-se achar raio verdadeiro\n"
   ]
  },
  {
   "cell_type": "code",
   "execution_count": 110,
   "metadata": {},
   "outputs": [],
   "source": [
    "def dd2dms(deg):\n",
    "    \"\"\"Transforma grau decimal em graus minutos e segundos\n",
    "    \"\"\"\n",
    "    d = int(deg)\n",
    "    md = abs(deg - d) * 60\n",
    "    m = int(md)\n",
    "    sd = (md - m) * 60\n",
    "    return [d, m, sd]\n",
    "\n",
    "def dd2ms(deg):\n",
    "    \"\"\"Transforma grau decimal em apenas minutos e segundos\n",
    "    \"\"\"\n",
    "    d = int(deg) * 60\n",
    "    md = abs(deg - int(deg))\n",
    "    m = int(md)\n",
    "    sd = (md - m) * 60\n",
    "    return d+ sd\n",
    "\n",
    "def ms2dd(minutes, seconds):\n",
    "    \"\"\"Transforma minutos para graus decimais\n",
    "    \"\"\"\n",
    "    dd = float(minutes)/60 + float(seconds)/(60*60)\n",
    "    return dd\n",
    "\n",
    "def G(corda_metros, raio_metros):\n",
    "    \"\"\"Grau da curva em radianos\n",
    "    args:\n",
    "        corda (metros): comprimento da corda\n",
    "        raio (metros): raio da curva\n",
    "    \"\"\"\n",
    "    return (180 * u.degree * corda_metros / (np.pi * raio_metros))\n",
    "    "
   ]
  },
  {
   "cell_type": "markdown",
   "metadata": {},
   "source": [
    "### Desenvolvimento - comprimento do arco\n",
    "\n",
    "$$D = \\frac{AC \\cdot \\pi \\cdot R}{180}$$\n",
    "\n",
    "Comprimento em metros do PC (ponto de curva) até PT (ponto de tangente)"
   ]
  },
  {
   "cell_type": "code",
   "execution_count": 17,
   "metadata": {
    "collapsed": true
   },
   "outputs": [],
   "source": [
    "def D(anguloCentral_graus, raio_metros):\n",
    "    \"\"\"Comprimento em metros do arco\n",
    "    \"\"\"\n",
    "    return anguloCentral_graus*np.pi*raio_metros/180"
   ]
  },
  {
   "cell_type": "markdown",
   "metadata": {},
   "source": [
    "### Deflexão\n",
    "\n",
    "Primeira deflexão\n",
    "$$ds_1 = (20 - a) \\cdot \\frac{G}{2c}$$\n",
    "\n",
    "Demais deflexões\n",
    "$$ds_n = b \\cdot \\frac{G}{2c}$$"
   ]
  },
  {
   "cell_type": "code",
   "execution_count": null,
   "metadata": {
    "collapsed": true
   },
   "outputs": [],
   "source": []
  },
  {
   "cell_type": "markdown",
   "metadata": {},
   "source": [
    "#### Exercicio 1\n",
    "Angulo curva = 46\n",
    "\n",
    "Raio entre 100 e 600 metros\n",
    "\n",
    "P1 = 145 + 2.4"
   ]
  },
  {
   "cell_type": "code",
   "execution_count": 18,
   "metadata": {
    "collapsed": true
   },
   "outputs": [],
   "source": [
    "AC = 46 * u.degree\n",
    "R = 100 * u.meter"
   ]
  },
  {
   "cell_type": "markdown",
   "metadata": {},
   "source": [
    "Como o raio está entre 600 e 100, adotar corda de 10.\n",
    "Determinar Grau provisório múltiplo de 40."
   ]
  },
  {
   "cell_type": "code",
   "execution_count": 19,
   "metadata": {
    "scrolled": true
   },
   "outputs": [
    {
     "data": {
      "text/html": [
       "5.729577951308232 degree"
      ],
      "text/latex": [
       "$5.729577951308232\\ \\mathrm{degree}$"
      ],
      "text/plain": [
       "<Quantity(5.729577951308232, 'degree')>"
      ]
     },
     "execution_count": 19,
     "metadata": {},
     "output_type": "execute_result"
    }
   ],
   "source": [
    "c = 10 * u.meter\n",
    "G10_ = G(c,R)\n",
    "G10_"
   ]
  },
  {
   "cell_type": "markdown",
   "metadata": {},
   "source": [
    "Arredondando para multiplo de 40"
   ]
  },
  {
   "cell_type": "code",
   "execution_count": 20,
   "metadata": {},
   "outputs": [
    {
     "name": "stdout",
     "output_type": "stream",
     "text": [
      "343.77467707849394 minutos\n"
     ]
    }
   ],
   "source": [
    "print(dd2ms(G10_.magnitude),\"minutos\")"
   ]
  },
  {
   "cell_type": "markdown",
   "metadata": {},
   "source": [
    "Adotar 320 minutos, que equivale em graus a:"
   ]
  },
  {
   "cell_type": "code",
   "execution_count": 21,
   "metadata": {},
   "outputs": [
    {
     "name": "stdout",
     "output_type": "stream",
     "text": [
      "5.333333333333333 graus decimais \n",
      " [5, 19, 59.999999999998934] graus minutos segundos\n"
     ]
    }
   ],
   "source": [
    "dd = ms2dd(320,0)\n",
    "dms = dd2dms(dd)\n",
    "print(\"{} graus decimais \\n {} graus minutos segundos\".format(dd,dms))"
   ]
  },
  {
   "cell_type": "markdown",
   "metadata": {},
   "source": [
    "Achar o raio utilizado"
   ]
  },
  {
   "cell_type": "code",
   "execution_count": 22,
   "metadata": {},
   "outputs": [
    {
     "data": {
      "text/html": [
       "107.42958658702936 meter"
      ],
      "text/latex": [
       "$107.42958658702936\\ \\mathrm{meter}$"
      ],
      "text/plain": [
       "<Quantity(107.42958658702936, 'meter')>"
      ]
     },
     "execution_count": 22,
     "metadata": {},
     "output_type": "execute_result"
    }
   ],
   "source": [
    "R = (180 * c) / (np.pi * dd)\n",
    "R"
   ]
  },
  {
   "cell_type": "code",
   "execution_count": 23,
   "metadata": {},
   "outputs": [
    {
     "data": {
      "text/html": [
       "86.25 degree meter"
      ],
      "text/latex": [
       "$86.25\\ \\mathrm{degree} \\cdot \\mathrm{meter}$"
      ],
      "text/plain": [
       "<Quantity(86.25, 'degree * meter')>"
      ]
     },
     "execution_count": 23,
     "metadata": {},
     "output_type": "execute_result"
    }
   ],
   "source": [
    "d = D(AC, R)\n",
    "d"
   ]
  },
  {
   "cell_type": "markdown",
   "metadata": {
    "collapsed": true
   },
   "source": [
    "## Curva de transição"
   ]
  },
  {
   "cell_type": "markdown",
   "metadata": {},
   "source": [
    "Em uma curva de raio constante a aceleração centrífuga é constante e atua logo que o motorista entra na curva.\n",
    "A curva de transição serve para fazer com que o motorista sinta a aceleração centrífuga aumentar aos poucos.\n",
    "Portanto a curva de transição possui um raio que muda constantemente (uma espiral).\n",
    "\n",
    "A taxa de crescimento de aceleração centrífuga adotada ideal é $0,6 \\frac{m}{s^3}$ e com isso pode-se obter o comprimento do arco a partir da velocidade e o R do trecho curvo central.\n",
    "$Ls_{min} = 0,036 \\dfrac{V^3}{R_c}$"
   ]
  },
  {
   "cell_type": "markdown",
   "metadata": {},
   "source": [
    "O $Ls_{adotado}$ deve ser de preferência $ (Ls_{min} + Ls_{max}) /2 $ ou $3 \\cdot Ls_{min}$. Como o veículo deve permanecer no trecho de transição por 2 segundos, pode-se determinar que\n",
    "\n",
    "$$Ls_{min} = 0.556 \\cdot V$$\n",
    "\n",
    "- V em km/h"
   ]
  },
  {
   "cell_type": "markdown",
   "metadata": {},
   "source": [
    "O $Ls_{max}$ seria onde as espirais se encontrassem ($R_c = 0$) poranto:\n",
    "\n",
    "$$Ls_{max} = \\dfrac{R_c \\cdot \\Delta \\cdot \\pi}{180°}$$\n",
    "\n",
    "- R em metros\n",
    "- $\\Delta$ em graus"
   ]
  },
  {
   "cell_type": "markdown",
   "metadata": {},
   "source": [
    "O angulo de transicao $\\theta_s$:\n",
    "\n",
    "$$\\theta_s = \\dfrac{Ls_{adotadp}}{2 \\cdot R_c}$$\n",
    "\n",
    "- $\\theta_s$ em rad"
   ]
  },
  {
   "cell_type": "markdown",
   "metadata": {},
   "source": [
    "### Exemplo 1"
   ]
  },
  {
   "cell_type": "code",
   "execution_count": 8,
   "metadata": {},
   "outputs": [
    {
     "data": {
      "text/html": [
       "<div>\n",
       "<style>\n",
       "    .dataframe thead tr:only-child th {\n",
       "        text-align: right;\n",
       "    }\n",
       "\n",
       "    .dataframe thead th {\n",
       "        text-align: left;\n",
       "    }\n",
       "\n",
       "    .dataframe tbody tr th {\n",
       "        vertical-align: top;\n",
       "    }\n",
       "</style>\n",
       "<table border=\"1\" class=\"dataframe\">\n",
       "  <thead>\n",
       "    <tr style=\"text-align: right;\">\n",
       "      <th></th>\n",
       "      <th>0</th>\n",
       "    </tr>\n",
       "  </thead>\n",
       "  <tbody>\n",
       "    <tr>\n",
       "      <th>V</th>\n",
       "      <td>80</td>\n",
       "    </tr>\n",
       "    <tr>\n",
       "      <th>Rc</th>\n",
       "      <td>500</td>\n",
       "    </tr>\n",
       "    <tr>\n",
       "      <th>EPI</th>\n",
       "      <td>4577</td>\n",
       "    </tr>\n",
       "    <tr>\n",
       "      <th>delta</th>\n",
       "      <td>35</td>\n",
       "    </tr>\n",
       "  </tbody>\n",
       "</table>\n",
       "</div>"
      ],
      "text/plain": [
       "          0\n",
       "V        80\n",
       "Rc      500\n",
       "EPI    4577\n",
       "delta    35"
      ]
     },
     "execution_count": 8,
     "metadata": {},
     "output_type": "execute_result"
    }
   ],
   "source": [
    "# Dados iniciais\n",
    "V = 80 #km/h\n",
    "Rc = 500 #m\n",
    "EPI = 228 * 20 + 17 #metros ou 228 (estacas) + 17\n",
    "delta = 35 # graus\n",
    "\n",
    "# importar bibliotecas\n",
    "import numpy as np\n",
    "import pandas as pd\n",
    "\n",
    "delta_rad = np.deg2rad(delta)\n",
    "df = pd.DataFrame(\n",
    "    [V, Rc, EPI, delta],\n",
    "    [\"V\", 'Rc', 'EPI', 'delta']\n",
    ")\n",
    "df"
   ]
  },
  {
   "cell_type": "code",
   "execution_count": 13,
   "metadata": {},
   "outputs": [
    {
     "data": {
      "text/html": [
       "<div>\n",
       "<style>\n",
       "    .dataframe thead tr:only-child th {\n",
       "        text-align: right;\n",
       "    }\n",
       "\n",
       "    .dataframe thead th {\n",
       "        text-align: left;\n",
       "    }\n",
       "\n",
       "    .dataframe tbody tr th {\n",
       "        vertical-align: top;\n",
       "    }\n",
       "</style>\n",
       "<table border=\"1\" class=\"dataframe\">\n",
       "  <thead>\n",
       "    <tr style=\"text-align: right;\">\n",
       "      <th></th>\n",
       "      <th>0</th>\n",
       "    </tr>\n",
       "  </thead>\n",
       "  <tbody>\n",
       "    <tr>\n",
       "      <th>ls min</th>\n",
       "      <td>44.480000</td>\n",
       "    </tr>\n",
       "    <tr>\n",
       "      <th>ls max</th>\n",
       "      <td>305.432619</td>\n",
       "    </tr>\n",
       "    <tr>\n",
       "      <th>(ls_min + ls_max)/2</th>\n",
       "      <td>174.956310</td>\n",
       "    </tr>\n",
       "    <tr>\n",
       "      <th>3*ls_min</th>\n",
       "      <td>133.440000</td>\n",
       "    </tr>\n",
       "  </tbody>\n",
       "</table>\n",
       "</div>"
      ],
      "text/plain": [
       "                              0\n",
       "ls min                44.480000\n",
       "ls max               305.432619\n",
       "(ls_min + ls_max)/2  174.956310\n",
       "3*ls_min             133.440000"
      ]
     },
     "execution_count": 13,
     "metadata": {},
     "output_type": "execute_result"
    }
   ],
   "source": [
    "# determinar comprimento de arco min e max\n",
    "ls_min = 0.556*V\n",
    "ls_max = Rc * delta * np.pi / 180\n",
    "\n",
    "# tabela com dados obtidos\n",
    "df = pd.DataFrame(\n",
    "    [ls_min, ls_max, (ls_min+ls_max)/2, 3*ls_min],\n",
    "    [\"ls min\", 'ls max', '(ls_min + ls_max)/2', '3*ls_min'])\n",
    "df"
   ]
  },
  {
   "cell_type": "code",
   "execution_count": 125,
   "metadata": {},
   "outputs": [
    {
     "data": {
      "text/html": [
       "<div>\n",
       "<style>\n",
       "    .dataframe thead tr:only-child th {\n",
       "        text-align: right;\n",
       "    }\n",
       "\n",
       "    .dataframe thead th {\n",
       "        text-align: left;\n",
       "    }\n",
       "\n",
       "    .dataframe tbody tr th {\n",
       "        vertical-align: top;\n",
       "    }\n",
       "</style>\n",
       "<table border=\"1\" class=\"dataframe\">\n",
       "  <thead>\n",
       "    <tr style=\"text-align: right;\">\n",
       "      <th></th>\n",
       "      <th>0</th>\n",
       "    </tr>\n",
       "  </thead>\n",
       "  <tbody>\n",
       "    <tr>\n",
       "      <th>ls</th>\n",
       "      <td>120.000000</td>\n",
       "    </tr>\n",
       "    <tr>\n",
       "      <th>theta</th>\n",
       "      <td>0.120000</td>\n",
       "    </tr>\n",
       "    <tr>\n",
       "      <th>x_s</th>\n",
       "      <td>119.827315</td>\n",
       "    </tr>\n",
       "    <tr>\n",
       "      <th>y_s</th>\n",
       "      <td>4.795063</td>\n",
       "    </tr>\n",
       "    <tr>\n",
       "      <th>phi</th>\n",
       "      <td>0.370865</td>\n",
       "    </tr>\n",
       "    <tr>\n",
       "      <th>D</th>\n",
       "      <td>185.432619</td>\n",
       "    </tr>\n",
       "    <tr>\n",
       "      <th>k</th>\n",
       "      <td>59.971212</td>\n",
       "    </tr>\n",
       "    <tr>\n",
       "      <th>p</th>\n",
       "      <td>1.199381</td>\n",
       "    </tr>\n",
       "    <tr>\n",
       "      <th>TT</th>\n",
       "      <td>217.998769</td>\n",
       "    </tr>\n",
       "    <tr>\n",
       "      <th>E</th>\n",
       "      <td>25.522148</td>\n",
       "    </tr>\n",
       "  </tbody>\n",
       "</table>\n",
       "</div>"
      ],
      "text/plain": [
       "                0\n",
       "ls     120.000000\n",
       "theta    0.120000\n",
       "x_s    119.827315\n",
       "y_s      4.795063\n",
       "phi      0.370865\n",
       "D      185.432619\n",
       "k       59.971212\n",
       "p        1.199381\n",
       "TT     217.998769\n",
       "E       25.522148"
      ]
     },
     "execution_count": 125,
     "metadata": {},
     "output_type": "execute_result"
    }
   ],
   "source": [
    "# adotar ls = 3*ls_min\n",
    "ls = 120\n",
    "\n",
    "# angulo de transicao\n",
    "theta = ls / (2 * Rc) #rad\n",
    "\n",
    "# coordenada X e Y do fim do arco\n",
    "x_s = ls * (1 - (theta**2)/10 + (theta**4)/216)\n",
    "y_s = ls * ((theta)/3  - (theta**3)/42)\n",
    "\n",
    "# angulo da curva central\n",
    "phi = np.deg2rad(delta) - 2*theta\n",
    "\n",
    "# comprimento do arco da curva central\n",
    "D = phi * Rc\n",
    "\n",
    "# ??\n",
    "k = x_s - Rc * np.sin(theta)\n",
    "p = y_s - Rc * (1 - np.cos(theta))\n",
    "\n",
    "# Tangente total -> distancia do comeco da curva transicao (TS - transition start) ate PI (ponto de inflexao ? lul)\n",
    "TT = k + (Rc + p) * np.tan(np.deg2rad(delta/2))\n",
    "\n",
    "# Distancia entre o raio da curva central e o PI\n",
    "E = ((Rc + p)/(np.cos(np.deg2rad(delta/2))))-Rc\n",
    "\n",
    "df = pd.DataFrame(\n",
    "    [ls, theta, x_s, y_s, phi, D, k, p, TT, E],\n",
    "    [\"ls\", 'theta', 'x_s', 'y_s', 'phi', 'D', 'k', 'p', 'TT', 'E'])\n",
    "df"
   ]
  },
  {
   "cell_type": "code",
   "execution_count": 24,
   "metadata": {
    "scrolled": true
   },
   "outputs": [
    {
     "data": {
      "text/html": [
       "<div>\n",
       "<style>\n",
       "    .dataframe thead tr:only-child th {\n",
       "        text-align: right;\n",
       "    }\n",
       "\n",
       "    .dataframe thead th {\n",
       "        text-align: left;\n",
       "    }\n",
       "\n",
       "    .dataframe tbody tr th {\n",
       "        vertical-align: top;\n",
       "    }\n",
       "</style>\n",
       "<table border=\"1\" class=\"dataframe\">\n",
       "  <thead>\n",
       "    <tr style=\"text-align: right;\">\n",
       "      <th></th>\n",
       "      <th>0</th>\n",
       "    </tr>\n",
       "  </thead>\n",
       "  <tbody>\n",
       "    <tr>\n",
       "      <th>ETS</th>\n",
       "      <td>217 + 11.41</td>\n",
       "    </tr>\n",
       "    <tr>\n",
       "      <th>ESC</th>\n",
       "      <td>224 + 6.41</td>\n",
       "    </tr>\n",
       "    <tr>\n",
       "      <th>ECS2</th>\n",
       "      <td>232 + 16.85</td>\n",
       "    </tr>\n",
       "    <tr>\n",
       "      <th>EST</th>\n",
       "      <td>239 + 11.85</td>\n",
       "    </tr>\n",
       "  </tbody>\n",
       "</table>\n",
       "</div>"
      ],
      "text/plain": [
       "                0\n",
       "ETS   217 + 11.41\n",
       "ESC    224 + 6.41\n",
       "ECS2  232 + 16.85\n",
       "EST   239 + 11.85"
      ]
     },
     "execution_count": 24,
     "metadata": {},
     "output_type": "execute_result"
    }
   ],
   "source": [
    "# estacas\n",
    "\n",
    "#TS = PI - TT\n",
    "## PI ponto de inflexao, ele esta na projecao da continuidade das 2 retas que se encontrariam caso a curva fosse um cotuvelo de 90 graus\n",
    "## TS eh o comeco da curva de transicao, portanto fica ANTES do PI\n",
    "ETS = EPI - TT\n",
    "\n",
    "#ESC -> START CURVE = TS + Ls\n",
    "## eh a estaca TS + o tamanho do arco = fim do arco lul\n",
    "ESC = ETS + ls\n",
    "\n",
    "# ECS -> CURVE STOP \n",
    "## ESC + D\n",
    "ECS = ESC + D\n",
    "\n",
    "# EST -> stop transition = ECS + Ls\n",
    "EST = ECS + ls\n",
    "\n",
    "#funcao para printar distancia em estacas de 20m \n",
    "def metros_para_estacas(x):\n",
    "    return '{} + {:.2f}'.format(int(x/20), x%20)\n",
    "\n",
    "df = pd.DataFrame(\n",
    "    [metros_para_estacas(ETS), metros_para_estacas(ESC), metros_para_estacas(ECS), metros_para_estacas(EST)],\n",
    "    [\"ETS\", 'ESC', 'ECS2', 'EST'])\n",
    "df"
   ]
  },
  {
   "cell_type": "markdown",
   "metadata": {},
   "source": [
    "### Super funcao"
   ]
  },
  {
   "cell_type": "code",
   "execution_count": 167,
   "metadata": {},
   "outputs": [],
   "source": [
    "def curva_transicao(raio_metros, delta_graus, velocida_kmh, EPI_metros, ls_adotado=None):\n",
    "\n",
    "    global ls_min, ls_max, ls, theta, x_s, y_s, phi, D, k, p, TT, E, ETS, ESC, ECS, EST\n",
    "    ls_min = 0.556*velocida_kmh\n",
    "    ls_max = raio_metros * delta_graus * np.pi / 180\n",
    "    \n",
    "    if(ls_adotado!=None):\n",
    "        ls = ls_adotado\n",
    "    elif(3*ls_min > ((ls_max + ls_min)/2)):\n",
    "        ls = np.ceil((ls_max + ls_min)/2)\n",
    "    else:\n",
    "        ls = np.ceil(3*ls_min)\n",
    "\n",
    "    theta = ls / (2 * raio_metros) \n",
    "    theta_deg = np.rad2deg(theta)\n",
    "    x_s = ls * (1 - (theta**2)/10 + (theta**4)/216)\n",
    "    y_s = ls * ((theta)/3  - (theta**3)/42)\n",
    "    phi = np.deg2rad(delta_graus) - 2*theta\n",
    "    phi_deg = np.rad2deg(phi)\n",
    "    D = phi * raio_metros\n",
    "    k = x_s - raio_metros * np.sin(theta)\n",
    "    p = y_s - raio_metros * (1 - np.cos(theta))\n",
    "    TT = k + (raio_metros + p) * np.tan(np.deg2rad(delta_graus/2))\n",
    "    E = ((Rc + p)/(np.cos(np.deg2rad(delta_graus/2))))-raio_metros\n",
    "    ETS = EPI_metros - TT\n",
    "    ESC = ETS + ls\n",
    "    ECS = ESC + D\n",
    "    EST = ECS + ls\n",
    "\n",
    "    def metros_para_estacas(x):\n",
    "        return '{} + {:.2f}'.format(int(x/20), x%20)\n",
    "    \n",
    "    df = pd.DataFrame(\n",
    "    [velocida_kmh, raio_metros, metros_para_estacas(EPI_metros), delta_graus,ls_min, ls_max,\n",
    "     (ls_min+ls_max)/2, 3*ls_min, ls, theta,theta_deg, x_s, y_s, phi,phi_deg, D, k, p, TT,\n",
    "     E, metros_para_estacas(ETS), metros_para_estacas(ESC), metros_para_estacas(ECS), metros_para_estacas(EST)],\n",
    "    [\"$V$\", '$R_c$', 'E(PI)', '$\\Delta$',\"$Ls_{ min}$\", '$Ls_{max}$',\n",
    "     '(ls_min + ls_max)/2', '3*ls_min',\"$Ls_{adotado}$\", '$\\theta_s$', '$\\theta deg$', '$X_s$',\n",
    "     '$Y_s$', '$\\phi$','$\\phi deg$', '$D$', '$k$', '$p$',\n",
    "     '$TT$', '$E$',\"ETS\", 'ESC', 'ECS2', 'EST']\n",
    "    )\n",
    "    df['descricao'] = [' velocidade (km/h)', ' raio da curva central (m)', 'estaca inicial', 'angulo entre as 2 ruas retas (graus)',\n",
    "                      'arco minimo da curva de transicao', 'arco maximo ', ' form', 'form', 'arco adotado', 'angulo da curva de transicao (radianos)',\n",
    "                       '(graus)', 'coordenada x do ponto SC',' coordenada Y do ponto SC',\n",
    "                       'angulo da curva central (radianos)','graus', 'arco da curva central',\n",
    "                       'coordenada do centro O', 'afastamento da curva circular', 'comprimento da tangente', 'distancia do PI a curva circular',\n",
    "                       'ets', 'aset', 'ea','es']\n",
    "    return df"
   ]
  },
  {
   "cell_type": "code",
   "execution_count": 168,
   "metadata": {},
   "outputs": [
    {
     "data": {
      "text/html": [
       "<div>\n",
       "<style>\n",
       "    .dataframe thead tr:only-child th {\n",
       "        text-align: right;\n",
       "    }\n",
       "\n",
       "    .dataframe thead th {\n",
       "        text-align: left;\n",
       "    }\n",
       "\n",
       "    .dataframe tbody tr th {\n",
       "        vertical-align: top;\n",
       "    }\n",
       "</style>\n",
       "<table border=\"1\" class=\"dataframe\">\n",
       "  <thead>\n",
       "    <tr style=\"text-align: right;\">\n",
       "      <th></th>\n",
       "      <th>0</th>\n",
       "      <th>descricao</th>\n",
       "    </tr>\n",
       "  </thead>\n",
       "  <tbody>\n",
       "    <tr>\n",
       "      <th>$V$</th>\n",
       "      <td>60</td>\n",
       "      <td>velocidade (km/h)</td>\n",
       "    </tr>\n",
       "    <tr>\n",
       "      <th>$R_c$</th>\n",
       "      <td>600</td>\n",
       "      <td>raio da curva central (m)</td>\n",
       "    </tr>\n",
       "    <tr>\n",
       "      <th>E(PI)</th>\n",
       "      <td>250 + 0.00</td>\n",
       "      <td>estaca inicial</td>\n",
       "    </tr>\n",
       "    <tr>\n",
       "      <th>$\\Delta$</th>\n",
       "      <td>90</td>\n",
       "      <td>angulo entre as 2 ruas retas (graus)</td>\n",
       "    </tr>\n",
       "    <tr>\n",
       "      <th>$Ls_{ min}$</th>\n",
       "      <td>33.36</td>\n",
       "      <td>arco minimo da curva de transicao</td>\n",
       "    </tr>\n",
       "    <tr>\n",
       "      <th>$Ls_{max}$</th>\n",
       "      <td>942.478</td>\n",
       "      <td>arco maximo</td>\n",
       "    </tr>\n",
       "    <tr>\n",
       "      <th>(ls_min + ls_max)/2</th>\n",
       "      <td>487.919</td>\n",
       "      <td>form</td>\n",
       "    </tr>\n",
       "    <tr>\n",
       "      <th>3*ls_min</th>\n",
       "      <td>100.08</td>\n",
       "      <td>form</td>\n",
       "    </tr>\n",
       "    <tr>\n",
       "      <th>$Ls_{adotado}$</th>\n",
       "      <td>200</td>\n",
       "      <td>arco adotado</td>\n",
       "    </tr>\n",
       "    <tr>\n",
       "      <th>$\\theta_s$</th>\n",
       "      <td>0.166667</td>\n",
       "      <td>angulo da curva de transicao (radianos)</td>\n",
       "    </tr>\n",
       "    <tr>\n",
       "      <th>$\\theta deg$</th>\n",
       "      <td>9.5493</td>\n",
       "      <td>(graus)</td>\n",
       "    </tr>\n",
       "    <tr>\n",
       "      <th>$X_s$</th>\n",
       "      <td>199.445</td>\n",
       "      <td>coordenada x do ponto SC</td>\n",
       "    </tr>\n",
       "    <tr>\n",
       "      <th>$Y_s$</th>\n",
       "      <td>11.0891</td>\n",
       "      <td>coordenada Y do ponto SC</td>\n",
       "    </tr>\n",
       "    <tr>\n",
       "      <th>$\\phi$</th>\n",
       "      <td>1.23746</td>\n",
       "      <td>angulo da curva central (radianos)</td>\n",
       "    </tr>\n",
       "    <tr>\n",
       "      <th>$\\phi deg$</th>\n",
       "      <td>70.9014</td>\n",
       "      <td>graus</td>\n",
       "    </tr>\n",
       "    <tr>\n",
       "      <th>$D$</th>\n",
       "      <td>742.478</td>\n",
       "      <td>arco da curva central</td>\n",
       "    </tr>\n",
       "    <tr>\n",
       "      <th>$k$</th>\n",
       "      <td>99.9075</td>\n",
       "      <td>coordenada do centro O</td>\n",
       "    </tr>\n",
       "    <tr>\n",
       "      <th>$p$</th>\n",
       "      <td>2.775</td>\n",
       "      <td>afastamento da curva circular</td>\n",
       "    </tr>\n",
       "    <tr>\n",
       "      <th>$TT$</th>\n",
       "      <td>702.682</td>\n",
       "      <td>comprimento da tangente</td>\n",
       "    </tr>\n",
       "    <tr>\n",
       "      <th>$E$</th>\n",
       "      <td>111.031</td>\n",
       "      <td>distancia do PI a curva circular</td>\n",
       "    </tr>\n",
       "    <tr>\n",
       "      <th>ETS</th>\n",
       "      <td>214 + 17.32</td>\n",
       "      <td>ets</td>\n",
       "    </tr>\n",
       "    <tr>\n",
       "      <th>ESC</th>\n",
       "      <td>224 + 17.32</td>\n",
       "      <td>aset</td>\n",
       "    </tr>\n",
       "    <tr>\n",
       "      <th>ECS2</th>\n",
       "      <td>261 + 19.80</td>\n",
       "      <td>ea</td>\n",
       "    </tr>\n",
       "    <tr>\n",
       "      <th>EST</th>\n",
       "      <td>271 + 19.80</td>\n",
       "      <td>es</td>\n",
       "    </tr>\n",
       "  </tbody>\n",
       "</table>\n",
       "</div>"
      ],
      "text/plain": [
       "                               0                                descricao\n",
       "$V$                           60                        velocidade (km/h)\n",
       "$R_c$                        600                raio da curva central (m)\n",
       "E(PI)                 250 + 0.00                           estaca inicial\n",
       "$\\Delta$                      90     angulo entre as 2 ruas retas (graus)\n",
       "$Ls_{ min}$                33.36        arco minimo da curva de transicao\n",
       "$Ls_{max}$               942.478                             arco maximo \n",
       "(ls_min + ls_max)/2      487.919                                     form\n",
       "3*ls_min                  100.08                                     form\n",
       "$Ls_{adotado}$               200                             arco adotado\n",
       "$\\theta_s$              0.166667  angulo da curva de transicao (radianos)\n",
       "$\\theta deg$              9.5493                                  (graus)\n",
       "$X_s$                    199.445                 coordenada x do ponto SC\n",
       "$Y_s$                    11.0891                 coordenada Y do ponto SC\n",
       "$\\phi$                   1.23746       angulo da curva central (radianos)\n",
       "$\\phi deg$               70.9014                                    graus\n",
       "$D$                      742.478                    arco da curva central\n",
       "$k$                      99.9075                   coordenada do centro O\n",
       "$p$                        2.775            afastamento da curva circular\n",
       "$TT$                     702.682                  comprimento da tangente\n",
       "$E$                      111.031         distancia do PI a curva circular\n",
       "ETS                  214 + 17.32                                      ets\n",
       "ESC                  224 + 17.32                                     aset\n",
       "ECS2                 261 + 19.80                                       ea\n",
       "EST                  271 + 19.80                                       es"
      ]
     },
     "execution_count": 168,
     "metadata": {},
     "output_type": "execute_result"
    }
   ],
   "source": [
    "curva_transicao(600,90,60,250*20,200)"
   ]
  },
  {
   "cell_type": "markdown",
   "metadata": {},
   "source": [
    "### Locação"
   ]
  },
  {
   "cell_type": "markdown",
   "metadata": {},
   "source": [
    "Deflexão é o angulo até um ponto qualquer.\n",
    "$$i = arctan \\dfrac{Y}{X}$$"
   ]
  },
  {
   "cell_type": "markdown",
   "metadata": {},
   "source": [
    "Corda é o comprimento até um ponto qualquer \n",
    "$$c = \\dfrac{X}{cos(i)}$$"
   ]
  },
  {
   "cell_type": "code",
   "execution_count": 200,
   "metadata": {},
   "outputs": [],
   "source": [
    "def deflex(raio, arco_trans, dist= None, ponto1= None, ponto2=None):\n",
    "    \"\"\"return dist, theta, x, y, i\"\"\"\n",
    "    if(dist == None):\n",
    "        dist = ponto2-ponto1\n",
    "    theta = dist**2 / (2*raio*arco_trans) # rad\n",
    "    x = dist*(1 - (theta**2)/10 + (theta**4)/216)\n",
    "    y = dist*((theta)/3 - (theta**3)/42)\n",
    "    i = (np.rad2deg(np.arctan(y/x)))\n",
    "    return(dist,theta,x,y,i)"
   ]
  },
  {
   "cell_type": "code",
   "execution_count": 179,
   "metadata": {},
   "outputs": [
    {
     "data": {
      "text/plain": [
       "(81,\n",
       " 0.054675,\n",
       " 80.97578957053014,\n",
       " 1.475909788463749,\n",
       " [1, 2, 39.080878211572866])"
      ]
     },
     "execution_count": 179,
     "metadata": {},
     "output_type": "execute_result"
    }
   ],
   "source": [
    "deflex(500, 120,dist=81)"
   ]
  },
  {
   "cell_type": "markdown",
   "metadata": {},
   "source": [
    "### Exemplo 1 - tabela de locacao"
   ]
  },
  {
   "cell_type": "code",
   "execution_count": 180,
   "metadata": {},
   "outputs": [
    {
     "data": {
      "text/html": [
       "<div>\n",
       "<style>\n",
       "    .dataframe thead tr:only-child th {\n",
       "        text-align: right;\n",
       "    }\n",
       "\n",
       "    .dataframe thead th {\n",
       "        text-align: left;\n",
       "    }\n",
       "\n",
       "    .dataframe tbody tr th {\n",
       "        vertical-align: top;\n",
       "    }\n",
       "</style>\n",
       "<table border=\"1\" class=\"dataframe\">\n",
       "  <thead>\n",
       "    <tr style=\"text-align: right;\">\n",
       "      <th></th>\n",
       "      <th>0</th>\n",
       "      <th>descricao</th>\n",
       "    </tr>\n",
       "  </thead>\n",
       "  <tbody>\n",
       "    <tr>\n",
       "      <th>$V$</th>\n",
       "      <td>60</td>\n",
       "      <td>velocidade (km/h)</td>\n",
       "    </tr>\n",
       "    <tr>\n",
       "      <th>$R_c$</th>\n",
       "      <td>600</td>\n",
       "      <td>raio da curva central (m)</td>\n",
       "    </tr>\n",
       "    <tr>\n",
       "      <th>E(PI)</th>\n",
       "      <td>250 + 0.00</td>\n",
       "      <td>estaca inicial</td>\n",
       "    </tr>\n",
       "    <tr>\n",
       "      <th>$\\Delta$</th>\n",
       "      <td>90</td>\n",
       "      <td>angulo entre as 2 ruas retas (graus)</td>\n",
       "    </tr>\n",
       "    <tr>\n",
       "      <th>$Ls_{ min}$</th>\n",
       "      <td>33.36</td>\n",
       "      <td>arco minimo da curva de transicao</td>\n",
       "    </tr>\n",
       "    <tr>\n",
       "      <th>$Ls_{max}$</th>\n",
       "      <td>942.478</td>\n",
       "      <td>arco maximo</td>\n",
       "    </tr>\n",
       "    <tr>\n",
       "      <th>(ls_min + ls_max)/2</th>\n",
       "      <td>487.919</td>\n",
       "      <td>form</td>\n",
       "    </tr>\n",
       "    <tr>\n",
       "      <th>3*ls_min</th>\n",
       "      <td>100.08</td>\n",
       "      <td>form</td>\n",
       "    </tr>\n",
       "    <tr>\n",
       "      <th>$Ls_{adotado}$</th>\n",
       "      <td>200</td>\n",
       "      <td>arco adotado</td>\n",
       "    </tr>\n",
       "    <tr>\n",
       "      <th>$\\theta_s$</th>\n",
       "      <td>0.166667</td>\n",
       "      <td>angulo da curva de transicao (radianos)</td>\n",
       "    </tr>\n",
       "    <tr>\n",
       "      <th>$\\theta deg$</th>\n",
       "      <td>9.5493</td>\n",
       "      <td>(graus)</td>\n",
       "    </tr>\n",
       "    <tr>\n",
       "      <th>$X_s$</th>\n",
       "      <td>199.445</td>\n",
       "      <td>coordenada x do ponto SC</td>\n",
       "    </tr>\n",
       "    <tr>\n",
       "      <th>$Y_s$</th>\n",
       "      <td>11.0891</td>\n",
       "      <td>coordenada Y do ponto SC</td>\n",
       "    </tr>\n",
       "    <tr>\n",
       "      <th>$\\phi$</th>\n",
       "      <td>1.23746</td>\n",
       "      <td>angulo da curva central (radianos)</td>\n",
       "    </tr>\n",
       "    <tr>\n",
       "      <th>$\\phi deg$</th>\n",
       "      <td>70.9014</td>\n",
       "      <td>graus</td>\n",
       "    </tr>\n",
       "    <tr>\n",
       "      <th>$D$</th>\n",
       "      <td>742.478</td>\n",
       "      <td>arco da curva central</td>\n",
       "    </tr>\n",
       "    <tr>\n",
       "      <th>$k$</th>\n",
       "      <td>99.9075</td>\n",
       "      <td>coordenada do centro O</td>\n",
       "    </tr>\n",
       "    <tr>\n",
       "      <th>$p$</th>\n",
       "      <td>2.775</td>\n",
       "      <td>afastamento da curva circular</td>\n",
       "    </tr>\n",
       "    <tr>\n",
       "      <th>$TT$</th>\n",
       "      <td>702.682</td>\n",
       "      <td>comprimento da tangente</td>\n",
       "    </tr>\n",
       "    <tr>\n",
       "      <th>$E$</th>\n",
       "      <td>111.031</td>\n",
       "      <td>distancia do PI a curva circular</td>\n",
       "    </tr>\n",
       "    <tr>\n",
       "      <th>ETS</th>\n",
       "      <td>214 + 17.32</td>\n",
       "      <td>ets</td>\n",
       "    </tr>\n",
       "    <tr>\n",
       "      <th>ESC</th>\n",
       "      <td>224 + 17.32</td>\n",
       "      <td>aset</td>\n",
       "    </tr>\n",
       "    <tr>\n",
       "      <th>ECS2</th>\n",
       "      <td>261 + 19.80</td>\n",
       "      <td>ea</td>\n",
       "    </tr>\n",
       "    <tr>\n",
       "      <th>EST</th>\n",
       "      <td>271 + 19.80</td>\n",
       "      <td>es</td>\n",
       "    </tr>\n",
       "  </tbody>\n",
       "</table>\n",
       "</div>"
      ],
      "text/plain": [
       "                               0                                descricao\n",
       "$V$                           60                        velocidade (km/h)\n",
       "$R_c$                        600                raio da curva central (m)\n",
       "E(PI)                 250 + 0.00                           estaca inicial\n",
       "$\\Delta$                      90     angulo entre as 2 ruas retas (graus)\n",
       "$Ls_{ min}$                33.36        arco minimo da curva de transicao\n",
       "$Ls_{max}$               942.478                             arco maximo \n",
       "(ls_min + ls_max)/2      487.919                                     form\n",
       "3*ls_min                  100.08                                     form\n",
       "$Ls_{adotado}$               200                             arco adotado\n",
       "$\\theta_s$              0.166667  angulo da curva de transicao (radianos)\n",
       "$\\theta deg$              9.5493                                  (graus)\n",
       "$X_s$                    199.445                 coordenada x do ponto SC\n",
       "$Y_s$                    11.0891                 coordenada Y do ponto SC\n",
       "$\\phi$                   1.23746       angulo da curva central (radianos)\n",
       "$\\phi deg$               70.9014                                    graus\n",
       "$D$                      742.478                    arco da curva central\n",
       "$k$                      99.9075                   coordenada do centro O\n",
       "$p$                        2.775            afastamento da curva circular\n",
       "$TT$                     702.682                  comprimento da tangente\n",
       "$E$                      111.031         distancia do PI a curva circular\n",
       "ETS                  214 + 17.32                                      ets\n",
       "ESC                  224 + 17.32                                     aset\n",
       "ECS2                 261 + 19.80                                       ea\n",
       "EST                  271 + 19.80                                       es"
      ]
     },
     "execution_count": 180,
     "metadata": {},
     "output_type": "execute_result"
    }
   ],
   "source": [
    "curva_transicao(600,90,60,250*20,200)"
   ]
  },
  {
   "cell_type": "code",
   "execution_count": 249,
   "metadata": {},
   "outputs": [],
   "source": [
    "def tabela_locacao_transicao(estaca_inicial, estaca_final, dist_entre_estacas, raio_curva, comprimento_arco):\n",
    "    estacas_metros = np.arange(estaca_inicial, estaca_final+dist_entre_estacas, dist_entre_estacas)\n",
    "    estacas = []\n",
    "    for i in estacas_metros:\n",
    "        estacas.append(metros_para_estacas(i))\n",
    "\n",
    "    dist=[0]\n",
    "    theta=[0]\n",
    "    x = [0]\n",
    "    y=[0]\n",
    "    deflec=[0]\n",
    "    deflec_dms=[0]\n",
    "\n",
    "    for i in range(1, len(estacas)):\n",
    "        result = deflex(raio_curva, comprimento_arco, ponto1=estacas_metros[0],ponto2=estacas_metros[i])\n",
    "        dist.append(result[0])\n",
    "        theta.append(result[1])\n",
    "        x.append(result[2])\n",
    "        y.append(result[3])\n",
    "        deflec.append(result[4])\n",
    "        deflec_dms.append(\" \".join(str(x) for x in dd2dms(result[4])))\n",
    "\n",
    "\n",
    "    df = pd.DataFrame()\n",
    "    df['estacas'] = estacas\n",
    "    df['estacas_metros'] = estacas_metros\n",
    "    df['dist'] = dist\n",
    "    df['x'] = x\n",
    "    df['y'] = y\n",
    "    df['i'] = deflec\n",
    "    df['i graus'] = deflec_dms\n",
    "\n",
    "    return df"
   ]
  },
  {
   "cell_type": "code",
   "execution_count": 250,
   "metadata": {},
   "outputs": [
    {
     "data": {
      "text/html": [
       "<div>\n",
       "<style>\n",
       "    .dataframe thead tr:only-child th {\n",
       "        text-align: right;\n",
       "    }\n",
       "\n",
       "    .dataframe thead th {\n",
       "        text-align: left;\n",
       "    }\n",
       "\n",
       "    .dataframe tbody tr th {\n",
       "        vertical-align: top;\n",
       "    }\n",
       "</style>\n",
       "<table border=\"1\" class=\"dataframe\">\n",
       "  <thead>\n",
       "    <tr style=\"text-align: right;\">\n",
       "      <th></th>\n",
       "      <th>estacas</th>\n",
       "      <th>estacas_metros</th>\n",
       "      <th>dist</th>\n",
       "      <th>x</th>\n",
       "      <th>y</th>\n",
       "      <th>i</th>\n",
       "      <th>i graus</th>\n",
       "    </tr>\n",
       "  </thead>\n",
       "  <tbody>\n",
       "    <tr>\n",
       "      <th>0</th>\n",
       "      <td>134 + 5.23</td>\n",
       "      <td>2685.23</td>\n",
       "      <td>0.0</td>\n",
       "      <td>0.000000</td>\n",
       "      <td>0.000000</td>\n",
       "      <td>0.000000</td>\n",
       "      <td>0</td>\n",
       "    </tr>\n",
       "    <tr>\n",
       "      <th>1</th>\n",
       "      <td>134 + 15.23</td>\n",
       "      <td>2695.23</td>\n",
       "      <td>10.0</td>\n",
       "      <td>9.999961</td>\n",
       "      <td>0.020778</td>\n",
       "      <td>0.119049</td>\n",
       "      <td>0 7 8.57711841977</td>\n",
       "    </tr>\n",
       "    <tr>\n",
       "      <th>2</th>\n",
       "      <td>135 + 5.23</td>\n",
       "      <td>2705.23</td>\n",
       "      <td>20.0</td>\n",
       "      <td>19.998757</td>\n",
       "      <td>0.166217</td>\n",
       "      <td>0.476194</td>\n",
       "      <td>0 28 34.3000136277</td>\n",
       "    </tr>\n",
       "    <tr>\n",
       "      <th>3</th>\n",
       "      <td>135 + 15.23</td>\n",
       "      <td>2715.23</td>\n",
       "      <td>30.0</td>\n",
       "      <td>29.990560</td>\n",
       "      <td>0.560880</td>\n",
       "      <td>1.071415</td>\n",
       "      <td>1 4 17.0924701194</td>\n",
       "    </tr>\n",
       "    <tr>\n",
       "      <th>4</th>\n",
       "      <td>136 + 5.23</td>\n",
       "      <td>2725.23</td>\n",
       "      <td>40.0</td>\n",
       "      <td>39.960230</td>\n",
       "      <td>1.328848</td>\n",
       "      <td>1.904627</td>\n",
       "      <td>1 54 16.6570409232</td>\n",
       "    </tr>\n",
       "    <tr>\n",
       "      <th>5</th>\n",
       "      <td>136 + 15.23</td>\n",
       "      <td>2735.23</td>\n",
       "      <td>50.0</td>\n",
       "      <td>49.878714</td>\n",
       "      <td>2.592746</td>\n",
       "      <td>2.975615</td>\n",
       "      <td>2 58 32.2131076875</td>\n",
       "    </tr>\n",
       "    <tr>\n",
       "      <th>6</th>\n",
       "      <td>137 + 5.23</td>\n",
       "      <td>2745.23</td>\n",
       "      <td>60.0</td>\n",
       "      <td>59.698565</td>\n",
       "      <td>4.471908</td>\n",
       "      <td>4.283919</td>\n",
       "      <td>4 17 2.10703475052</td>\n",
       "    </tr>\n",
       "    <tr>\n",
       "      <th>7</th>\n",
       "      <td>137 + 15.23</td>\n",
       "      <td>2755.23</td>\n",
       "      <td>70.0</td>\n",
       "      <td>69.349779</td>\n",
       "      <td>7.079367</td>\n",
       "      <td>5.828680</td>\n",
       "      <td>5 49 43.2466094658</td>\n",
       "    </tr>\n",
       "  </tbody>\n",
       "</table>\n",
       "</div>"
      ],
      "text/plain": [
       "       estacas  estacas_metros  dist          x         y         i  \\\n",
       "0   134 + 5.23         2685.23   0.0   0.000000  0.000000  0.000000   \n",
       "1  134 + 15.23         2695.23  10.0   9.999961  0.020778  0.119049   \n",
       "2   135 + 5.23         2705.23  20.0  19.998757  0.166217  0.476194   \n",
       "3  135 + 15.23         2715.23  30.0  29.990560  0.560880  1.071415   \n",
       "4   136 + 5.23         2725.23  40.0  39.960230  1.328848  1.904627   \n",
       "5  136 + 15.23         2735.23  50.0  49.878714  2.592746  2.975615   \n",
       "6   137 + 5.23         2745.23  60.0  59.698565  4.471908  4.283919   \n",
       "7  137 + 15.23         2755.23  70.0  69.349779  7.079367  5.828680   \n",
       "\n",
       "              i graus  \n",
       "0                   0  \n",
       "1   0 7 8.57711841977  \n",
       "2  0 28 34.3000136277  \n",
       "3   1 4 17.0924701194  \n",
       "4  1 54 16.6570409232  \n",
       "5  2 58 32.2131076875  \n",
       "6  4 17 2.10703475052  \n",
       "7  5 49 43.2466094658  "
      ]
     },
     "execution_count": 250,
     "metadata": {},
     "output_type": "execute_result"
    }
   ],
   "source": [
    "tabela_locacao_transicao(134*20+5.23,137*20+15.23,10,114.59,70)"
   ]
  },
  {
   "cell_type": "code",
   "execution_count": 132,
   "metadata": {},
   "outputs": [
    {
     "data": {
      "text/html": [
       "<div>\n",
       "<style>\n",
       "    .dataframe thead tr:only-child th {\n",
       "        text-align: right;\n",
       "    }\n",
       "\n",
       "    .dataframe thead th {\n",
       "        text-align: left;\n",
       "    }\n",
       "\n",
       "    .dataframe tbody tr th {\n",
       "        vertical-align: top;\n",
       "    }\n",
       "</style>\n",
       "<table border=\"1\" class=\"dataframe\">\n",
       "  <thead>\n",
       "    <tr style=\"text-align: right;\">\n",
       "      <th></th>\n",
       "      <th>0</th>\n",
       "      <th>descricao</th>\n",
       "    </tr>\n",
       "  </thead>\n",
       "  <tbody>\n",
       "    <tr>\n",
       "      <th>$V$</th>\n",
       "      <td>80</td>\n",
       "      <td>velocidade (km/h)</td>\n",
       "    </tr>\n",
       "    <tr>\n",
       "      <th>$R_c$</th>\n",
       "      <td>440</td>\n",
       "      <td>raio da curva central (m)</td>\n",
       "    </tr>\n",
       "    <tr>\n",
       "      <th>E(PI)</th>\n",
       "      <td>219 + 6.24</td>\n",
       "      <td>estaca inicial</td>\n",
       "    </tr>\n",
       "    <tr>\n",
       "      <th>$\\Delta$</th>\n",
       "      <td>32.2</td>\n",
       "      <td>angulo entre as 2 ruas retas (graus)</td>\n",
       "    </tr>\n",
       "    <tr>\n",
       "      <th>$Ls_{ min}$</th>\n",
       "      <td>44.48</td>\n",
       "      <td>arco minimo da curva de transicao</td>\n",
       "    </tr>\n",
       "    <tr>\n",
       "      <th>$Ls_{max}$</th>\n",
       "      <td>247.278</td>\n",
       "      <td>arco maximo</td>\n",
       "    </tr>\n",
       "    <tr>\n",
       "      <th>(ls_min + ls_max)/2</th>\n",
       "      <td>145.879</td>\n",
       "      <td>form</td>\n",
       "    </tr>\n",
       "    <tr>\n",
       "      <th>3*ls_min</th>\n",
       "      <td>133.44</td>\n",
       "      <td>form</td>\n",
       "    </tr>\n",
       "    <tr>\n",
       "      <th>$Ls_{adotado}$</th>\n",
       "      <td>130</td>\n",
       "      <td>arco adotado</td>\n",
       "    </tr>\n",
       "    <tr>\n",
       "      <th>$\\theta_s$</th>\n",
       "      <td>0.147727</td>\n",
       "      <td>angulo da curva de transicao</td>\n",
       "    </tr>\n",
       "    <tr>\n",
       "      <th>$X_s$</th>\n",
       "      <td>129.717</td>\n",
       "      <td>coordenada x do ponto SC</td>\n",
       "    </tr>\n",
       "    <tr>\n",
       "      <th>$Y_s$</th>\n",
       "      <td>6.39154</td>\n",
       "      <td>coordenada Y do ponto SC</td>\n",
       "    </tr>\n",
       "    <tr>\n",
       "      <th>$\\phi$</th>\n",
       "      <td>0.266541</td>\n",
       "      <td>angulo da curva central (radianos)</td>\n",
       "    </tr>\n",
       "    <tr>\n",
       "      <th>$D$</th>\n",
       "      <td>117.278</td>\n",
       "      <td>arco da curva central</td>\n",
       "    </tr>\n",
       "    <tr>\n",
       "      <th>$k$</th>\n",
       "      <td>64.9527</td>\n",
       "      <td>coordenada do centro O</td>\n",
       "    </tr>\n",
       "    <tr>\n",
       "      <th>$p$</th>\n",
       "      <td>1.59913</td>\n",
       "      <td>afastamento da curva circular</td>\n",
       "    </tr>\n",
       "    <tr>\n",
       "      <th>$TT$</th>\n",
       "      <td>192.414</td>\n",
       "      <td>comprimento da tangente</td>\n",
       "    </tr>\n",
       "    <tr>\n",
       "      <th>$E$</th>\n",
       "      <td>82.0754</td>\n",
       "      <td>distancia do PI a curva circular</td>\n",
       "    </tr>\n",
       "    <tr>\n",
       "      <th>ETS</th>\n",
       "      <td>209 + 13.83</td>\n",
       "      <td>ets</td>\n",
       "    </tr>\n",
       "    <tr>\n",
       "      <th>ESC</th>\n",
       "      <td>216 + 3.83</td>\n",
       "      <td>aset</td>\n",
       "    </tr>\n",
       "    <tr>\n",
       "      <th>ECS2</th>\n",
       "      <td>222 + 1.10</td>\n",
       "      <td>ea</td>\n",
       "    </tr>\n",
       "    <tr>\n",
       "      <th>EST</th>\n",
       "      <td>228 + 11.10</td>\n",
       "      <td>es</td>\n",
       "    </tr>\n",
       "  </tbody>\n",
       "</table>\n",
       "</div>"
      ],
      "text/plain": [
       "                               0                             descricao\n",
       "$V$                           80                     velocidade (km/h)\n",
       "$R_c$                        440             raio da curva central (m)\n",
       "E(PI)                 219 + 6.24                        estaca inicial\n",
       "$\\Delta$                    32.2  angulo entre as 2 ruas retas (graus)\n",
       "$Ls_{ min}$                44.48     arco minimo da curva de transicao\n",
       "$Ls_{max}$               247.278                          arco maximo \n",
       "(ls_min + ls_max)/2      145.879                                  form\n",
       "3*ls_min                  133.44                                  form\n",
       "$Ls_{adotado}$               130                          arco adotado\n",
       "$\\theta_s$              0.147727          angulo da curva de transicao\n",
       "$X_s$                    129.717              coordenada x do ponto SC\n",
       "$Y_s$                    6.39154              coordenada Y do ponto SC\n",
       "$\\phi$                  0.266541    angulo da curva central (radianos)\n",
       "$D$                      117.278                 arco da curva central\n",
       "$k$                      64.9527                coordenada do centro O\n",
       "$p$                      1.59913         afastamento da curva circular\n",
       "$TT$                     192.414               comprimento da tangente\n",
       "$E$                      82.0754      distancia do PI a curva circular\n",
       "ETS                  209 + 13.83                                   ets\n",
       "ESC                   216 + 3.83                                  aset\n",
       "ECS2                  222 + 1.10                                    ea\n",
       "EST                  228 + 11.10                                    es"
      ]
     },
     "execution_count": 132,
     "metadata": {},
     "output_type": "execute_result"
    }
   ],
   "source": [
    "curva_transicao(440,32+12/60,80,219*20+6.24,130)"
   ]
  },
  {
   "cell_type": "code",
   "execution_count": 101,
   "metadata": {},
   "outputs": [],
   "source": [
    "k = 192.414 **2 / (2 * 440 * 130)"
   ]
  },
  {
   "cell_type": "code",
   "execution_count": 122,
   "metadata": {},
   "outputs": [
    {
     "data": {
      "text/plain": [
       "0.015538615403947924"
      ]
     },
     "execution_count": 122,
     "metadata": {},
     "output_type": "execute_result"
    }
   ],
   "source": [
    "np.rad2deg(0.0002712)"
   ]
  },
  {
   "cell_type": "code",
   "execution_count": 123,
   "metadata": {},
   "outputs": [
    {
     "data": {
      "text/plain": [
       "[0, 0, 55.93901545421252]"
      ]
     },
     "execution_count": 123,
     "metadata": {},
     "output_type": "execute_result"
    }
   ],
   "source": [
    "dd2dms(0.015538615403947924)"
   ]
  },
  {
   "cell_type": "code",
   "execution_count": 121,
   "metadata": {},
   "outputs": [
    {
     "data": {
      "text/plain": [
       "[0, 9, 25.675183551126395]"
      ]
     },
     "execution_count": 121,
     "metadata": {},
     "output_type": "execute_result"
    }
   ],
   "source": [
    "dd2dms(0.60/(np.rad2deg(k)/30**2))"
   ]
  },
  {
   "cell_type": "code",
   "execution_count": 112,
   "metadata": {},
   "outputs": [
    {
     "data": {
      "text/plain": [
       "17.860452847436058"
      ]
     },
     "execution_count": 112,
     "metadata": {},
     "output_type": "execute_result"
    }
   ],
   "source": [
    "np.rad2deg(k/192.414)"
   ]
  },
  {
   "cell_type": "code",
   "execution_count": 133,
   "metadata": {},
   "outputs": [
    {
     "data": {
      "text/html": [
       "<div>\n",
       "<style>\n",
       "    .dataframe thead tr:only-child th {\n",
       "        text-align: right;\n",
       "    }\n",
       "\n",
       "    .dataframe thead th {\n",
       "        text-align: left;\n",
       "    }\n",
       "\n",
       "    .dataframe tbody tr th {\n",
       "        vertical-align: top;\n",
       "    }\n",
       "</style>\n",
       "<table border=\"1\" class=\"dataframe\">\n",
       "  <thead>\n",
       "    <tr style=\"text-align: right;\">\n",
       "      <th></th>\n",
       "      <th>0</th>\n",
       "      <th>descricao</th>\n",
       "    </tr>\n",
       "  </thead>\n",
       "  <tbody>\n",
       "    <tr>\n",
       "      <th>$V$</th>\n",
       "      <td>100</td>\n",
       "      <td>velocidade (km/h)</td>\n",
       "    </tr>\n",
       "    <tr>\n",
       "      <th>$R_c$</th>\n",
       "      <td>600</td>\n",
       "      <td>raio da curva central (m)</td>\n",
       "    </tr>\n",
       "    <tr>\n",
       "      <th>E(PI)</th>\n",
       "      <td>1234 + 12.70</td>\n",
       "      <td>estaca inicial</td>\n",
       "    </tr>\n",
       "    <tr>\n",
       "      <th>$\\Delta$</th>\n",
       "      <td>31.4769</td>\n",
       "      <td>angulo entre as 2 ruas retas (graus)</td>\n",
       "    </tr>\n",
       "    <tr>\n",
       "      <th>$Ls_{ min}$</th>\n",
       "      <td>55.6</td>\n",
       "      <td>arco minimo da curva de transicao</td>\n",
       "    </tr>\n",
       "    <tr>\n",
       "      <th>$Ls_{max}$</th>\n",
       "      <td>329.626</td>\n",
       "      <td>arco maximo</td>\n",
       "    </tr>\n",
       "    <tr>\n",
       "      <th>(ls_min + ls_max)/2</th>\n",
       "      <td>192.613</td>\n",
       "      <td>form</td>\n",
       "    </tr>\n",
       "    <tr>\n",
       "      <th>3*ls_min</th>\n",
       "      <td>166.8</td>\n",
       "      <td>form</td>\n",
       "    </tr>\n",
       "    <tr>\n",
       "      <th>$Ls_{adotado}$</th>\n",
       "      <td>120</td>\n",
       "      <td>arco adotado</td>\n",
       "    </tr>\n",
       "    <tr>\n",
       "      <th>$\\theta_s$</th>\n",
       "      <td>0.1</td>\n",
       "      <td>angulo da curva de transicao</td>\n",
       "    </tr>\n",
       "    <tr>\n",
       "      <th>$X_s$</th>\n",
       "      <td>119.88</td>\n",
       "      <td>coordenada x do ponto SC</td>\n",
       "    </tr>\n",
       "    <tr>\n",
       "      <th>$Y_s$</th>\n",
       "      <td>3.99714</td>\n",
       "      <td>coordenada Y do ponto SC</td>\n",
       "    </tr>\n",
       "    <tr>\n",
       "      <th>$\\phi$</th>\n",
       "      <td>0.349376</td>\n",
       "      <td>angulo da curva central (radianos)</td>\n",
       "    </tr>\n",
       "    <tr>\n",
       "      <th>$D$</th>\n",
       "      <td>209.626</td>\n",
       "      <td>arco da curva central</td>\n",
       "    </tr>\n",
       "    <tr>\n",
       "      <th>$k$</th>\n",
       "      <td>59.98</td>\n",
       "      <td>coordenada do centro O</td>\n",
       "    </tr>\n",
       "    <tr>\n",
       "      <th>$p$</th>\n",
       "      <td>0.999642</td>\n",
       "      <td>afastamento da curva circular</td>\n",
       "    </tr>\n",
       "    <tr>\n",
       "      <th>$TT$</th>\n",
       "      <td>229.349</td>\n",
       "      <td>comprimento da tangente</td>\n",
       "    </tr>\n",
       "    <tr>\n",
       "      <th>$E$</th>\n",
       "      <td>-79.4862</td>\n",
       "      <td>distancia do PI a curva circular</td>\n",
       "    </tr>\n",
       "    <tr>\n",
       "      <th>ETS</th>\n",
       "      <td>1223 + 3.35</td>\n",
       "      <td>ets</td>\n",
       "    </tr>\n",
       "    <tr>\n",
       "      <th>ESC</th>\n",
       "      <td>1229 + 3.35</td>\n",
       "      <td>aset</td>\n",
       "    </tr>\n",
       "    <tr>\n",
       "      <th>ECS2</th>\n",
       "      <td>1239 + 12.98</td>\n",
       "      <td>ea</td>\n",
       "    </tr>\n",
       "    <tr>\n",
       "      <th>EST</th>\n",
       "      <td>1245 + 12.98</td>\n",
       "      <td>es</td>\n",
       "    </tr>\n",
       "  </tbody>\n",
       "</table>\n",
       "</div>"
      ],
      "text/plain": [
       "                                0                             descricao\n",
       "$V$                           100                     velocidade (km/h)\n",
       "$R_c$                         600             raio da curva central (m)\n",
       "E(PI)                1234 + 12.70                        estaca inicial\n",
       "$\\Delta$                  31.4769  angulo entre as 2 ruas retas (graus)\n",
       "$Ls_{ min}$                  55.6     arco minimo da curva de transicao\n",
       "$Ls_{max}$                329.626                          arco maximo \n",
       "(ls_min + ls_max)/2       192.613                                  form\n",
       "3*ls_min                    166.8                                  form\n",
       "$Ls_{adotado}$                120                          arco adotado\n",
       "$\\theta_s$                    0.1          angulo da curva de transicao\n",
       "$X_s$                      119.88              coordenada x do ponto SC\n",
       "$Y_s$                     3.99714              coordenada Y do ponto SC\n",
       "$\\phi$                   0.349376    angulo da curva central (radianos)\n",
       "$D$                       209.626                 arco da curva central\n",
       "$k$                         59.98                coordenada do centro O\n",
       "$p$                      0.999642         afastamento da curva circular\n",
       "$TT$                      229.349               comprimento da tangente\n",
       "$E$                      -79.4862      distancia do PI a curva circular\n",
       "ETS                   1223 + 3.35                                   ets\n",
       "ESC                   1229 + 3.35                                  aset\n",
       "ECS2                 1239 + 12.98                                    ea\n",
       "EST                  1245 + 12.98                                    es"
      ]
     },
     "execution_count": 133,
     "metadata": {},
     "output_type": "execute_result"
    }
   ],
   "source": [
    "curva_transicao(600,31 + ms2dd(28,37),100, 1234*20 + 12.7, 120)"
   ]
  },
  {
   "cell_type": "code",
   "execution_count": 143,
   "metadata": {},
   "outputs": [
    {
     "data": {
      "text/html": [
       "<div>\n",
       "<style>\n",
       "    .dataframe thead tr:only-child th {\n",
       "        text-align: right;\n",
       "    }\n",
       "\n",
       "    .dataframe thead th {\n",
       "        text-align: left;\n",
       "    }\n",
       "\n",
       "    .dataframe tbody tr th {\n",
       "        vertical-align: top;\n",
       "    }\n",
       "</style>\n",
       "<table border=\"1\" class=\"dataframe\">\n",
       "  <thead>\n",
       "    <tr style=\"text-align: right;\">\n",
       "      <th></th>\n",
       "      <th>0</th>\n",
       "      <th>descricao</th>\n",
       "    </tr>\n",
       "  </thead>\n",
       "  <tbody>\n",
       "    <tr>\n",
       "      <th>$V$</th>\n",
       "      <td>80</td>\n",
       "      <td>velocidade (km/h)</td>\n",
       "    </tr>\n",
       "    <tr>\n",
       "      <th>$R_c$</th>\n",
       "      <td>114.59</td>\n",
       "      <td>raio da curva central (m)</td>\n",
       "    </tr>\n",
       "    <tr>\n",
       "      <th>E(PI)</th>\n",
       "      <td>138 + 13.15</td>\n",
       "      <td>estaca inicial</td>\n",
       "    </tr>\n",
       "    <tr>\n",
       "      <th>$\\Delta$</th>\n",
       "      <td>49</td>\n",
       "      <td>angulo entre as 2 ruas retas (graus)</td>\n",
       "    </tr>\n",
       "    <tr>\n",
       "      <th>$Ls_{ min}$</th>\n",
       "      <td>44.48</td>\n",
       "      <td>arco minimo da curva de transicao</td>\n",
       "    </tr>\n",
       "    <tr>\n",
       "      <th>$Ls_{max}$</th>\n",
       "      <td>97.9987</td>\n",
       "      <td>arco maximo</td>\n",
       "    </tr>\n",
       "    <tr>\n",
       "      <th>(ls_min + ls_max)/2</th>\n",
       "      <td>71.2393</td>\n",
       "      <td>form</td>\n",
       "    </tr>\n",
       "    <tr>\n",
       "      <th>3*ls_min</th>\n",
       "      <td>133.44</td>\n",
       "      <td>form</td>\n",
       "    </tr>\n",
       "    <tr>\n",
       "      <th>$Ls_{adotado}$</th>\n",
       "      <td>70</td>\n",
       "      <td>arco adotado</td>\n",
       "    </tr>\n",
       "    <tr>\n",
       "      <th>$\\theta_s$</th>\n",
       "      <td>0.305437</td>\n",
       "      <td>angulo da curva de transicao (radianos)</td>\n",
       "    </tr>\n",
       "    <tr>\n",
       "      <th>$\\theta deg$</th>\n",
       "      <td>17.5002</td>\n",
       "      <td>(graus)</td>\n",
       "    </tr>\n",
       "    <tr>\n",
       "      <th>$X_s$</th>\n",
       "      <td>69.3498</td>\n",
       "      <td>coordenada x do ponto SC</td>\n",
       "    </tr>\n",
       "    <tr>\n",
       "      <th>$Y_s$</th>\n",
       "      <td>7.07937</td>\n",
       "      <td>coordenada Y do ponto SC</td>\n",
       "    </tr>\n",
       "    <tr>\n",
       "      <th>$\\phi$</th>\n",
       "      <td>0.244338</td>\n",
       "      <td>angulo da curva central (radianos)</td>\n",
       "    </tr>\n",
       "    <tr>\n",
       "      <th>$\\phi deg$</th>\n",
       "      <td>13.9995</td>\n",
       "      <td>graus</td>\n",
       "    </tr>\n",
       "    <tr>\n",
       "      <th>$D$</th>\n",
       "      <td>27.9987</td>\n",
       "      <td>arco da curva central</td>\n",
       "    </tr>\n",
       "    <tr>\n",
       "      <th>$k$</th>\n",
       "      <td>34.8914</td>\n",
       "      <td>coordenada do centro O</td>\n",
       "    </tr>\n",
       "    <tr>\n",
       "      <th>$p$</th>\n",
       "      <td>1.77565</td>\n",
       "      <td>afastamento da curva circular</td>\n",
       "    </tr>\n",
       "    <tr>\n",
       "      <th>$TT$</th>\n",
       "      <td>87.9223</td>\n",
       "      <td>comprimento da tangente</td>\n",
       "    </tr>\n",
       "    <tr>\n",
       "      <th>$E$</th>\n",
       "      <td>436.835</td>\n",
       "      <td>distancia do PI a curva circular</td>\n",
       "    </tr>\n",
       "    <tr>\n",
       "      <th>ETS</th>\n",
       "      <td>134 + 5.23</td>\n",
       "      <td>ets</td>\n",
       "    </tr>\n",
       "    <tr>\n",
       "      <th>ESC</th>\n",
       "      <td>137 + 15.23</td>\n",
       "      <td>aset</td>\n",
       "    </tr>\n",
       "    <tr>\n",
       "      <th>ECS2</th>\n",
       "      <td>139 + 3.23</td>\n",
       "      <td>ea</td>\n",
       "    </tr>\n",
       "    <tr>\n",
       "      <th>EST</th>\n",
       "      <td>142 + 13.23</td>\n",
       "      <td>es</td>\n",
       "    </tr>\n",
       "  </tbody>\n",
       "</table>\n",
       "</div>"
      ],
      "text/plain": [
       "                               0                                descricao\n",
       "$V$                           80                        velocidade (km/h)\n",
       "$R_c$                     114.59                raio da curva central (m)\n",
       "E(PI)                138 + 13.15                           estaca inicial\n",
       "$\\Delta$                      49     angulo entre as 2 ruas retas (graus)\n",
       "$Ls_{ min}$                44.48        arco minimo da curva de transicao\n",
       "$Ls_{max}$               97.9987                             arco maximo \n",
       "(ls_min + ls_max)/2      71.2393                                     form\n",
       "3*ls_min                  133.44                                     form\n",
       "$Ls_{adotado}$                70                             arco adotado\n",
       "$\\theta_s$              0.305437  angulo da curva de transicao (radianos)\n",
       "$\\theta deg$             17.5002                                  (graus)\n",
       "$X_s$                    69.3498                 coordenada x do ponto SC\n",
       "$Y_s$                    7.07937                 coordenada Y do ponto SC\n",
       "$\\phi$                  0.244338       angulo da curva central (radianos)\n",
       "$\\phi deg$               13.9995                                    graus\n",
       "$D$                      27.9987                    arco da curva central\n",
       "$k$                      34.8914                   coordenada do centro O\n",
       "$p$                      1.77565            afastamento da curva circular\n",
       "$TT$                     87.9223                  comprimento da tangente\n",
       "$E$                      436.835         distancia do PI a curva circular\n",
       "ETS                   134 + 5.23                                      ets\n",
       "ESC                  137 + 15.23                                     aset\n",
       "ECS2                  139 + 3.23                                       ea\n",
       "EST                  142 + 13.23                                       es"
      ]
     },
     "execution_count": 143,
     "metadata": {},
     "output_type": "execute_result"
    }
   ],
   "source": [
    "curva_transicao(114.59, 49, 80,138*20 + 13.15, 70)"
   ]
  },
  {
   "cell_type": "code",
   "execution_count": 150,
   "metadata": {},
   "outputs": [
    {
     "name": "stdout",
     "output_type": "stream",
     "text": [
      "134 + 5.23\n",
      "134 + 15.23\n",
      "135 + 5.23\n",
      "135 + 15.23\n",
      "136 + 5.23\n",
      "136 + 15.23\n",
      "137 + 5.23\n",
      "137 + 15.23\n"
     ]
    }
   ],
   "source": [
    "estacas_metros = np.arange(ETS, ESC+10, 10)\n",
    "estacas = []\n",
    "for i in estacas_metros:\n",
    "    estacas.append(metros_para_estacas(i))\n",
    "    print(metros_para_estacas(i))"
   ]
  },
  {
   "cell_type": "code",
   "execution_count": 151,
   "metadata": {},
   "outputs": [
    {
     "name": "stdout",
     "output_type": "stream",
     "text": [
      "[ 2685.227671  2695.227671  2705.227671  2715.227671  2725.227671\n",
      "  2735.227671  2745.227671  2755.227671]\n"
     ]
    }
   ],
   "source": [
    "print(estacas_metros)"
   ]
  },
  {
   "cell_type": "code",
   "execution_count": 155,
   "metadata": {},
   "outputs": [
    {
     "data": {
      "text/plain": [
       "0.0012560332714338306"
      ]
     },
     "execution_count": 155,
     "metadata": {},
     "output_type": "execute_result"
    }
   ],
   "source": [
    "k_ = TT/(2*Rc*ls)\n",
    "k_"
   ]
  },
  {
   "cell_type": "code",
   "execution_count": 158,
   "metadata": {},
   "outputs": [
    {
     "data": {
      "text/plain": [
       "0.54805535885933798"
      ]
     },
     "execution_count": 158,
     "metadata": {},
     "output_type": "execute_result"
    }
   ],
   "source": [
    "p = TT/(2*114.59*70)*100"
   ]
  },
  {
   "cell_type": "code",
   "execution_count": 159,
   "metadata": {},
   "outputs": [
    {
     "data": {
      "text/plain": [
       "101.73720021480027"
      ]
     },
     "execution_count": 159,
     "metadata": {},
     "output_type": "execute_result"
    }
   ],
   "source": [
    "np.rad2deg(p)"
   ]
  },
  {
   "cell_type": "code",
   "execution_count": 163,
   "metadata": {},
   "outputs": [
    {
     "data": {
      "text/plain": [
       "[0, 7, 8.5772593949782916]"
      ]
     },
     "execution_count": 163,
     "metadata": {},
     "output_type": "execute_result"
    }
   ],
   "source": [
    "dd2dms(np.rad2deg(theta/3 * (10/ls)**2))"
   ]
  },
  {
   "cell_type": "code",
   "execution_count": 165,
   "metadata": {},
   "outputs": [
    {
     "data": {
      "text/plain": [
       "0.07142961032916527"
      ]
     },
     "execution_count": 165,
     "metadata": {},
     "output_type": "execute_result"
    }
   ],
   "source": [
    "3437.75/(6*114.59*70)"
   ]
  },
  {
   "cell_type": "code",
   "execution_count": 166,
   "metadata": {},
   "outputs": [
    {
     "ename": "TypeError",
     "evalue": "ufunc 'subtract' did not contain a loop with signature matching types dtype('<U32') dtype('<U32') dtype('<U32')",
     "output_type": "error",
     "traceback": [
      "\u001b[1;31m---------------------------------------------------------------------------\u001b[0m",
      "\u001b[1;31mTypeError\u001b[0m                                 Traceback (most recent call last)",
      "\u001b[1;32m<ipython-input-166-6364a74a0ea6>\u001b[0m in \u001b[0;36m<module>\u001b[1;34m()\u001b[0m\n\u001b[0;32m      4\u001b[0m \u001b[0mdefle_par\u001b[0m \u001b[1;33m=\u001b[0m \u001b[1;33m[\u001b[0m\u001b[1;33m]\u001b[0m\u001b[1;33m\u001b[0m\u001b[0m\n\u001b[0;32m      5\u001b[0m \u001b[1;32mfor\u001b[0m \u001b[0mi\u001b[0m \u001b[1;32min\u001b[0m \u001b[0mestacas\u001b[0m\u001b[1;33m:\u001b[0m\u001b[1;33m\u001b[0m\u001b[0m\n\u001b[1;32m----> 6\u001b[1;33m     \u001b[0mdefle_par\u001b[0m\u001b[1;33m.\u001b[0m\u001b[0mappend\u001b[0m\u001b[1;33m(\u001b[0m\u001b[0mdeflexao_parcial\u001b[0m\u001b[1;33m(\u001b[0m\u001b[0mtheta\u001b[0m\u001b[1;33m,\u001b[0m \u001b[0mETS\u001b[0m\u001b[1;33m-\u001b[0m\u001b[0mi\u001b[0m\u001b[1;33m,\u001b[0m \u001b[0mls\u001b[0m\u001b[1;33m)\u001b[0m\u001b[1;33m)\u001b[0m\u001b[1;33m\u001b[0m\u001b[0m\n\u001b[0m",
      "\u001b[1;31mTypeError\u001b[0m: ufunc 'subtract' did not contain a loop with signature matching types dtype('<U32') dtype('<U32') dtype('<U32')"
     ]
    }
   ],
   "source": [
    "def deflexao_parcial(theta, corda, ls):\n",
    "    return dd2dms(np.rad2deg(theta/3 * (corda/ls)**2))\n",
    "\n",
    "defle_par = []\n",
    "for i in estacas:\n",
    "    defle_par.append(deflexao_parcial(theta, ETS-i, ls))"
   ]
  },
  {
   "cell_type": "code",
   "execution_count": null,
   "metadata": {},
   "outputs": [],
   "source": []
  }
 ],
 "metadata": {
  "kernelspec": {
   "display_name": "Python 3",
   "language": "python",
   "name": "python3"
  },
  "language_info": {
   "codemirror_mode": {
    "name": "ipython",
    "version": 3
   },
   "file_extension": ".py",
   "mimetype": "text/x-python",
   "name": "python",
   "nbconvert_exporter": "python",
   "pygments_lexer": "ipython3",
   "version": "3.6.2"
  },
  "latex_envs": {
   "LaTeX_envs_menu_present": true,
   "autocomplete": true,
   "bibliofile": "biblio.bib",
   "cite_by": "apalike",
   "current_citInitial": 1,
   "eqLabelWithNumbers": true,
   "eqNumInitial": 1,
   "hotkeys": {
    "equation": "Ctrl-E",
    "itemize": "Ctrl-I"
   },
   "labels_anchors": false,
   "latex_user_defs": false,
   "report_style_numbering": false,
   "user_envs_cfg": false
  },
  "toc": {
   "nav_menu": {},
   "number_sections": true,
   "sideBar": true,
   "skip_h1_title": false,
   "toc_cell": true,
   "toc_position": {},
   "toc_section_display": "block",
   "toc_window_display": true
  }
 },
 "nbformat": 4,
 "nbformat_minor": 2
}
