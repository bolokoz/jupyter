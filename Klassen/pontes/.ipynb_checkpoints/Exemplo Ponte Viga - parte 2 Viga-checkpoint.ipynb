{
 "cells": [
  {
   "cell_type": "markdown",
   "metadata": {
    "toc": "true"
   },
   "source": [
    " # Table of Contents\n",
    "<div class=\"toc\" style=\"margin-top: 1em;\"><ul class=\"toc-item\" id=\"toc-level0\"><li><span><a href=\"http://localhost:8888/notebooks/Klassen/pontes/Untitled.ipynb?kernel_name=python3#Cálculo-da-viga-principal\" data-toc-modified-id=\"Cálculo-da-viga-principal-1\"><span class=\"toc-item-num\">1&nbsp;&nbsp;</span>Cálculo da viga principal</a></span><ul class=\"toc-item\"><li><span><a href=\"http://localhost:8888/notebooks/Klassen/pontes/Untitled.ipynb?kernel_name=python3#Esquema-estrutural-e-seções-de-cálculo\" data-toc-modified-id=\"Esquema-estrutural-e-seções-de-cálculo-1.1\"><span class=\"toc-item-num\">1.1&nbsp;&nbsp;</span>Esquema estrutural e seções de cálculo</a></span></li><li><span><a href=\"http://localhost:8888/notebooks/Klassen/pontes/Untitled.ipynb?kernel_name=python3#Carga-permanente\" data-toc-modified-id=\"Carga-permanente-1.2\"><span class=\"toc-item-num\">1.2&nbsp;&nbsp;</span>Carga permanente</a></span><ul class=\"toc-item\"><li><span><a href=\"http://localhost:8888/notebooks/Klassen/pontes/Untitled.ipynb?kernel_name=python3#Cálculo-das-cargas-permamentes\" data-toc-modified-id=\"Cálculo-das-cargas-permamentes-1.2.1\"><span class=\"toc-item-num\">1.2.1&nbsp;&nbsp;</span>Cálculo das cargas permamentes</a></span><ul class=\"toc-item\"><li><span><a href=\"http://localhost:8888/notebooks/Klassen/pontes/Untitled.ipynb?kernel_name=python3#Peso-próprio-da-viga\" data-toc-modified-id=\"Peso-próprio-da-viga-1.2.1.1\"><span class=\"toc-item-num\">1.2.1.1&nbsp;&nbsp;</span>Peso próprio da viga</a></span></li><li><span><a href=\"http://localhost:8888/notebooks/Klassen/pontes/Untitled.ipynb?kernel_name=python3#Laje-central\" data-toc-modified-id=\"Laje-central-1.2.1.2\"><span class=\"toc-item-num\">1.2.1.2&nbsp;&nbsp;</span>Laje central</a></span></li><li><span><a href=\"http://localhost:8888/notebooks/Klassen/pontes/Untitled.ipynb?kernel_name=python3#Laje-em-balanço\" data-toc-modified-id=\"Laje-em-balanço-1.2.1.3\"><span class=\"toc-item-num\">1.2.1.3&nbsp;&nbsp;</span>Laje em balanço</a></span></li><li><span><a href=\"http://localhost:8888/notebooks/Klassen/pontes/Untitled.ipynb?kernel_name=python3#Carga-uniformemente-distribuída\" data-toc-modified-id=\"Carga-uniformemente-distribuída-1.2.1.4\"><span class=\"toc-item-num\">1.2.1.4&nbsp;&nbsp;</span>Carga uniformemente distribuída</a></span></li><li><span><a href=\"http://localhost:8888/notebooks/Klassen/pontes/Untitled.ipynb?kernel_name=python3#Carga-concentrada-sobre-os-apoios-devido-o-peso-do-alargamento\" data-toc-modified-id=\"Carga-concentrada-sobre-os-apoios-devido-o-peso-do-alargamento-1.2.1.5\"><span class=\"toc-item-num\">1.2.1.5&nbsp;&nbsp;</span>Carga concentrada sobre os apoios devido o peso do alargamento</a></span></li><li><span><a href=\"http://localhost:8888/notebooks/Klassen/pontes/Untitled.ipynb?kernel_name=python3#Carga-concentrada-nos-vãos-devido-o-peso-próprio-das-transversinas-intermediárias\" data-toc-modified-id=\"Carga-concentrada-nos-vãos-devido-o-peso-próprio-das-transversinas-intermediárias-1.2.1.6\"><span class=\"toc-item-num\">1.2.1.6&nbsp;&nbsp;</span>Carga concentrada nos vãos devido o peso próprio das transversinas intermediárias</a></span></li><li><span><a href=\"http://localhost:8888/notebooks/Klassen/pontes/Untitled.ipynb?kernel_name=python3#Carga-concentrada-nos-apoios-devido-o-peso-próprio-das-transversinas\" data-toc-modified-id=\"Carga-concentrada-nos-apoios-devido-o-peso-próprio-das-transversinas-1.2.1.7\"><span class=\"toc-item-num\">1.2.1.7&nbsp;&nbsp;</span>Carga concentrada nos apoios devido o peso próprio das transversinas</a></span></li><li><span><a href=\"http://localhost:8888/notebooks/Klassen/pontes/Untitled.ipynb?kernel_name=python3#????????\" data-toc-modified-id=\"????????-1.2.1.8\"><span class=\"toc-item-num\">1.2.1.8&nbsp;&nbsp;</span>????????</a></span></li><li><span><a href=\"http://localhost:8888/notebooks/Klassen/pontes/Untitled.ipynb?kernel_name=python3#Carga-concentrada-no-externo-do-balanço-devido-ao-peso-próprio-da-?????\" data-toc-modified-id=\"Carga-concentrada-no-externo-do-balanço-devido-ao-peso-próprio-da-?????-1.2.1.9\"><span class=\"toc-item-num\">1.2.1.9&nbsp;&nbsp;</span>Carga concentrada no externo do balanço devido ao peso próprio da ?????</a></span></li><li><span><a href=\"http://localhost:8888/notebooks/Klassen/pontes/Untitled.ipynb?kernel_name=python3#Carga-concentrada-no-extremo-do-balanço-devido-a-laje-de-transição-(placa-da-aproximação)\" data-toc-modified-id=\"Carga-concentrada-no-extremo-do-balanço-devido-a-laje-de-transição-(placa-da-aproximação)-1.2.1.10\"><span class=\"toc-item-num\">1.2.1.10&nbsp;&nbsp;</span>Carga concentrada no extremo do balanço devido a laje de transição (placa da aproximação)</a></span></li></ul></li><li><span><a href=\"http://localhost:8888/notebooks/Klassen/pontes/Untitled.ipynb?kernel_name=python3#Esquema-da-viga-principal-SEM-laje-de-transição\" data-toc-modified-id=\"Esquema-da-viga-principal-SEM-laje-de-transição-1.2.2\"><span class=\"toc-item-num\">1.2.2&nbsp;&nbsp;</span>Esquema da viga principal <strong>SEM</strong> laje de transição</a></span></li><li><span><a href=\"http://localhost:8888/notebooks/Klassen/pontes/Untitled.ipynb?kernel_name=python3#Esquema-da-viga-principal-COM-laje-de-transição\" data-toc-modified-id=\"Esquema-da-viga-principal-COM-laje-de-transição-1.2.3\"><span class=\"toc-item-num\">1.2.3&nbsp;&nbsp;</span>Esquema da viga principal <strong>COM</strong> laje de transição</a></span></li><li><span><a href=\"http://localhost:8888/notebooks/Klassen/pontes/Untitled.ipynb?kernel_name=python3#Momento-fletor-e-esforços-cortantes-nas-seções-de-cálculo,-devido-a-carga-permanente-com-a-laje-de-transição\" data-toc-modified-id=\"Momento-fletor-e-esforços-cortantes-nas-seções-de-cálculo,-devido-a-carga-permanente-com-a-laje-de-transição-1.2.4\"><span class=\"toc-item-num\">1.2.4&nbsp;&nbsp;</span>Momento fletor e esforços cortantes nas seções de cálculo, devido a carga permanente com a laje de transição</a></span></li></ul></li><li><span><a href=\"http://localhost:8888/notebooks/Klassen/pontes/Untitled.ipynb?kernel_name=python3#Cargas-móveis\" data-toc-modified-id=\"Cargas-móveis-1.3\"><span class=\"toc-item-num\">1.3&nbsp;&nbsp;</span>Cargas móveis</a></span><ul class=\"toc-item\"><li><span><a href=\"http://localhost:8888/notebooks/Klassen/pontes/Untitled.ipynb?kernel_name=python3#Coeficiente-de-impacto-vertical\" data-toc-modified-id=\"Coeficiente-de-impacto-vertical-1.3.1\"><span class=\"toc-item-num\">1.3.1&nbsp;&nbsp;</span>Coeficiente de impacto vertical</a></span></li><li><span><a href=\"http://localhost:8888/notebooks/Klassen/pontes/Untitled.ipynb?kernel_name=python3#Determinação-do-trem-tipo-real,-sem-impacto\" data-toc-modified-id=\"Determinação-do-trem-tipo-real,-sem-impacto-1.3.2\"><span class=\"toc-item-num\">1.3.2&nbsp;&nbsp;</span>Determinação do trem tipo real, sem impacto</a></span></li><li><span><a href=\"http://localhost:8888/notebooks/Klassen/pontes/Untitled.ipynb?kernel_name=python3#Determinação-do-veículo-tipo-SIMPLIFICADO-sem-impacto\" data-toc-modified-id=\"Determinação-do-veículo-tipo-SIMPLIFICADO-sem-impacto-1.3.3\"><span class=\"toc-item-num\">1.3.3&nbsp;&nbsp;</span>Determinação do veículo tipo <em>SIMPLIFICADO</em> sem impacto</a></span></li><li><span><a href=\"http://localhost:8888/notebooks/Klassen/pontes/Untitled.ipynb?kernel_name=python3#Determinação-do-trem-tipo\" data-toc-modified-id=\"Determinação-do-trem-tipo-1.3.4\"><span class=\"toc-item-num\">1.3.4&nbsp;&nbsp;</span>Determinação do trem tipo</a></span></li><li><span><a href=\"http://localhost:8888/notebooks/Klassen/pontes/Untitled.ipynb?kernel_name=python3#Momento-fletor-nas-seções-devido-a-carga-móvel\" data-toc-modified-id=\"Momento-fletor-nas-seções-devido-a-carga-móvel-1.3.5\"><span class=\"toc-item-num\">1.3.5&nbsp;&nbsp;</span>Momento fletor nas seções devido a carga móvel</a></span></li></ul></li></ul></li></ul></div>"
   ]
  },
  {
   "cell_type": "markdown",
   "metadata": {},
   "source": [
    "# Cálculo da viga principal\n",
    "\n",
    "## Esquema estrutural e seções de cálculo\n",
    "\n",
    "<img src=\"pontes/images/3.1.jpg\" width=\"60%\" />\n",
    "\n",
    "## Carga permanente\n",
    "\n",
    "### Cálculo das cargas permamentes\n",
    "\n",
    "#### Peso próprio da viga\n",
    "\n",
    "<img src=\"pontes/images/3.2.1.1.jpg\" width=\"300\" />\n",
    "\n",
    "#### Laje central\n",
    "\n",
    "<img src=\"pontes/images/3.2.1.2.jpg\" width=\"600\" />\n",
    "\n",
    "#### Laje em balanço\n",
    "\n",
    "#### Carga uniformemente distribuída\n",
    "\n",
    "<img src=\"pontes/images/3.2.1.4.jpg\" width=\"500\" />\n",
    "\n",
    "#### Carga concentrada sobre os apoios devido o peso do alargamento\n",
    "\n",
    "#### Carga concentrada nos vãos devido o peso próprio das transversinas intermediárias\n",
    "\n",
    "<img src=\"pontes/images/3.2.1.6.jpg\" width=\"500\" />\n",
    "\n",
    "#### Carga concentrada nos apoios devido o peso próprio das transversinas\n",
    "\n",
    "<img src=\"images/3.2.1.7.jpg\" width=\"80%\" />\n",
    "\n",
    "#### ????????\n",
    "\n",
    "#### Carga concentrada no externo do balanço devido ao peso próprio da ?????\n",
    "\n",
    "<img src=\"pontes/images/3.2.1.9.jpg\" width=\"300\" />\n",
    "\n",
    "#### Carga concentrada no extremo do balanço devido a laje de transição (placa da aproximação)\n",
    "\n",
    "<img src=\"pontes/images/3.2.1.10.jpg\" width=\"300\" />\n",
    "\n",
    "### Esquema da viga principal **SEM** laje de transição\n",
    "\n",
    "<img src=\"pontes/images/3.2.2.jpg\" width=\"80%\" />\n",
    "\n",
    "### Esquema da viga principal **COM** laje de transição\n",
    "\n",
    "<img src=\"pontes/images/3.2.3.jpg\" width=\"80%\" />\n",
    "\n",
    "### Momento fletor e esforços cortantes nas seções de cálculo, devido a carga permanente com a laje de transição\n",
    "\n",
    "## Cargas móveis\n",
    "\n",
    "### Coeficiente de impacto vertical\n",
    "\n",
    "### Determinação do trem tipo real, sem impacto\n",
    "\n",
    "<img src=\"pontes/images/3.3.2.jpg\" width=\"300\" />\n",
    "\n",
    "### Determinação do veículo tipo *SIMPLIFICADO* sem impacto\n",
    "\n",
    "### Determinação do trem tipo\n",
    "\n",
    "### Momento fletor nas seções devido a carga móvel"
   ]
  },
  {
   "cell_type": "code",
   "execution_count": null,
   "metadata": {
    "collapsed": true
   },
   "outputs": [],
   "source": []
  }
 ],
 "metadata": {
  "kernelspec": {
   "display_name": "Python 3",
   "language": "python",
   "name": "python3"
  },
  "language_info": {
   "codemirror_mode": {
    "name": "ipython",
    "version": 3
   },
   "file_extension": ".py",
   "mimetype": "text/x-python",
   "name": "python",
   "nbconvert_exporter": "python",
   "pygments_lexer": "ipython3",
   "version": "3.5.2"
  },
  "latex_envs": {
   "LaTeX_envs_menu_present": true,
   "autocomplete": true,
   "bibliofile": "biblio.bib",
   "cite_by": "apalike",
   "current_citInitial": 1,
   "eqLabelWithNumbers": true,
   "eqNumInitial": 1,
   "hotkeys": {
    "equation": "Ctrl-E",
    "itemize": "Ctrl-I"
   },
   "labels_anchors": false,
   "latex_user_defs": false,
   "report_style_numbering": false,
   "user_envs_cfg": false
  },
  "toc": {
   "nav_menu": {},
   "number_sections": true,
   "sideBar": true,
   "skip_h1_title": false,
   "toc_cell": true,
   "toc_position": {},
   "toc_section_display": "block",
   "toc_window_display": true
  },
  "varInspector": {
   "cols": {
    "lenName": 16,
    "lenType": 16,
    "lenVar": 40
   },
   "kernels_config": {
    "python": {
     "delete_cmd_postfix": "",
     "delete_cmd_prefix": "del ",
     "library": "var_list.py",
     "varRefreshCmd": "print(var_dic_list())"
    },
    "r": {
     "delete_cmd_postfix": ") ",
     "delete_cmd_prefix": "rm(",
     "library": "var_list.r",
     "varRefreshCmd": "cat(var_dic_list()) "
    }
   },
   "types_to_exclude": [
    "module",
    "function",
    "builtin_function_or_method",
    "instance",
    "_Feature"
   ],
   "window_display": false
  }
 },
 "nbformat": 4,
 "nbformat_minor": 2
}
