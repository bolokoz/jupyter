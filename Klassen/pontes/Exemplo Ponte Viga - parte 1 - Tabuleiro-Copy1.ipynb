{
 "cells": [
  {
   "cell_type": "markdown",
   "metadata": {
    "toc": "true"
   },
   "source": [
    " # Table of Contents\n",
    "<div class=\"toc\" style=\"margin-top: 1em;\"><ul class=\"toc-item\" id=\"toc-level0\"><li><span><a href=\"http://localhost:8888/notebooks/Klassen/pontes/Exemplo%20Ponte%20Viga%20-%20parte%201%20-%20Tabuleiro-Copy1.ipynb#Exemplo:-Cálculo-da-laje-central\" data-toc-modified-id=\"Exemplo:-Cálculo-da-laje-central-1\"><span class=\"toc-item-num\">1&nbsp;&nbsp;</span>Exemplo: Cálculo da laje central</a></span><ul class=\"toc-item\"><li><span><a href=\"http://localhost:8888/notebooks/Klassen/pontes/Exemplo%20Ponte%20Viga%20-%20parte%201%20-%20Tabuleiro-Copy1.ipynb#Esquema-estrutural\" data-toc-modified-id=\"Esquema-estrutural-1.1\"><span class=\"toc-item-num\">1.1&nbsp;&nbsp;</span>Esquema estrutural</a></span></li><li><span><a href=\"http://localhost:8888/notebooks/Klassen/pontes/Exemplo%20Ponte%20Viga%20-%20parte%201%20-%20Tabuleiro-Copy1.ipynb#Cargas-permanentes\" data-toc-modified-id=\"Cargas-permanentes-1.2\"><span class=\"toc-item-num\">1.2&nbsp;&nbsp;</span>Cargas permanentes</a></span></li><li><span><a href=\"http://localhost:8888/notebooks/Klassen/pontes/Exemplo%20Ponte%20Viga%20-%20parte%201%20-%20Tabuleiro-Copy1.ipynb#???????\" data-toc-modified-id=\"???????-1.3\"><span class=\"toc-item-num\">1.3&nbsp;&nbsp;</span>???????</a></span></li><li><span><a href=\"http://localhost:8888/notebooks/Klassen/pontes/Exemplo%20Ponte%20Viga%20-%20parte%201%20-%20Tabuleiro-Copy1.ipynb#Direção-transversal\" data-toc-modified-id=\"Direção-transversal-1.4\"><span class=\"toc-item-num\">1.4&nbsp;&nbsp;</span>Direção transversal</a></span><ul class=\"toc-item\"><li><span><a href=\"http://localhost:8888/notebooks/Klassen/pontes/Exemplo%20Ponte%20Viga%20-%20parte%201%20-%20Tabuleiro-Copy1.ipynb#Diagramas-de-momentos-fletores\" data-toc-modified-id=\"Diagramas-de-momentos-fletores-1.4.1\"><span class=\"toc-item-num\">1.4.1&nbsp;&nbsp;</span>Diagramas de momentos fletores</a></span><ul class=\"toc-item\"><li><span><a href=\"http://localhost:8888/notebooks/Klassen/pontes/Exemplo%20Ponte%20Viga%20-%20parte%201%20-%20Tabuleiro-Copy1.ipynb#Momentos-permanentes\" data-toc-modified-id=\"Momentos-permanentes-1.4.1.1\"><span class=\"toc-item-num\">1.4.1.1&nbsp;&nbsp;</span>Momentos permanentes</a></span></li><li><span><a href=\"http://localhost:8888/notebooks/Klassen/pontes/Exemplo%20Ponte%20Viga%20-%20parte%201%20-%20Tabuleiro-Copy1.ipynb#Momentos-móveis\" data-toc-modified-id=\"Momentos-móveis-1.4.1.2\"><span class=\"toc-item-num\">1.4.1.2&nbsp;&nbsp;</span>Momentos móveis</a></span></li></ul></li><li><span><a href=\"http://localhost:8888/notebooks/Klassen/pontes/Exemplo%20Ponte%20Viga%20-%20parte%201%20-%20Tabuleiro-Copy1.ipynb#Seção-transversal\" data-toc-modified-id=\"Seção-transversal-1.4.2\"><span class=\"toc-item-num\">1.4.2&nbsp;&nbsp;</span>Seção transversal</a></span></li><li><span><a href=\"http://localhost:8888/notebooks/Klassen/pontes/Exemplo%20Ponte%20Viga%20-%20parte%201%20-%20Tabuleiro-Copy1.ipynb#Momentos-fletores-nas-seções-de-cálculo-devido-a-carga-permanente\" data-toc-modified-id=\"Momentos-fletores-nas-seções-de-cálculo-devido-a-carga-permanente-1.4.3\"><span class=\"toc-item-num\">1.4.3&nbsp;&nbsp;</span>Momentos fletores nas seções de cálculo devido a carga permanente</a></span></li><li><span><a href=\"http://localhost:8888/notebooks/Klassen/pontes/Exemplo%20Ponte%20Viga%20-%20parte%201%20-%20Tabuleiro-Copy1.ipynb#Momento-fletor-na-seção-de-cálculo,-devido-carga-móvel\" data-toc-modified-id=\"Momento-fletor-na-seção-de-cálculo,-devido-carga-móvel-1.4.4\"><span class=\"toc-item-num\">1.4.4&nbsp;&nbsp;</span>Momento fletor na seção de cálculo, devido carga móvel</a></span></li><li><span><a href=\"http://localhost:8888/notebooks/Klassen/pontes/Exemplo%20Ponte%20Viga%20-%20parte%201%20-%20Tabuleiro-Copy1.ipynb#Coeficiente-de-impacto-vertical\" data-toc-modified-id=\"Coeficiente-de-impacto-vertical-1.4.5\"><span class=\"toc-item-num\">1.4.5&nbsp;&nbsp;</span>Coeficiente de impacto vertical</a></span></li><li><span><a href=\"http://localhost:8888/notebooks/Klassen/pontes/Exemplo%20Ponte%20Viga%20-%20parte%201%20-%20Tabuleiro-Copy1.ipynb#Envoltório-momento-fletor\" data-toc-modified-id=\"Envoltório-momento-fletor-1.4.6\"><span class=\"toc-item-num\">1.4.6&nbsp;&nbsp;</span>Envoltório momento fletor</a></span></li><li><span><a href=\"http://localhost:8888/notebooks/Klassen/pontes/Exemplo%20Ponte%20Viga%20-%20parte%201%20-%20Tabuleiro-Copy1.ipynb#DImensionamento-ao-momento-fletor\" data-toc-modified-id=\"DImensionamento-ao-momento-fletor-1.4.7\"><span class=\"toc-item-num\">1.4.7&nbsp;&nbsp;</span>DImensionamento ao momento fletor</a></span><ul class=\"toc-item\"><li><span><a href=\"http://localhost:8888/notebooks/Klassen/pontes/Exemplo%20Ponte%20Viga%20-%20parte%201%20-%20Tabuleiro-Copy1.ipynb#Momentos-positivos\" data-toc-modified-id=\"Momentos-positivos-1.4.7.1\"><span class=\"toc-item-num\">1.4.7.1&nbsp;&nbsp;</span>Momentos positivos</a></span></li><li><span><a href=\"http://localhost:8888/notebooks/Klassen/pontes/Exemplo%20Ponte%20Viga%20-%20parte%201%20-%20Tabuleiro-Copy1.ipynb#Momentos-negativos\" data-toc-modified-id=\"Momentos-negativos-1.4.7.2\"><span class=\"toc-item-num\">1.4.7.2&nbsp;&nbsp;</span>Momentos negativos</a></span></li><li><span><a href=\"http://localhost:8888/notebooks/Klassen/pontes/Exemplo%20Ponte%20Viga%20-%20parte%201%20-%20Tabuleiro-Copy1.ipynb#Momento-positivos---Verificação-fadiga\" data-toc-modified-id=\"Momento-positivos---Verificação-fadiga-1.4.7.3\"><span class=\"toc-item-num\">1.4.7.3&nbsp;&nbsp;</span>Momento positivos - Verificação fadiga</a></span></li><li><span><a href=\"http://localhost:8888/notebooks/Klassen/pontes/Exemplo%20Ponte%20Viga%20-%20parte%201%20-%20Tabuleiro-Copy1.ipynb#Momentos-negativos---Verificação-fadiga\" data-toc-modified-id=\"Momentos-negativos---Verificação-fadiga-1.4.7.4\"><span class=\"toc-item-num\">1.4.7.4&nbsp;&nbsp;</span>Momentos negativos - Verificação fadiga</a></span></li><li><span><a href=\"http://localhost:8888/notebooks/Klassen/pontes/Exemplo%20Ponte%20Viga%20-%20parte%201%20-%20Tabuleiro-Copy1.ipynb#Resumo-armadura-positiva\" data-toc-modified-id=\"Resumo-armadura-positiva-1.4.7.5\"><span class=\"toc-item-num\">1.4.7.5&nbsp;&nbsp;</span>Resumo armadura positiva</a></span></li><li><span><a href=\"http://localhost:8888/notebooks/Klassen/pontes/Exemplo%20Ponte%20Viga%20-%20parte%201%20-%20Tabuleiro-Copy1.ipynb#Resumo-armadura-negativa\" data-toc-modified-id=\"Resumo-armadura-negativa-1.4.7.6\"><span class=\"toc-item-num\">1.4.7.6&nbsp;&nbsp;</span>Resumo armadura negativa</a></span></li></ul></li></ul></li><li><span><a href=\"http://localhost:8888/notebooks/Klassen/pontes/Exemplo%20Ponte%20Viga%20-%20parte%201%20-%20Tabuleiro-Copy1.ipynb#Direção-longitudinal\" data-toc-modified-id=\"Direção-longitudinal-1.5\"><span class=\"toc-item-num\">1.5&nbsp;&nbsp;</span>Direção longitudinal</a></span><ul class=\"toc-item\"><li><span><a href=\"http://localhost:8888/notebooks/Klassen/pontes/Exemplo%20Ponte%20Viga%20-%20parte%201%20-%20Tabuleiro-Copy1.ipynb#Envoltorio-dos-momentos-fletores\" data-toc-modified-id=\"Envoltorio-dos-momentos-fletores-1.5.1\"><span class=\"toc-item-num\">1.5.1&nbsp;&nbsp;</span>Envoltorio dos momentos fletores</a></span></li></ul></li></ul></li><li><span><a href=\"http://localhost:8888/notebooks/Klassen/pontes/Exemplo%20Ponte%20Viga%20-%20parte%201%20-%20Tabuleiro-Copy1.ipynb#????\" data-toc-modified-id=\"????-2\"><span class=\"toc-item-num\">2&nbsp;&nbsp;</span>????</a></span><ul class=\"toc-item\"><li><span><a href=\"http://localhost:8888/notebooks/Klassen/pontes/Exemplo%20Ponte%20Viga%20-%20parte%201%20-%20Tabuleiro-Copy1.ipynb#???\" data-toc-modified-id=\"???-2.1\"><span class=\"toc-item-num\">2.1&nbsp;&nbsp;</span>???</a></span></li><li><span><a href=\"http://localhost:8888/notebooks/Klassen/pontes/Exemplo%20Ponte%20Viga%20-%20parte%201%20-%20Tabuleiro-Copy1.ipynb#Cargas-permanentes\" data-toc-modified-id=\"Cargas-permanentes-2.2\"><span class=\"toc-item-num\">2.2&nbsp;&nbsp;</span>Cargas permanentes</a></span><ul class=\"toc-item\"><li><span><a href=\"http://localhost:8888/notebooks/Klassen/pontes/Exemplo%20Ponte%20Viga%20-%20parte%201%20-%20Tabuleiro-Copy1.ipynb#Cálculo-das-cargas\" data-toc-modified-id=\"Cálculo-das-cargas-2.2.1\"><span class=\"toc-item-num\">2.2.1&nbsp;&nbsp;</span>Cálculo das cargas</a></span></li><li><span><a href=\"http://localhost:8888/notebooks/Klassen/pontes/Exemplo%20Ponte%20Viga%20-%20parte%201%20-%20Tabuleiro-Copy1.ipynb#Momentos-fletores-nas-seções-de-cálculo,-devido-a-carga-permanente\" data-toc-modified-id=\"Momentos-fletores-nas-seções-de-cálculo,-devido-a-carga-permanente-2.2.2\"><span class=\"toc-item-num\">2.2.2&nbsp;&nbsp;</span>Momentos fletores nas seções de cálculo, devido a carga permanente</a></span></li><li><span><a href=\"http://localhost:8888/notebooks/Klassen/pontes/Exemplo%20Ponte%20Viga%20-%20parte%201%20-%20Tabuleiro-Copy1.ipynb#Seção-$S_1$\" data-toc-modified-id=\"Seção-$S_1$-2.2.3\"><span class=\"toc-item-num\">2.2.3&nbsp;&nbsp;</span>Seção $S_1$</a></span></li><li><span><a href=\"http://localhost:8888/notebooks/Klassen/pontes/Exemplo%20Ponte%20Viga%20-%20parte%201%20-%20Tabuleiro-Copy1.ipynb#Seção-$S_2$\" data-toc-modified-id=\"Seção-$S_2$-2.2.4\"><span class=\"toc-item-num\">2.2.4&nbsp;&nbsp;</span>Seção $S_2$</a></span></li><li><span><a href=\"http://localhost:8888/notebooks/Klassen/pontes/Exemplo%20Ponte%20Viga%20-%20parte%201%20-%20Tabuleiro-Copy1.ipynb#Seção-$S_3$\" data-toc-modified-id=\"Seção-$S_3$-2.2.5\"><span class=\"toc-item-num\">2.2.5&nbsp;&nbsp;</span>Seção $S_3$</a></span></li></ul></li><li><span><a href=\"http://localhost:8888/notebooks/Klassen/pontes/Exemplo%20Ponte%20Viga%20-%20parte%201%20-%20Tabuleiro-Copy1.ipynb#Cargas-móveis\" data-toc-modified-id=\"Cargas-móveis-2.3\"><span class=\"toc-item-num\">2.3&nbsp;&nbsp;</span>Cargas móveis</a></span><ul class=\"toc-item\"><li><span><a href=\"http://localhost:8888/notebooks/Klassen/pontes/Exemplo%20Ponte%20Viga%20-%20parte%201%20-%20Tabuleiro-Copy1.ipynb#Momento-fletor-nas-seções-de-cálculo,-devido-a-carga-móvel\" data-toc-modified-id=\"Momento-fletor-nas-seções-de-cálculo,-devido-a-carga-móvel-2.3.1\"><span class=\"toc-item-num\">2.3.1&nbsp;&nbsp;</span>Momento fletor nas seções de cálculo, devido a carga móvel</a></span><ul class=\"toc-item\"><li><span><a href=\"http://localhost:8888/notebooks/Klassen/pontes/Exemplo%20Ponte%20Viga%20-%20parte%201%20-%20Tabuleiro-Copy1.ipynb#Direção-transversal-('x')\" data-toc-modified-id=\"Direção-transversal-('x')-2.3.1.1\"><span class=\"toc-item-num\">2.3.1.1&nbsp;&nbsp;</span>Direção transversal ('x')</a></span></li><li><span><a href=\"http://localhost:8888/notebooks/Klassen/pontes/Exemplo%20Ponte%20Viga%20-%20parte%201%20-%20Tabuleiro-Copy1.ipynb#Direção-longitudinal-('y')\" data-toc-modified-id=\"Direção-longitudinal-('y')-2.3.1.2\"><span class=\"toc-item-num\">2.3.1.2&nbsp;&nbsp;</span>Direção longitudinal ('y')</a></span></li></ul></li></ul></li><li><span><a href=\"http://localhost:8888/notebooks/Klassen/pontes/Exemplo%20Ponte%20Viga%20-%20parte%201%20-%20Tabuleiro-Copy1.ipynb#Direção-transversal-('x')\" data-toc-modified-id=\"Direção-transversal-('x')-2.4\"><span class=\"toc-item-num\">2.4&nbsp;&nbsp;</span>Direção transversal ('x')</a></span><ul class=\"toc-item\"><li><span><a href=\"http://localhost:8888/notebooks/Klassen/pontes/Exemplo%20Ponte%20Viga%20-%20parte%201%20-%20Tabuleiro-Copy1.ipynb#Coeficiente-de-impacto-vertical\" data-toc-modified-id=\"Coeficiente-de-impacto-vertical-2.4.1\"><span class=\"toc-item-num\">2.4.1&nbsp;&nbsp;</span>Coeficiente de impacto vertical</a></span></li><li><span><a href=\"http://localhost:8888/notebooks/Klassen/pontes/Exemplo%20Ponte%20Viga%20-%20parte%201%20-%20Tabuleiro-Copy1.ipynb#Envoltório-dos-momentos-fletores\" data-toc-modified-id=\"Envoltório-dos-momentos-fletores-2.4.2\"><span class=\"toc-item-num\">2.4.2&nbsp;&nbsp;</span>Envoltório dos momentos fletores</a></span></li><li><span><a href=\"http://localhost:8888/notebooks/Klassen/pontes/Exemplo%20Ponte%20Viga%20-%20parte%201%20-%20Tabuleiro-Copy1.ipynb#Dimensionamento-aos-momentos-fletores---direção-('y')\" data-toc-modified-id=\"Dimensionamento-aos-momentos-fletores---direção-('y')-2.4.3\"><span class=\"toc-item-num\">2.4.3&nbsp;&nbsp;</span>Dimensionamento aos momentos fletores - direção ('y')</a></span></li></ul></li></ul></li></ul></div>"
   ]
  },
  {
   "cell_type": "markdown",
   "metadata": {},
   "source": [
    "# Exemplo: Cálculo da laje central"
   ]
  },
  {
   "cell_type": "markdown",
   "metadata": {},
   "source": [
    "<img src=\"pontes/images/1.jpg\" width=\"300\" />"
   ]
  },
  {
   "cell_type": "markdown",
   "metadata": {},
   "source": [
    "## Esquema estrutural"
   ]
  },
  {
   "cell_type": "markdown",
   "metadata": {},
   "source": [
    "<img src=\"pontes/images/1.1.jpg\" width=\"300\" />"
   ]
  },
  {
   "cell_type": "code",
   "execution_count": 49,
   "metadata": {
    "scrolled": true
   },
   "outputs": [
    {
     "data": {
      "text/html": [
       "<div>\n",
       "<style>\n",
       "    .dataframe thead tr:only-child th {\n",
       "        text-align: right;\n",
       "    }\n",
       "\n",
       "    .dataframe thead th {\n",
       "        text-align: left;\n",
       "    }\n",
       "\n",
       "    .dataframe tbody tr th {\n",
       "        vertical-align: top;\n",
       "    }\n",
       "</style>\n",
       "<table border=\"1\" class=\"dataframe\">\n",
       "  <thead>\n",
       "    <tr style=\"text-align: right;\">\n",
       "      <th></th>\n",
       "      <th>0</th>\n",
       "    </tr>\n",
       "  </thead>\n",
       "  <tbody>\n",
       "    <tr>\n",
       "      <th>t1</th>\n",
       "      <td>0.62</td>\n",
       "    </tr>\n",
       "    <tr>\n",
       "      <th>t2</th>\n",
       "      <td>0.8</td>\n",
       "    </tr>\n",
       "    <tr>\n",
       "      <th>t</th>\n",
       "      <td>1.1916375287812984 meter</td>\n",
       "    </tr>\n",
       "    <tr>\n",
       "      <th>t/a</th>\n",
       "      <td>0.5958187643906492 dimensionless</td>\n",
       "    </tr>\n",
       "    <tr>\n",
       "      <th>lx/a</th>\n",
       "      <td>3.3 dimensionless</td>\n",
       "    </tr>\n",
       "  </tbody>\n",
       "</table>\n",
       "</div>"
      ],
      "text/plain": [
       "                                     0\n",
       "t1                                0.62\n",
       "t2                                 0.8\n",
       "t             1.1916375287812984 meter\n",
       "t/a   0.5958187643906492 dimensionless\n",
       "lx/a                 3.3 dimensionless"
      ]
     },
     "execution_count": 49,
     "metadata": {},
     "output_type": "execute_result"
    }
   ],
   "source": [
    "import pandas as pd\n",
    "import numpy as np\n",
    "import pint\n",
    "u = pint.UnitRegistry()\n",
    "\n",
    "# distancia entre eixos do trem tipo\n",
    "a = 2 * u.meter\n",
    "\n",
    "# distancia entre as longarinas\n",
    "lx = 6.6 * u.meter\n",
    "\n",
    "# ????? \n",
    "t1 = 0.2 + 2 * (0.085) + 0.25\n",
    "t2 = 0.5 + 2 * (0.025) + 0.25\n",
    "t = np.sqrt((t1 + t2)) * u.meter\n",
    "\n",
    "# Imprimir tabela de dados\n",
    "df = pd.DataFrame(\n",
    "    [t1, t2,t, t/a, lx/a],\n",
    "    ['t1', 't2', 't', 't/a', 'lx/a']\n",
    ")\n",
    "df\n"
   ]
  },
  {
   "cell_type": "markdown",
   "metadata": {},
   "source": [
    "## Cargas permanentes"
   ]
  },
  {
   "cell_type": "code",
   "execution_count": 50,
   "metadata": {},
   "outputs": [
    {
     "data": {
      "text/html": [
       "<div>\n",
       "<style>\n",
       "    .dataframe thead tr:only-child th {\n",
       "        text-align: right;\n",
       "    }\n",
       "\n",
       "    .dataframe thead th {\n",
       "        text-align: left;\n",
       "    }\n",
       "\n",
       "    .dataframe tbody tr th {\n",
       "        vertical-align: top;\n",
       "    }\n",
       "</style>\n",
       "<table border=\"1\" class=\"dataframe\">\n",
       "  <thead>\n",
       "    <tr style=\"text-align: right;\">\n",
       "      <th></th>\n",
       "      <th>0</th>\n",
       "    </tr>\n",
       "  </thead>\n",
       "  <tbody>\n",
       "    <tr>\n",
       "      <th>altura_laje</th>\n",
       "      <td>0.25</td>\n",
       "    </tr>\n",
       "    <tr>\n",
       "      <th>peso_concreto</th>\n",
       "      <td>2.5 force_ton / meter ** 3</td>\n",
       "    </tr>\n",
       "    <tr>\n",
       "      <th>pp_laje</th>\n",
       "      <td>0.625 force_ton / meter ** 2</td>\n",
       "    </tr>\n",
       "    <tr>\n",
       "      <th>altura_pavimento</th>\n",
       "      <td>0.085 meter</td>\n",
       "    </tr>\n",
       "    <tr>\n",
       "      <th>peso_pavimento</th>\n",
       "      <td>2.4 force_ton / meter ** 3</td>\n",
       "    </tr>\n",
       "    <tr>\n",
       "      <th>pp_pavimento</th>\n",
       "      <td>0.20400000000000001 force_ton / meter ** 2</td>\n",
       "    </tr>\n",
       "    <tr>\n",
       "      <th>g</th>\n",
       "      <td>0.829 force_ton / meter ** 2</td>\n",
       "    </tr>\n",
       "  </tbody>\n",
       "</table>\n",
       "</div>"
      ],
      "text/plain": [
       "                                                           0\n",
       "altura_laje                                             0.25\n",
       "peso_concreto                     2.5 force_ton / meter ** 3\n",
       "pp_laje                         0.625 force_ton / meter ** 2\n",
       "altura_pavimento                                 0.085 meter\n",
       "peso_pavimento                    2.4 force_ton / meter ** 3\n",
       "pp_pavimento      0.20400000000000001 force_ton / meter ** 2\n",
       "g                               0.829 force_ton / meter ** 2"
      ]
     },
     "execution_count": 50,
     "metadata": {},
     "output_type": "execute_result"
    }
   ],
   "source": [
    "# Peso próprio da laje\n",
    "altura_laje = 0.25 * u.meter\n",
    "peso_concreto = 2.5 * u.ton_force / u.meter**3\n",
    "pp_laje = altura_laje * peso_concreto\n",
    "\n",
    "# Peso próprio pavimento\n",
    "altura_pavimento = 0.085 * u.meter\n",
    "peso_pavimento =  2.4 * u.ton_force / u.meter**3\n",
    "pp_pavimento = altura_pavimento * peso_pavimento\n",
    "\n",
    "# Peso total\n",
    "g = pp_laje + pp_pavimento\n",
    "\n",
    "# Imprimir tabela de dados\n",
    "df = pd.DataFrame(\n",
    "    [altura_laje.magnitude, peso_concreto, pp_laje, altura_pavimento, peso_pavimento, pp_pavimento, g],\n",
    "    ['altura_laje', \"peso_concreto\", 'pp_laje', 'altura_pavimento', 'peso_pavimento', 'pp_pavimento', 'g']\n",
    ")\n",
    "df\n"
   ]
  },
  {
   "cell_type": "code",
   "execution_count": 51,
   "metadata": {
    "scrolled": true
   },
   "outputs": [
    {
     "data": {
      "text/html": [
       "<div>\n",
       "<style>\n",
       "    .dataframe thead tr:only-child th {\n",
       "        text-align: right;\n",
       "    }\n",
       "\n",
       "    .dataframe thead th {\n",
       "        text-align: left;\n",
       "    }\n",
       "\n",
       "    .dataframe tbody tr th {\n",
       "        vertical-align: top;\n",
       "    }\n",
       "</style>\n",
       "<table border=\"1\" class=\"dataframe\">\n",
       "  <thead>\n",
       "    <tr style=\"text-align: right;\">\n",
       "      <th></th>\n",
       "      <th>magnitude</th>\n",
       "      <th>units</th>\n",
       "    </tr>\n",
       "  </thead>\n",
       "  <tbody>\n",
       "    <tr>\n",
       "      <th>g</th>\n",
       "      <td>0.829000</td>\n",
       "      <td>force_ton / meter ** 2</td>\n",
       "    </tr>\n",
       "    <tr>\n",
       "      <th>lx</th>\n",
       "      <td>6.600000</td>\n",
       "      <td>meter</td>\n",
       "    </tr>\n",
       "    <tr>\n",
       "      <th>$k_{xm}$</th>\n",
       "      <td>0.041700</td>\n",
       "      <td>force_ton</td>\n",
       "    </tr>\n",
       "    <tr>\n",
       "      <th>$M_{xm}$</th>\n",
       "      <td>1.505839</td>\n",
       "      <td>force_ton ** 2</td>\n",
       "    </tr>\n",
       "    <tr>\n",
       "      <th>$k_{ym}$</th>\n",
       "      <td>0.069000</td>\n",
       "      <td>force_ton</td>\n",
       "    </tr>\n",
       "    <tr>\n",
       "      <th>$M_{ym}$</th>\n",
       "      <td>2.491676</td>\n",
       "      <td>force_ton ** 2</td>\n",
       "    </tr>\n",
       "    <tr>\n",
       "      <th>$k_{xe}$</th>\n",
       "      <td>-0.083300</td>\n",
       "      <td>force_ton</td>\n",
       "    </tr>\n",
       "    <tr>\n",
       "      <th>$M_{xe}$</th>\n",
       "      <td>-3.008066</td>\n",
       "      <td>force_ton ** 2</td>\n",
       "    </tr>\n",
       "  </tbody>\n",
       "</table>\n",
       "</div>"
      ],
      "text/plain": [
       "          magnitude                   units\n",
       "g          0.829000  force_ton / meter ** 2\n",
       "lx         6.600000                   meter\n",
       "$k_{xm}$   0.041700               force_ton\n",
       "$M_{xm}$   1.505839          force_ton ** 2\n",
       "$k_{ym}$   0.069000               force_ton\n",
       "$M_{ym}$   2.491676          force_ton ** 2\n",
       "$k_{xe}$  -0.083300               force_ton\n",
       "$M_{xe}$  -3.008066          force_ton ** 2"
      ]
     },
     "execution_count": 51,
     "metadata": {},
     "output_type": "execute_result"
    }
   ],
   "source": [
    "kxm = 0.0417 * u.ton_force\n",
    "mxm = kxm * g * lx**2\n",
    "\n",
    "kym = 0.069 * u.ton_force\n",
    "mym = kym * g * lx**2\n",
    "\n",
    "kxe = -0.0833 * u.ton_force\n",
    "mxe = kxe * g * lx**2\n",
    "\n",
    "# Imprimir tabela de dados\n",
    "df1 = pd.DataFrame([\n",
    "    [g.magnitude, g.units],\n",
    "    [lx.magnitude, lx.units],\n",
    "        [kxm.magnitude, kxm.units],\n",
    "    [mxm.magnitude, mxm.units],\n",
    "        [kym.magnitude, kym.units],\n",
    "    [mym.magnitude, mym.units],\n",
    "        [kxe.magnitude, kxe.units],\n",
    "    [mxe.magnitude, mxe.units]\n",
    "],\n",
    "    columns=['magnitude', 'units'],\n",
    "    index=['g','lx','$k_{xm}$','$M_{xm}$','$k_{ym}$','$M_{ym}$','$k_{xe}$', '$M_{xe}$']\n",
    ")\n",
    "df1\n"
   ]
  },
  {
   "cell_type": "markdown",
   "metadata": {},
   "source": [
    "## ???????\n",
    "## Direção transversal"
   ]
  },
  {
   "cell_type": "markdown",
   "metadata": {},
   "source": [
    "Entrar com os valores na tabela e fazer as operações pedidas para poder completar a tabela"
   ]
  },
  {
   "cell_type": "markdown",
   "metadata": {},
   "source": [
    "<style type=\"text/css\">\n",
    ".tg  {border-collapse:collapse;border-spacing:0;border-color:#999;}\n",
    ".tg td{font-family:Arial, sans-serif;font-size:14px;padding:10px 5px;border-style:solid;border-width:1px;overflow:hidden;word-break:normal;border-color:#999;color:#444;background-color:#F7FDFA;}\n",
    ".tg th{font-family:Arial, sans-serif;font-size:14px;font-weight:normal;padding:10px 5px;border-style:solid;border-width:1px;overflow:hidden;word-break:normal;border-color:#999;color:#fff;background-color:#26ADE4;}\n",
    ".tg .tg-baqh{text-align:center;vertical-align:top}\n",
    ".tg .tg-8xib{background-color:#fffc9e;text-align:center;vertical-align:top}\n",
    ".tg .tg-7ygo{background-color:#fffe65;text-align:center;vertical-align:top}\n",
    "</style>\n",
    "<table class=\"tg\">\n",
    "  <tr>\n",
    "    <th class=\"tg-baqh\" colspan=\"10\">Carga das rodas - 1 tf</th>\n",
    "    <th class=\"tg-baqh\" colspan=\"6\">Carga multidão - 1tf/m2</th>\n",
    "  </tr>\n",
    "  <tr>\n",
    "    <td class=\"tg-baqh\" rowspan=\"3\">lx/a</td>\n",
    "    <td class=\"tg-baqh\" colspan=\"3\">$M_{xm}$</td>\n",
    "    <td class=\"tg-baqh\" colspan=\"3\">$M_{xm}$</td>\n",
    "    <td class=\"tg-baqh\" colspan=\"3\">$M_{xm}$</td>\n",
    "    <td class=\"tg-baqh\" colspan=\"2\">$M_{xm}$</td>\n",
    "    <td class=\"tg-baqh\" colspan=\"2\">$M_{xm}$</td>\n",
    "    <td class=\"tg-baqh\" colspan=\"2\">$M_{xm}$</td>\n",
    "  </tr>\n",
    "  <tr>\n",
    "    <td class=\"tg-baqh\" colspan=\"3\">$\\frac{t}{a}$</td>\n",
    "    <td class=\"tg-baqh\" colspan=\"3\">$\\frac{t}{a}$</td>\n",
    "    <td class=\"tg-baqh\" colspan=\"3\">$\\frac{t}{a}$</td>\n",
    "    <td class=\"tg-baqh\" rowspan=\"2\">p</td>\n",
    "    <td class=\"tg-baqh\" rowspan=\"2\">p'</td>\n",
    "    <td class=\"tg-baqh\" rowspan=\"2\">p</td>\n",
    "    <td class=\"tg-baqh\" rowspan=\"2\">p'</td>\n",
    "    <td class=\"tg-baqh\" rowspan=\"2\">p</td>\n",
    "    <td class=\"tg-baqh\" rowspan=\"2\">p'</td>\n",
    "  </tr>\n",
    "  <tr>\n",
    "    <td class=\"tg-baqh\">0.25</td>\n",
    "    <td class=\"tg-8xib\"> {{ t/a }} </td>\n",
    "    <td class=\"tg-baqh\">0.5</td>\n",
    "    <td class=\"tg-baqh\">0.25</td>\n",
    "    <td class=\"tg-7ygo\"> {{ t/a }} </td>\n",
    "    <td class=\"tg-baqh\">0.5</td>\n",
    "    <td class=\"tg-baqh\">0.25</td>\n",
    "    <td class=\"tg-baqh\"> {{ t/a }}</td>\n",
    "    <td class=\"tg-baqh\">0.5</td>\n",
    "  </tr>\n",
    "  <tr>\n",
    "    <td class=\"tg-baqh\">3</td>\n",
    "    <td class=\"tg-baqh\">0.415</td>\n",
    "    <td class=\"tg-baqh\">média</td>\n",
    "    <td class=\"tg-baqh\">0.370</td>\n",
    "    <td class=\"tg-baqh\">0.239</td>\n",
    "    <td class=\"tg-baqh\">média</td>\n",
    "    <td class=\"tg-baqh\">0.179</td>\n",
    "    <td class=\"tg-baqh\">0.840</td>\n",
    "    <td class=\"tg-baqh\">média</td>\n",
    "    <td class=\"tg-baqh\">0.8</td>\n",
    "    <td class=\"tg-baqh\">0.3</td>\n",
    "    <td class=\"tg-baqh\">0.53</td>\n",
    "    <td class=\"tg-baqh\">0.05</td>\n",
    "    <td class=\"tg-baqh\">0.24</td>\n",
    "    <td class=\"tg-baqh\">0.2</td>\n",
    "    <td class=\"tg-baqh\">0.8</td>\n",
    "  </tr>\n",
    "  <tr>\n",
    "    <td class=\"tg-baqh\">{{lx/a}}</td>\n",
    "    <td class=\"tg-baqh\"></td>\n",
    "    <td class=\"tg-baqh\">interpolocação</td>\n",
    "    <td class=\"tg-baqh\"></td>\n",
    "    <td class=\"tg-baqh\"></td>\n",
    "    <td class=\"tg-baqh\">interpolocação</td>\n",
    "    <td class=\"tg-baqh\"></td>\n",
    "    <td class=\"tg-baqh\"></td>\n",
    "    <td class=\"tg-baqh\">interpolocação</td>\n",
    "    <td class=\"tg-baqh\"></td>\n",
    "    <td class=\"tg-baqh\">interpolocação</td>\n",
    "    <td class=\"tg-baqh\">interpolocação</td>\n",
    "    <td class=\"tg-baqh\">interpolocação</td>\n",
    "    <td class=\"tg-baqh\">interpolocação</td>\n",
    "    <td class=\"tg-baqh\">interpolocação</td>\n",
    "    <td class=\"tg-baqh\">interpolocação</td>\n",
    "  </tr>\n",
    "  <tr>\n",
    "    <td class=\"tg-baqh\">4</td>\n",
    "    <td class=\"tg-baqh\">média</td>\n",
    "    <td class=\"tg-baqh\">0.502</td>\n",
    "    <td class=\"tg-baqh\">0.485</td>\n",
    "    <td class=\"tg-baqh\">0,315</td>\n",
    "    <td class=\"tg-baqh\">média</td>\n",
    "    <td class=\"tg-baqh\">0,262</td>\n",
    "    <td class=\"tg-baqh\">1.06</td>\n",
    "    <td class=\"tg-baqh\">média</td>\n",
    "    <td class=\"tg-baqh\">0.8</td>\n",
    "    <td class=\"tg-baqh\">0.8</td>\n",
    "    <td class=\"tg-baqh\">1.11</td>\n",
    "    <td class=\"tg-baqh\">0.130</td>\n",
    "    <td class=\"tg-baqh\">0.570</td>\n",
    "    <td class=\"tg-baqh\">0.55</td>\n",
    "    <td class=\"tg-baqh\">2.2</td>\n",
    "  </tr>\n",
    "</table>"
   ]
  },
  {
   "cell_type": "code",
   "execution_count": 52,
   "metadata": {},
   "outputs": [
    {
     "data": {
      "text/html": [
       "<div>\n",
       "<style>\n",
       "    .dataframe thead tr:only-child th {\n",
       "        text-align: right;\n",
       "    }\n",
       "\n",
       "    .dataframe thead th {\n",
       "        text-align: left;\n",
       "    }\n",
       "\n",
       "    .dataframe tbody tr th {\n",
       "        vertical-align: top;\n",
       "    }\n",
       "</style>\n",
       "<table border=\"1\" class=\"dataframe\">\n",
       "  <thead>\n",
       "    <tr style=\"text-align: right;\">\n",
       "      <th></th>\n",
       "      <th>valor1</th>\n",
       "      <th>valor2</th>\n",
       "      <th>média</th>\n",
       "    </tr>\n",
       "  </thead>\n",
       "  <tbody>\n",
       "    <tr>\n",
       "      <th></th>\n",
       "      <td>0.415</td>\n",
       "      <td>0.37</td>\n",
       "      <td>0.3925</td>\n",
       "    </tr>\n",
       "  </tbody>\n",
       "</table>\n",
       "</div>"
      ],
      "text/plain": [
       "  valor1  valor2   média\n",
       "   0.415    0.37  0.3925"
      ]
     },
     "execution_count": 52,
     "metadata": {},
     "output_type": "execute_result"
    }
   ],
   "source": [
    "# Exemplo de média\n",
    "df = pd.DataFrame(index=[''])\n",
    "df['valor1'] = [0.415]\n",
    "df['valor2'] = [0.370]\n",
    "df['média'] = np.mean([0.415,0.37])\n",
    "df\n"
   ]
  },
  {
   "cell_type": "code",
   "execution_count": 53,
   "metadata": {},
   "outputs": [
    {
     "data": {
      "text/html": [
       "<div>\n",
       "<style>\n",
       "    .dataframe thead tr:only-child th {\n",
       "        text-align: right;\n",
       "    }\n",
       "\n",
       "    .dataframe thead th {\n",
       "        text-align: left;\n",
       "    }\n",
       "\n",
       "    .dataframe tbody tr th {\n",
       "        vertical-align: top;\n",
       "    }\n",
       "</style>\n",
       "<table border=\"1\" class=\"dataframe\">\n",
       "  <thead>\n",
       "    <tr style=\"text-align: right;\">\n",
       "      <th></th>\n",
       "      <th>coluna1</th>\n",
       "      <th>coluna2</th>\n",
       "    </tr>\n",
       "  </thead>\n",
       "  <tbody>\n",
       "    <tr>\n",
       "      <th>0</th>\n",
       "      <td>3.0</td>\n",
       "      <td>0.392</td>\n",
       "    </tr>\n",
       "    <tr>\n",
       "      <th>1</th>\n",
       "      <td>3.3</td>\n",
       "      <td>0.425</td>\n",
       "    </tr>\n",
       "    <tr>\n",
       "      <th>2</th>\n",
       "      <td>4.0</td>\n",
       "      <td>0.502</td>\n",
       "    </tr>\n",
       "  </tbody>\n",
       "</table>\n",
       "</div>"
      ],
      "text/plain": [
       "   coluna1  coluna2\n",
       "0      3.0    0.392\n",
       "1      3.3    0.425\n",
       "2      4.0    0.502"
      ]
     },
     "execution_count": 53,
     "metadata": {},
     "output_type": "execute_result"
    }
   ],
   "source": [
    "# Exemplo de interpolação\n",
    "lx_a = [3,4]\n",
    "mxm_ = [0.392,0.502]\n",
    "mxm = np.interp(3.3,lx_a,mxm_)\n",
    "df = pd.DataFrame()\n",
    "df['coluna1'] = [3,3.3,4]\n",
    "df['coluna2'] = [0.392,mxm,0.502]\n",
    "df"
   ]
  },
  {
   "cell_type": "markdown",
   "metadata": {},
   "source": [
    "Tabela completa"
   ]
  },
  {
   "cell_type": "markdown",
   "metadata": {},
   "source": [
    "<style type=\"text/css\">\n",
    ".tg  {border-collapse:collapse;border-spacing:0;border-color:#999;}\n",
    ".tg td{font-family:Arial, sans-serif;font-size:14px;padding:10px 5px;border-style:solid;border-width:1px;overflow:hidden;word-break:normal;border-color:#999;color:#444;background-color:#F7FDFA;}\n",
    ".tg th{font-family:Arial, sans-serif;font-size:14px;font-weight:normal;padding:10px 5px;border-style:solid;border-width:1px;overflow:hidden;word-break:normal;border-color:#999;color:#fff;background-color:#26ADE4;}\n",
    ".tg .tg-baqh{text-align:center;vertical-align:top}\n",
    "</style>\n",
    "<table class=\"tg\">\n",
    "  <tr>\n",
    "    <th class=\"tg-baqh\" colspan=\"10\">Carga das rodas - 1 tf</th>\n",
    "    <th class=\"tg-baqh\" colspan=\"6\">Carga multidão - 1tf/m2</th>\n",
    "  </tr>\n",
    "  <tr>\n",
    "    <td class=\"tg-baqh\" rowspan=\"3\">lx/a</td>\n",
    "    <td class=\"tg-baqh\" colspan=\"3\">$M_{xm}$</td>\n",
    "    <td class=\"tg-baqh\" colspan=\"3\">$M_{ym}$</td>\n",
    "    <td class=\"tg-baqh\" colspan=\"3\">$-M_{xe}$</td>\n",
    "    <td class=\"tg-baqh\" colspan=\"2\">$M_{xm}$</td>\n",
    "    <td class=\"tg-baqh\" colspan=\"2\">$M_{ym}$</td>\n",
    "    <td class=\"tg-baqh\" colspan=\"2\">$-M_{xe}$</td>\n",
    "  </tr>\n",
    "  <tr>\n",
    "    <td class=\"tg-baqh\" colspan=\"3\">$\\frac{t}{a}$</td>\n",
    "    <td class=\"tg-baqh\" colspan=\"3\">$\\frac{t}{a}$</td>\n",
    "    <td class=\"tg-baqh\" colspan=\"3\">$\\frac{t}{a}$</td>\n",
    "    <td class=\"tg-baqh\" rowspan=\"2\">p</td>\n",
    "    <td class=\"tg-baqh\" rowspan=\"2\">p'</td>\n",
    "    <td class=\"tg-baqh\" rowspan=\"2\">p</td>\n",
    "    <td class=\"tg-baqh\" rowspan=\"2\">p'</td>\n",
    "    <td class=\"tg-baqh\" rowspan=\"2\">p</td>\n",
    "    <td class=\"tg-baqh\" rowspan=\"2\">p'</td>\n",
    "  </tr>\n",
    "  <tr>\n",
    "    <td class=\"tg-baqh\">0.25</td>\n",
    "    <td class=\"tg-baqh\">0.378</td>\n",
    "    <td class=\"tg-baqh\">0.5</td>\n",
    "    <td class=\"tg-baqh\">0.25</td>\n",
    "    <td class=\"tg-baqh\">0.378</td>\n",
    "    <td class=\"tg-baqh\">0.5</td>\n",
    "    <td class=\"tg-baqh\">0.25</td>\n",
    "    <td class=\"tg-baqh\">0.578</td>\n",
    "    <td class=\"tg-baqh\">0.5</td>\n",
    "  </tr>\n",
    "  <tr>\n",
    "    <td class=\"tg-baqh\">3</td>\n",
    "    <td class=\"tg-baqh\">0.415</td>\n",
    "    <td class=\"tg-baqh\">0.392</td>\n",
    "    <td class=\"tg-baqh\">0.370</td>\n",
    "    <td class=\"tg-baqh\">0.239</td>\n",
    "    <td class=\"tg-baqh\">0.208</td>\n",
    "    <td class=\"tg-baqh\">0.179</td>\n",
    "    <td class=\"tg-baqh\">0.840</td>\n",
    "    <td class=\"tg-baqh\">0.820</td>\n",
    "    <td class=\"tg-baqh\">0.8</td>\n",
    "    <td class=\"tg-baqh\">0.3</td>\n",
    "    <td class=\"tg-baqh\">0.53</td>\n",
    "    <td class=\"tg-baqh\">0.05</td>\n",
    "    <td class=\"tg-baqh\">0.24</td>\n",
    "    <td class=\"tg-baqh\">0.2</td>\n",
    "    <td class=\"tg-baqh\">0.8</td>\n",
    "  </tr>\n",
    "  <tr>\n",
    "    <td class=\"tg-baqh\">3.3</td>\n",
    "    <td class=\"tg-baqh\"></td>\n",
    "    <td class=\"tg-baqh\">0.425</td>\n",
    "    <td class=\"tg-baqh\"></td>\n",
    "    <td class=\"tg-baqh\"></td>\n",
    "    <td class=\"tg-baqh\">0.232</td>\n",
    "    <td class=\"tg-baqh\"></td>\n",
    "    <td class=\"tg-baqh\"></td>\n",
    "    <td class=\"tg-baqh\">0.884</td>\n",
    "    <td class=\"tg-baqh\"></td>\n",
    "    <td class=\"tg-baqh\">0.45</td>\n",
    "    <td class=\"tg-baqh\">0.704</td>\n",
    "    <td class=\"tg-baqh\">0.074</td>\n",
    "    <td class=\"tg-baqh\">0.339</td>\n",
    "    <td class=\"tg-baqh\">0.305</td>\n",
    "    <td class=\"tg-baqh\">1.22</td>\n",
    "  </tr>\n",
    "  <tr>\n",
    "    <td class=\"tg-baqh\">4</td>\n",
    "    <td class=\"tg-baqh\">0.52</td>\n",
    "    <td class=\"tg-baqh\">0.502</td>\n",
    "    <td class=\"tg-baqh\">0.485</td>\n",
    "    <td class=\"tg-baqh\">0,315</td>\n",
    "    <td class=\"tg-baqh\">0,288</td>\n",
    "    <td class=\"tg-baqh\">0,262</td>\n",
    "    <td class=\"tg-baqh\">1.06</td>\n",
    "    <td class=\"tg-baqh\">1.01</td>\n",
    "    <td class=\"tg-baqh\">0.8</td>\n",
    "    <td class=\"tg-baqh\">0.8</td>\n",
    "    <td class=\"tg-baqh\">1.11</td>\n",
    "    <td class=\"tg-baqh\">0.130</td>\n",
    "    <td class=\"tg-baqh\">0.570</td>\n",
    "    <td class=\"tg-baqh\">0.55</td>\n",
    "    <td class=\"tg-baqh\">2.2</td>\n",
    "  </tr>\n",
    "</table>"
   ]
  },
  {
   "cell_type": "code",
   "execution_count": 54,
   "metadata": {},
   "outputs": [
    {
     "data": {
      "text/html": [
       "<div>\n",
       "<style>\n",
       "    .dataframe thead tr:only-child th {\n",
       "        text-align: right;\n",
       "    }\n",
       "\n",
       "    .dataframe thead th {\n",
       "        text-align: left;\n",
       "    }\n",
       "\n",
       "    .dataframe tbody tr th {\n",
       "        vertical-align: top;\n",
       "    }\n",
       "</style>\n",
       "<table border=\"1\" class=\"dataframe\">\n",
       "  <thead>\n",
       "    <tr style=\"text-align: right;\">\n",
       "      <th></th>\n",
       "      <th>$M_{xm}$</th>\n",
       "      <th>$M_{ym}$</th>\n",
       "      <th>$M_{xe}$</th>\n",
       "    </tr>\n",
       "  </thead>\n",
       "  <tbody>\n",
       "    <tr>\n",
       "      <th>Momentos móveis $\\dfrac{tf \\cdot m}{m}$</th>\n",
       "      <td>3.7645</td>\n",
       "      <td>1.9465</td>\n",
       "      <td>-7.3925</td>\n",
       "    </tr>\n",
       "  </tbody>\n",
       "</table>\n",
       "</div>"
      ],
      "text/plain": [
       "                                         $M_{xm}$  $M_{ym}$  $M_{xe}$\n",
       "Momentos móveis $\\dfrac{tf \\cdot m}{m}$    3.7645    1.9465   -7.3925"
      ]
     },
     "execution_count": 54,
     "metadata": {},
     "output_type": "execute_result"
    }
   ],
   "source": [
    "# Determinar os momentos moveis com uso da tabela\n",
    "mxm_movel = 0.425*7.5 + 0.45*0.5 + 0.704*0.5\n",
    "mym_movel = 0.232*7.5 + 0.074*0.5 + 0.339*0.5\n",
    "mxe_movel = 0.884*7.5 + 0.305*0.5 + 1.22*0.5\n",
    "\n",
    "df = pd.DataFrame(index=['Momentos móveis $\\dfrac{tf \\cdot m}{m}$'])\n",
    "df['$M_{xm}$'] = [mxm_movel]\n",
    "df['$M_{ym}$'] = [mym_movel]\n",
    "df['$M_{xe}$'] = [-mxe_movel]\n",
    "df"
   ]
  },
  {
   "cell_type": "markdown",
   "metadata": {},
   "source": [
    "### Diagramas de momentos fletores"
   ]
  },
  {
   "cell_type": "markdown",
   "metadata": {},
   "source": [
    "#### Momentos permanentes"
   ]
  },
  {
   "cell_type": "markdown",
   "metadata": {},
   "source": [
    "<img src=\"pontes/images/1.4.1.1.jpg\" width=\"60%\"/>"
   ]
  },
  {
   "cell_type": "markdown",
   "metadata": {},
   "source": [
    "#### Momentos móveis"
   ]
  },
  {
   "cell_type": "markdown",
   "metadata": {},
   "source": [
    "<img src=\"pontes/images/1.4.1.2.jpg\" width=\"60%\"/>"
   ]
  },
  {
   "cell_type": "markdown",
   "metadata": {},
   "source": [
    "### Seção transversal"
   ]
  },
  {
   "cell_type": "markdown",
   "metadata": {},
   "source": [
    "<img src=\"pontes/images/1.4.2.jpg\" width=\"400\" />"
   ]
  },
  {
   "cell_type": "markdown",
   "metadata": {},
   "source": [
    "### Momentos fletores nas seções de cálculo devido a carga permanente"
   ]
  },
  {
   "cell_type": "markdown",
   "metadata": {},
   "source": [
    "<img src=\"pontes/images/1.4.3.jpg\" width=\"300\" />"
   ]
  },
  {
   "cell_type": "code",
   "execution_count": 55,
   "metadata": {},
   "outputs": [
    {
     "name": "stderr",
     "output_type": "stream",
     "text": [
      "/usr/local/lib/python3.5/dist-packages/matplotlib/axes/_axes.py:545: UserWarning: No labelled objects found. Use label='...' kwarg on individual plots.\n",
      "  warnings.warn(\"No labelled objects found. \"\n"
     ]
    },
    {
     "data": {
      "image/png": "[encoded data removed]",
      "text/plain": [
       "<matplotlib.figure.Figure at 0x7f033fe56160>"
      ]
     },
     "metadata": {},
     "output_type": "display_data"
    }
   ],
   "source": [
    "def ms(x):\n",
    "    return -3.008 + 2.736*x - 0.829*x**2/2\n",
    "\n",
    "import matplotlib.pyplot as plt\n",
    "%matplotlib inline\n",
    "\n",
    "# criar espacamentos\n",
    "x = np.linspace(0, 6.6, num=40, endpoint=True)\n",
    "\n",
    "# Make the plot\n",
    "plt.plot(x, -ms(x), linewidth=3)\n",
    "plt.xlabel(r\"Momento Fletor  (kN*m)\")\n",
    "plt.ylabel(r\"Coordenadas X (m)\")\n",
    "plt.title(r\"Diagrama momento fletor\")\n",
    "plt.plot([0,6.6], [0, 0], linewidth = 10, alpha=0.5)\n",
    "plt.xlim(-1, 7)\n",
    "plt.legend(loc=\"lower left\")\n",
    "plt.show()\n"
   ]
  },
  {
   "cell_type": "markdown",
   "metadata": {},
   "source": [
    "Tabela com os valores de cada secao:"
   ]
  },
  {
   "cell_type": "code",
   "execution_count": 56,
   "metadata": {
    "scrolled": true
   },
   "outputs": [
    {
     "data": {
      "text/html": [
       "<div>\n",
       "<style>\n",
       "    .dataframe thead tr:only-child th {\n",
       "        text-align: right;\n",
       "    }\n",
       "\n",
       "    .dataframe thead th {\n",
       "        text-align: left;\n",
       "    }\n",
       "\n",
       "    .dataframe tbody tr th {\n",
       "        vertical-align: top;\n",
       "    }\n",
       "</style>\n",
       "<table border=\"1\" class=\"dataframe\">\n",
       "  <thead>\n",
       "    <tr style=\"text-align: right;\">\n",
       "      <th></th>\n",
       "      <th>Secao</th>\n",
       "      <th>x (m)</th>\n",
       "      <th>Mg</th>\n",
       "    </tr>\n",
       "  </thead>\n",
       "  <tbody>\n",
       "    <tr>\n",
       "      <th>0</th>\n",
       "      <td>a</td>\n",
       "      <td>0.000</td>\n",
       "      <td>-3.008000</td>\n",
       "    </tr>\n",
       "    <tr>\n",
       "      <th>1</th>\n",
       "      <td>b</td>\n",
       "      <td>0.225</td>\n",
       "      <td>-2.413384</td>\n",
       "    </tr>\n",
       "    <tr>\n",
       "      <th>2</th>\n",
       "      <td>c</td>\n",
       "      <td>1.025</td>\n",
       "      <td>-0.639084</td>\n",
       "    </tr>\n",
       "    <tr>\n",
       "      <th>3</th>\n",
       "      <td>d</td>\n",
       "      <td>1.394</td>\n",
       "      <td>0.000513</td>\n",
       "    </tr>\n",
       "    <tr>\n",
       "      <th>4</th>\n",
       "      <td>e</td>\n",
       "      <td>1.980</td>\n",
       "      <td>0.784274</td>\n",
       "    </tr>\n",
       "    <tr>\n",
       "      <th>5</th>\n",
       "      <td>f</td>\n",
       "      <td>2.310</td>\n",
       "      <td>1.100347</td>\n",
       "    </tr>\n",
       "    <tr>\n",
       "      <th>6</th>\n",
       "      <td>g</td>\n",
       "      <td>3.300</td>\n",
       "      <td>1.506895</td>\n",
       "    </tr>\n",
       "  </tbody>\n",
       "</table>\n",
       "</div>"
      ],
      "text/plain": [
       "  Secao  x (m)        Mg\n",
       "0     a  0.000 -3.008000\n",
       "1     b  0.225 -2.413384\n",
       "2     c  1.025 -0.639084\n",
       "3     d  1.394  0.000513\n",
       "4     e  1.980  0.784274\n",
       "5     f  2.310  1.100347\n",
       "6     g  3.300  1.506895"
      ]
     },
     "execution_count": 56,
     "metadata": {},
     "output_type": "execute_result"
    }
   ],
   "source": [
    "coordenadas_secoes = [0, 0.225, 1.025, 1.394, 1.98, 2.31, 3.30]\n",
    "mg = []\n",
    "for i in coordenadas_secoes:\n",
    "    mg.append(ms(i))\n",
    "df = pd.DataFrame()\n",
    "df['Secao'] = ['a', 'b', 'c', 'd', 'e', 'f','g']\n",
    "df['x (m)'] = coordenadas_x\n",
    "df['Mg'] = mg\n",
    "df"
   ]
  },
  {
   "cell_type": "markdown",
   "metadata": {},
   "source": [
    "### Momento fletor na seção de cálculo, devido carga móvel"
   ]
  },
  {
   "cell_type": "code",
   "execution_count": 105,
   "metadata": {},
   "outputs": [],
   "source": [
    "# definir funcao do momento fletor devido carga movel positiva\n",
    "def ms_movel_neg(x):\n",
    "    if(x <= 0.35*lx):\n",
    "        return mxe_movel*((0.35*lx - x)/(0.35*lx))\n",
    "    else: return 0\n",
    "    \n",
    "# definir funcao do momento fletor devido carga movel negativa\n",
    "def ms_movel_pos(x):\n",
    "    if(x <= 0.30*lx):\n",
    "        return mxm_movel* ((x)/ (0.3*lx))\n",
    "    else: return mxm_movel"
   ]
  },
  {
   "cell_type": "code",
   "execution_count": 106,
   "metadata": {},
   "outputs": [
    {
     "name": "stdout",
     "output_type": "stream",
     "text": [
      "7.3925\n"
     ]
    }
   ],
   "source": [
    "print(ms_movel_neg(0))"
   ]
  },
  {
   "cell_type": "code",
   "execution_count": 239,
   "metadata": {},
   "outputs": [
    {
     "data": {
      "text/html": [
       "<div>\n",
       "<style>\n",
       "    .dataframe thead tr:only-child th {\n",
       "        text-align: right;\n",
       "    }\n",
       "\n",
       "    .dataframe thead th {\n",
       "        text-align: left;\n",
       "    }\n",
       "\n",
       "    .dataframe tbody tr th {\n",
       "        vertical-align: top;\n",
       "    }\n",
       "</style>\n",
       "<table border=\"1\" class=\"dataframe\">\n",
       "  <thead>\n",
       "    <tr style=\"text-align: right;\">\n",
       "      <th></th>\n",
       "      <th>Secao</th>\n",
       "      <th>x (m)</th>\n",
       "      <th>Mp +</th>\n",
       "      <th>Mp -</th>\n",
       "    </tr>\n",
       "  </thead>\n",
       "  <tbody>\n",
       "    <tr>\n",
       "      <th>0</th>\n",
       "      <td>a</td>\n",
       "      <td>0.000</td>\n",
       "      <td>0.000000</td>\n",
       "      <td>-7.392500</td>\n",
       "    </tr>\n",
       "    <tr>\n",
       "      <th>1</th>\n",
       "      <td>b</td>\n",
       "      <td>0.225</td>\n",
       "      <td>0.427784</td>\n",
       "      <td>-6.672451</td>\n",
       "    </tr>\n",
       "    <tr>\n",
       "      <th>2</th>\n",
       "      <td>c</td>\n",
       "      <td>1.025</td>\n",
       "      <td>1.948794</td>\n",
       "      <td>-4.112278</td>\n",
       "    </tr>\n",
       "    <tr>\n",
       "      <th>3</th>\n",
       "      <td>d</td>\n",
       "      <td>1.394</td>\n",
       "      <td>2.650360</td>\n",
       "      <td>-2.931398</td>\n",
       "    </tr>\n",
       "    <tr>\n",
       "      <th>4</th>\n",
       "      <td>e</td>\n",
       "      <td>1.980</td>\n",
       "      <td>3.764500</td>\n",
       "      <td>-1.056071</td>\n",
       "    </tr>\n",
       "    <tr>\n",
       "      <th>5</th>\n",
       "      <td>f</td>\n",
       "      <td>2.310</td>\n",
       "      <td>3.764500</td>\n",
       "      <td>0.000000</td>\n",
       "    </tr>\n",
       "    <tr>\n",
       "      <th>6</th>\n",
       "      <td>g</td>\n",
       "      <td>3.300</td>\n",
       "      <td>3.764500</td>\n",
       "      <td>0.000000</td>\n",
       "    </tr>\n",
       "  </tbody>\n",
       "</table>\n",
       "</div>"
      ],
      "text/plain": [
       "  Secao  x (m)      Mp +      Mp -\n",
       "0     a  0.000  0.000000 -7.392500\n",
       "1     b  0.225  0.427784 -6.672451\n",
       "2     c  1.025  1.948794 -4.112278\n",
       "3     d  1.394  2.650360 -2.931398\n",
       "4     e  1.980  3.764500 -1.056071\n",
       "5     f  2.310  3.764500  0.000000\n",
       "6     g  3.300  3.764500  0.000000"
      ]
     },
     "execution_count": 239,
     "metadata": {},
     "output_type": "execute_result"
    }
   ],
   "source": [
    "mp_neg = []\n",
    "mp_pos = []\n",
    "for i in coordenadas_secoes:\n",
    "    mp_neg.append(-ms_movel_neg(i))\n",
    "    mp_pos.append(ms_movel_pos(i))\n",
    "    \n",
    "df = pd.DataFrame()\n",
    "df['Secao'] = ['a', 'b', 'c', 'd', 'e', 'f','g']\n",
    "df['x (m)'] = coordenadas_x\n",
    "df['Mp +'] = mp_pos\n",
    "df['Mp -'] = mp_neg\n",
    "df"
   ]
  },
  {
   "cell_type": "markdown",
   "metadata": {},
   "source": [
    "### Coeficiente de impacto vertical"
   ]
  },
  {
   "cell_type": "code",
   "execution_count": 108,
   "metadata": {},
   "outputs": [
    {
     "data": {
      "text/plain": [
       "1.35"
      ]
     },
     "execution_count": 108,
     "metadata": {},
     "output_type": "execute_result"
    }
   ],
   "source": [
    "civ = 1.35\n",
    "n = 2\n",
    "cnf = 1 - 0.05*(n-2)\n",
    "# coeficiente de amplificacao\n",
    "psi = civ * cnf\n",
    "psi"
   ]
  },
  {
   "cell_type": "markdown",
   "metadata": {},
   "source": [
    "### Envoltório momento fletor"
   ]
  },
  {
   "cell_type": "code",
   "execution_count": 241,
   "metadata": {},
   "outputs": [
    {
     "data": {
      "text/html": [
       "<div>\n",
       "<style>\n",
       "    .dataframe thead tr:only-child th {\n",
       "        text-align: right;\n",
       "    }\n",
       "\n",
       "    .dataframe thead th {\n",
       "        text-align: left;\n",
       "    }\n",
       "\n",
       "    .dataframe tbody tr th {\n",
       "        vertical-align: top;\n",
       "    }\n",
       "</style>\n",
       "<table border=\"1\" class=\"dataframe\">\n",
       "  <thead>\n",
       "    <tr style=\"text-align: right;\">\n",
       "      <th></th>\n",
       "      <th>Secao</th>\n",
       "      <th>x (m)</th>\n",
       "      <th>Mg</th>\n",
       "      <th>Mp amplificado pos</th>\n",
       "      <th>Mp amplificado neg</th>\n",
       "      <th>Envoltoria max</th>\n",
       "      <th>Envoltoria min</th>\n",
       "    </tr>\n",
       "  </thead>\n",
       "  <tbody>\n",
       "    <tr>\n",
       "      <th>0</th>\n",
       "      <td>a</td>\n",
       "      <td>0.000</td>\n",
       "      <td>-3.008000</td>\n",
       "      <td>0.000000</td>\n",
       "      <td>-9.979875</td>\n",
       "      <td>-3.008000</td>\n",
       "      <td>-12.987875</td>\n",
       "    </tr>\n",
       "    <tr>\n",
       "      <th>1</th>\n",
       "      <td>b</td>\n",
       "      <td>0.225</td>\n",
       "      <td>-2.413384</td>\n",
       "      <td>0.577509</td>\n",
       "      <td>-9.007809</td>\n",
       "      <td>-1.835876</td>\n",
       "      <td>-11.421193</td>\n",
       "    </tr>\n",
       "    <tr>\n",
       "      <th>2</th>\n",
       "      <td>c</td>\n",
       "      <td>1.025</td>\n",
       "      <td>-0.639084</td>\n",
       "      <td>2.630872</td>\n",
       "      <td>-5.551575</td>\n",
       "      <td>1.991788</td>\n",
       "      <td>-6.190660</td>\n",
       "    </tr>\n",
       "    <tr>\n",
       "      <th>3</th>\n",
       "      <td>d</td>\n",
       "      <td>1.394</td>\n",
       "      <td>0.000513</td>\n",
       "      <td>3.577986</td>\n",
       "      <td>-3.957388</td>\n",
       "      <td>3.578499</td>\n",
       "      <td>-3.956875</td>\n",
       "    </tr>\n",
       "    <tr>\n",
       "      <th>4</th>\n",
       "      <td>e</td>\n",
       "      <td>1.980</td>\n",
       "      <td>0.784274</td>\n",
       "      <td>5.082075</td>\n",
       "      <td>-1.425696</td>\n",
       "      <td>5.866349</td>\n",
       "      <td>-0.641422</td>\n",
       "    </tr>\n",
       "    <tr>\n",
       "      <th>5</th>\n",
       "      <td>f</td>\n",
       "      <td>2.310</td>\n",
       "      <td>1.100347</td>\n",
       "      <td>5.082075</td>\n",
       "      <td>0.000000</td>\n",
       "      <td>6.182422</td>\n",
       "      <td>1.100347</td>\n",
       "    </tr>\n",
       "    <tr>\n",
       "      <th>6</th>\n",
       "      <td>g</td>\n",
       "      <td>3.300</td>\n",
       "      <td>1.506895</td>\n",
       "      <td>5.082075</td>\n",
       "      <td>0.000000</td>\n",
       "      <td>6.588970</td>\n",
       "      <td>1.506895</td>\n",
       "    </tr>\n",
       "  </tbody>\n",
       "</table>\n",
       "</div>"
      ],
      "text/plain": [
       "  Secao  x (m)        Mg  Mp amplificado pos  Mp amplificado neg  \\\n",
       "0     a  0.000 -3.008000            0.000000           -9.979875   \n",
       "1     b  0.225 -2.413384            0.577509           -9.007809   \n",
       "2     c  1.025 -0.639084            2.630872           -5.551575   \n",
       "3     d  1.394  0.000513            3.577986           -3.957388   \n",
       "4     e  1.980  0.784274            5.082075           -1.425696   \n",
       "5     f  2.310  1.100347            5.082075            0.000000   \n",
       "6     g  3.300  1.506895            5.082075            0.000000   \n",
       "\n",
       "   Envoltoria max  Envoltoria min  \n",
       "0       -3.008000      -12.987875  \n",
       "1       -1.835876      -11.421193  \n",
       "2        1.991788       -6.190660  \n",
       "3        3.578499       -3.956875  \n",
       "4        5.866349       -0.641422  \n",
       "5        6.182422        1.100347  \n",
       "6        6.588970        1.506895  "
      ]
     },
     "execution_count": 241,
     "metadata": {},
     "output_type": "execute_result"
    }
   ],
   "source": [
    "# momentos amplificados\n",
    "mp_neg_amp = np.multiply(mp_neg,1.35)\n",
    "mp_pos_amp = np.multiply(mp_pos,1.35)\n",
    "\n",
    "# envoltorias\n",
    "env_max = mg + mp_pos_amp\n",
    "env_min = mg + mp_neg_amp\n",
    "\n",
    "# tabela\n",
    "secoes = ['a', 'b', 'c', 'd', 'e', 'f','g']\n",
    "df = pd.DataFrame()\n",
    "df['Secao'] = secoes\n",
    "df['x (m)'] = coordenadas_x\n",
    "df['Mg'] = mg\n",
    "df['Mp amplificado pos'] = mp_pos_amp\n",
    "df['Mp amplificado neg'] = mp_neg_amp\n",
    "df['Envoltoria max'] = env_max\n",
    "df['Envoltoria min'] = env_min\n",
    "df"
   ]
  },
  {
   "cell_type": "markdown",
   "metadata": {},
   "source": [
    "### DImensionamento ao momento fletor"
   ]
  },
  {
   "cell_type": "code",
   "execution_count": 224,
   "metadata": {},
   "outputs": [],
   "source": [
    "#fck 25\n",
    "fck = 2.5 # kN/cm2 \n",
    "fcd = fck/1.35\n",
    "#Aco CA 50\n",
    "fyk = 50  #kN/cm2\n",
    "fs = fyk/1.15"
   ]
  },
  {
   "cell_type": "markdown",
   "metadata": {},
   "source": [
    "<img src=\"images/1.4.7.jpg\" width=\"300\" />"
   ]
  },
  {
   "cell_type": "code",
   "execution_count": 242,
   "metadata": {},
   "outputs": [],
   "source": [
    "# momentos com coeficiente de seguranca\n",
    "mg_coef = np.multiply(mg, 1.35) #momento permanente\n",
    "mq_pos_coef = np.multiply(mp_pos_amp, 1.5) #momento acidental POSITIVO\n",
    "mq_neg_coef = np.multiply(mp_neg_amp, 1.5) #momento acidental NEGATIVO\n",
    "\n",
    "#MD positivo e negativo\n",
    "md_pos = (mg_coef + mq_pos_coef)\n",
    "md_neg = (mg_coef + mq_neg_coef)\n",
    "\n",
    "# geometria\n",
    "bw = 100\n",
    "d = 22\n",
    "h= 25"
   ]
  },
  {
   "cell_type": "markdown",
   "metadata": {},
   "source": [
    "#### Momentos positivos"
   ]
  },
  {
   "cell_type": "markdown",
   "metadata": {},
   "source": [
    "?????????/ As secoes A e B nao possuem momento positivo"
   ]
  },
  {
   "cell_type": "code",
   "execution_count": 236,
   "metadata": {},
   "outputs": [
    {
     "name": "stdout",
     "output_type": "stream",
     "text": [
      "Area de aco mínima = 3.75 cm2/m\n"
     ]
    },
    {
     "data": {
      "text/html": [
       "<div>\n",
       "<style>\n",
       "    .dataframe thead tr:only-child th {\n",
       "        text-align: right;\n",
       "    }\n",
       "\n",
       "    .dataframe thead th {\n",
       "        text-align: left;\n",
       "    }\n",
       "\n",
       "    .dataframe tbody tr th {\n",
       "        vertical-align: top;\n",
       "    }\n",
       "</style>\n",
       "<table border=\"1\" class=\"dataframe\">\n",
       "  <thead>\n",
       "    <tr style=\"text-align: right;\">\n",
       "      <th></th>\n",
       "      <th>Secao</th>\n",
       "      <th>x (m)</th>\n",
       "      <th>Mg</th>\n",
       "      <th>Mq pos</th>\n",
       "      <th>MD</th>\n",
       "      <th>bw (cm)</th>\n",
       "      <th>d (cm)</th>\n",
       "      <th>KMD</th>\n",
       "      <th>kx</th>\n",
       "      <th>kz</th>\n",
       "      <th>AS provisorio (cm2/m)</th>\n",
       "      <th>AS definitivo (cm2/m)</th>\n",
       "    </tr>\n",
       "  </thead>\n",
       "  <tbody>\n",
       "    <tr>\n",
       "      <th>0</th>\n",
       "      <td>a</td>\n",
       "      <td>0.000</td>\n",
       "      <td>-3.008000</td>\n",
       "      <td>0.000000</td>\n",
       "      <td>-4.060800</td>\n",
       "      <td>100</td>\n",
       "      <td>22</td>\n",
       "      <td>-0.004531</td>\n",
       "      <td>-0.006645</td>\n",
       "      <td>1.002658</td>\n",
       "      <td>-4.234127</td>\n",
       "      <td>3.750000</td>\n",
       "    </tr>\n",
       "    <tr>\n",
       "      <th>1</th>\n",
       "      <td>b</td>\n",
       "      <td>0.225</td>\n",
       "      <td>-2.413384</td>\n",
       "      <td>0.577509</td>\n",
       "      <td>-2.391806</td>\n",
       "      <td>100</td>\n",
       "      <td>22</td>\n",
       "      <td>-0.002669</td>\n",
       "      <td>-0.003918</td>\n",
       "      <td>1.001567</td>\n",
       "      <td>-2.496611</td>\n",
       "      <td>3.750000</td>\n",
       "    </tr>\n",
       "    <tr>\n",
       "      <th>2</th>\n",
       "      <td>c</td>\n",
       "      <td>1.025</td>\n",
       "      <td>-0.639084</td>\n",
       "      <td>2.630872</td>\n",
       "      <td>3.083545</td>\n",
       "      <td>100</td>\n",
       "      <td>22</td>\n",
       "      <td>0.003440</td>\n",
       "      <td>0.005070</td>\n",
       "      <td>0.997972</td>\n",
       "      <td>3.230256</td>\n",
       "      <td>3.750000</td>\n",
       "    </tr>\n",
       "    <tr>\n",
       "      <th>3</th>\n",
       "      <td>d</td>\n",
       "      <td>1.394</td>\n",
       "      <td>0.000513</td>\n",
       "      <td>3.577986</td>\n",
       "      <td>5.367671</td>\n",
       "      <td>100</td>\n",
       "      <td>22</td>\n",
       "      <td>0.005989</td>\n",
       "      <td>0.008838</td>\n",
       "      <td>0.996465</td>\n",
       "      <td>5.631566</td>\n",
       "      <td>5.631566</td>\n",
       "    </tr>\n",
       "    <tr>\n",
       "      <th>4</th>\n",
       "      <td>e</td>\n",
       "      <td>1.980</td>\n",
       "      <td>0.784274</td>\n",
       "      <td>5.082075</td>\n",
       "      <td>8.681883</td>\n",
       "      <td>100</td>\n",
       "      <td>22</td>\n",
       "      <td>0.009686</td>\n",
       "      <td>0.014327</td>\n",
       "      <td>0.994269</td>\n",
       "      <td>9.128828</td>\n",
       "      <td>9.128828</td>\n",
       "    </tr>\n",
       "    <tr>\n",
       "      <th>5</th>\n",
       "      <td>f</td>\n",
       "      <td>2.310</td>\n",
       "      <td>1.100347</td>\n",
       "      <td>5.082075</td>\n",
       "      <td>9.108580</td>\n",
       "      <td>100</td>\n",
       "      <td>22</td>\n",
       "      <td>0.010162</td>\n",
       "      <td>0.015035</td>\n",
       "      <td>0.993986</td>\n",
       "      <td>9.580223</td>\n",
       "      <td>9.580223</td>\n",
       "    </tr>\n",
       "    <tr>\n",
       "      <th>6</th>\n",
       "      <td>g</td>\n",
       "      <td>3.300</td>\n",
       "      <td>1.506895</td>\n",
       "      <td>5.082075</td>\n",
       "      <td>9.657421</td>\n",
       "      <td>100</td>\n",
       "      <td>22</td>\n",
       "      <td>0.010775</td>\n",
       "      <td>0.015947</td>\n",
       "      <td>0.993621</td>\n",
       "      <td>10.161211</td>\n",
       "      <td>10.161211</td>\n",
       "    </tr>\n",
       "  </tbody>\n",
       "</table>\n",
       "</div>"
      ],
      "text/plain": [
       "  Secao  x (m)        Mg    Mq pos        MD  bw (cm)  d (cm)       KMD  \\\n",
       "0     a  0.000 -3.008000  0.000000 -4.060800      100      22 -0.004531   \n",
       "1     b  0.225 -2.413384  0.577509 -2.391806      100      22 -0.002669   \n",
       "2     c  1.025 -0.639084  2.630872  3.083545      100      22  0.003440   \n",
       "3     d  1.394  0.000513  3.577986  5.367671      100      22  0.005989   \n",
       "4     e  1.980  0.784274  5.082075  8.681883      100      22  0.009686   \n",
       "5     f  2.310  1.100347  5.082075  9.108580      100      22  0.010162   \n",
       "6     g  3.300  1.506895  5.082075  9.657421      100      22  0.010775   \n",
       "\n",
       "         kx        kz  AS provisorio (cm2/m)  AS definitivo (cm2/m)  \n",
       "0 -0.006645  1.002658              -4.234127               3.750000  \n",
       "1 -0.003918  1.001567              -2.496611               3.750000  \n",
       "2  0.005070  0.997972               3.230256               3.750000  \n",
       "3  0.008838  0.996465               5.631566               5.631566  \n",
       "4  0.014327  0.994269               9.128828               9.128828  \n",
       "5  0.015035  0.993986               9.580223               9.580223  \n",
       "6  0.015947  0.993621              10.161211              10.161211  "
      ]
     },
     "execution_count": 236,
     "metadata": {},
     "output_type": "execute_result"
    }
   ],
   "source": [
    "# Area de aco\n",
    "## primeiro determinar KMD\n",
    "def KMD(md,bw,d,fcd):\n",
    "    return (md*100)/(bw * d**2 * fcd)\n",
    "\n",
    "KMDs = []\n",
    "for i in range(0,md_pos.size):\n",
    "    KMDs.append(KMD(md_pos[i], bw, d, fcd))\n",
    "# print(KMDs)\n",
    "\n",
    "## segundamente achar Kx, resolvendo equacao de segundo grau\n",
    "## KMD => - 0.272 kx**2 + 0.68 kx - KMD = 0\n",
    "kx = []\n",
    "for i in KMDs:\n",
    "    kx1, kx2 = np.roots([-0.272, 0.68, -i])\n",
    "#     print(kx1,kx2)\n",
    "    if(kx1 > 0 and kx1< 1):\n",
    "        kx.append(kx1)\n",
    "    else:\n",
    "        kx.append(kx2)\n",
    "\n",
    "## determinar Kz\n",
    "kz = []\n",
    "for i in kx:\n",
    "    kz.append(1-(0.4*i))\n",
    "    \n",
    "## finalmente determinar AS\n",
    "def AS(md,kz,d,fs):\n",
    "    return ((md* 1000)/(kz*d*fs))\n",
    "\n",
    "AS_provisorio = []\n",
    "for i in range(0, len(kz)):\n",
    "    AS_provisorio.append(AS(md_pos[i], kz[i], d, fs))\n",
    "\n",
    "## Verificar para armadura mínima\n",
    "as_min = 0.0015 * bw * h\n",
    "AS_definitivo = []\n",
    "print('Area de aco mínima = {} cm2/m'.format(as_min))\n",
    "for i in range(0, len(AS_provisorio)):\n",
    "    if(AS_provisorio[i] < as_min):\n",
    "        AS_definitivo.append(as_min)\n",
    "    else:\n",
    "        AS_definitivo.append(AS_provisorio[i])\n",
    "\n",
    "# tabela\n",
    "df = pd.DataFrame()\n",
    "df['Secao'] = secoes\n",
    "df['x (m)'] = coordenadas_x\n",
    "df['Mg'] = mg\n",
    "df['Mq pos'] = mp_pos_amp\n",
    "df['MD'] = md_pos\n",
    "df['bw (cm)'] = bw\n",
    "df['d (cm)'] = d\n",
    "df['KMD'] = KMDs\n",
    "df['kx'] = kx\n",
    "df['kz'] = kz\n",
    "df['AS provisorio (cm2/m)'] = AS_provisorio\n",
    "df['AS definitivo (cm2/m)'] = AS_definitivo\n",
    "df"
   ]
  },
  {
   "cell_type": "markdown",
   "metadata": {},
   "source": [
    "#### Momentos negativos"
   ]
  },
  {
   "cell_type": "code",
   "execution_count": 245,
   "metadata": {},
   "outputs": [
    {
     "name": "stdout",
     "output_type": "stream",
     "text": [
      "Area de aco mínima = 3.75 cm2/m\n"
     ]
    },
    {
     "data": {
      "text/html": [
       "<div>\n",
       "<style>\n",
       "    .dataframe thead tr:only-child th {\n",
       "        text-align: right;\n",
       "    }\n",
       "\n",
       "    .dataframe thead th {\n",
       "        text-align: left;\n",
       "    }\n",
       "\n",
       "    .dataframe tbody tr th {\n",
       "        vertical-align: top;\n",
       "    }\n",
       "</style>\n",
       "<table border=\"1\" class=\"dataframe\">\n",
       "  <thead>\n",
       "    <tr style=\"text-align: right;\">\n",
       "      <th></th>\n",
       "      <th>Secao</th>\n",
       "      <th>x (m)</th>\n",
       "      <th>Mg</th>\n",
       "      <th>Mq neg</th>\n",
       "      <th>MD</th>\n",
       "      <th>bw (cm)</th>\n",
       "      <th>d (cm)</th>\n",
       "      <th>KMD</th>\n",
       "      <th>kx</th>\n",
       "      <th>kz</th>\n",
       "      <th>AS provisorio (cm2/m)</th>\n",
       "      <th>AS definitivo (cm2/m)</th>\n",
       "    </tr>\n",
       "  </thead>\n",
       "  <tbody>\n",
       "    <tr>\n",
       "      <th>0</th>\n",
       "      <td>a</td>\n",
       "      <td>0.000</td>\n",
       "      <td>-3.008000</td>\n",
       "      <td>-9.979875</td>\n",
       "      <td>-19.030613</td>\n",
       "      <td>100</td>\n",
       "      <td>22</td>\n",
       "      <td>0.021233</td>\n",
       "      <td>0.031624</td>\n",
       "      <td>0.987350</td>\n",
       "      <td>19.842898</td>\n",
       "      <td>19.842898</td>\n",
       "    </tr>\n",
       "    <tr>\n",
       "      <th>1</th>\n",
       "      <td>b</td>\n",
       "      <td>0.225</td>\n",
       "      <td>-2.413384</td>\n",
       "      <td>-9.007809</td>\n",
       "      <td>-16.769782</td>\n",
       "      <td>100</td>\n",
       "      <td>22</td>\n",
       "      <td>0.018710</td>\n",
       "      <td>0.027825</td>\n",
       "      <td>0.988870</td>\n",
       "      <td>17.504611</td>\n",
       "      <td>17.504611</td>\n",
       "    </tr>\n",
       "    <tr>\n",
       "      <th>2</th>\n",
       "      <td>c</td>\n",
       "      <td>1.025</td>\n",
       "      <td>-0.639084</td>\n",
       "      <td>-5.551575</td>\n",
       "      <td>-9.190127</td>\n",
       "      <td>100</td>\n",
       "      <td>22</td>\n",
       "      <td>0.010253</td>\n",
       "      <td>0.015171</td>\n",
       "      <td>0.993932</td>\n",
       "      <td>9.627382</td>\n",
       "      <td>9.627382</td>\n",
       "    </tr>\n",
       "    <tr>\n",
       "      <th>3</th>\n",
       "      <td>d</td>\n",
       "      <td>1.394</td>\n",
       "      <td>0.000513</td>\n",
       "      <td>-3.957388</td>\n",
       "      <td>-5.935389</td>\n",
       "      <td>100</td>\n",
       "      <td>22</td>\n",
       "      <td>0.006622</td>\n",
       "      <td>0.009777</td>\n",
       "      <td>0.996089</td>\n",
       "      <td>6.227195</td>\n",
       "      <td>6.227195</td>\n",
       "    </tr>\n",
       "    <tr>\n",
       "      <th>4</th>\n",
       "      <td>e</td>\n",
       "      <td>1.980</td>\n",
       "      <td>0.784274</td>\n",
       "      <td>-1.425696</td>\n",
       "      <td>-1.079774</td>\n",
       "      <td>100</td>\n",
       "      <td>22</td>\n",
       "      <td>0.001205</td>\n",
       "      <td>0.001773</td>\n",
       "      <td>0.999291</td>\n",
       "      <td>1.135362</td>\n",
       "      <td>3.750000</td>\n",
       "    </tr>\n",
       "    <tr>\n",
       "      <th>5</th>\n",
       "      <td>f</td>\n",
       "      <td>2.310</td>\n",
       "      <td>1.100347</td>\n",
       "      <td>0.000000</td>\n",
       "      <td>1.485468</td>\n",
       "      <td>100</td>\n",
       "      <td>22</td>\n",
       "      <td>0.001657</td>\n",
       "      <td>0.002440</td>\n",
       "      <td>0.999024</td>\n",
       "      <td>1.562385</td>\n",
       "      <td>3.750000</td>\n",
       "    </tr>\n",
       "    <tr>\n",
       "      <th>6</th>\n",
       "      <td>g</td>\n",
       "      <td>3.300</td>\n",
       "      <td>1.506895</td>\n",
       "      <td>0.000000</td>\n",
       "      <td>2.034308</td>\n",
       "      <td>100</td>\n",
       "      <td>22</td>\n",
       "      <td>0.002270</td>\n",
       "      <td>0.003342</td>\n",
       "      <td>0.998663</td>\n",
       "      <td>2.140430</td>\n",
       "      <td>3.750000</td>\n",
       "    </tr>\n",
       "  </tbody>\n",
       "</table>\n",
       "</div>"
      ],
      "text/plain": [
       "  Secao  x (m)        Mg    Mq neg         MD  bw (cm)  d (cm)       KMD  \\\n",
       "0     a  0.000 -3.008000 -9.979875 -19.030613      100      22  0.021233   \n",
       "1     b  0.225 -2.413384 -9.007809 -16.769782      100      22  0.018710   \n",
       "2     c  1.025 -0.639084 -5.551575  -9.190127      100      22  0.010253   \n",
       "3     d  1.394  0.000513 -3.957388  -5.935389      100      22  0.006622   \n",
       "4     e  1.980  0.784274 -1.425696  -1.079774      100      22  0.001205   \n",
       "5     f  2.310  1.100347  0.000000   1.485468      100      22  0.001657   \n",
       "6     g  3.300  1.506895  0.000000   2.034308      100      22  0.002270   \n",
       "\n",
       "         kx        kz  AS provisorio (cm2/m)  AS definitivo (cm2/m)  \n",
       "0  0.031624  0.987350              19.842898              19.842898  \n",
       "1  0.027825  0.988870              17.504611              17.504611  \n",
       "2  0.015171  0.993932               9.627382               9.627382  \n",
       "3  0.009777  0.996089               6.227195               6.227195  \n",
       "4  0.001773  0.999291               1.135362               3.750000  \n",
       "5  0.002440  0.999024               1.562385               3.750000  \n",
       "6  0.003342  0.998663               2.140430               3.750000  "
      ]
     },
     "execution_count": 245,
     "metadata": {},
     "output_type": "execute_result"
    }
   ],
   "source": [
    "# Area de aco\n",
    "## primeiro determinar KMD\n",
    "def KMD(md,bw,d,fcd):\n",
    "    return (np.abs(md)*100)/(bw * d**2 * fcd)\n",
    "\n",
    "KMDs_neg = []\n",
    "for i in range(0,md_neg.size):\n",
    "    KMDs_neg.append(KMD(md_neg[i], bw, d, fcd))\n",
    "# print(KMDs)\n",
    "\n",
    "## segundamente achar Kx, resolvendo equacao de segundo grau\n",
    "## KMD => - 0.272 kx**2 + 0.68 kx - KMD = 0\n",
    "kx_neg = []\n",
    "for i in KMDs_neg:\n",
    "    kx1, kx2 = np.roots([-0.272, 0.68, -i])\n",
    "#     print(kx1,kx2)\n",
    "    if(kx1 > 0 and kx1< 1):\n",
    "        kx_neg.append(kx1)\n",
    "    else:\n",
    "        kx_neg.append(kx2)\n",
    "\n",
    "## determinar Kz\n",
    "kz_neg = []\n",
    "for i in kx_neg:\n",
    "    kz_neg.append(1-(0.4*i))\n",
    "    \n",
    "## finalmente determinar AS\n",
    "def AS(md,kz,d,fs):\n",
    "    return ((np.abs(md)* 1000)/(kz*d*fs))\n",
    "\n",
    "AS_provisorio_neg = []\n",
    "for i in range(0, len(kz_neg)):\n",
    "    AS_provisorio_neg.append(AS(md_neg[i], kz[i], d, fs))\n",
    "\n",
    "## Verificar para armadura mínima\n",
    "as_min_neg = 0.0015 * bw * h\n",
    "AS_definitivo_neg = []\n",
    "print('Area de aco mínima = {} cm2/m'.format(as_min_neg))\n",
    "for i in range(0, len(AS_provisorio_neg)):\n",
    "    if(AS_provisorio_neg[i] < as_min_neg):\n",
    "        AS_definitivo_neg.append(as_min_neg)\n",
    "    else:\n",
    "        AS_definitivo_neg.append(AS_provisorio_neg[i])\n",
    "\n",
    "# tabela\n",
    "df = pd.DataFrame()\n",
    "df['Secao'] = secoes\n",
    "df['x (m)'] = coordenadas_x\n",
    "df['Mg'] = mg\n",
    "df['Mq neg'] = mp_neg_amp\n",
    "df['MD'] = md_neg\n",
    "df['bw (cm)'] = bw\n",
    "df['d (cm)'] = d\n",
    "df['KMD'] = KMDs_neg\n",
    "df['kx'] = kx_neg\n",
    "df['kz'] = kz_neg\n",
    "df['AS provisorio (cm2/m)'] = AS_provisorio_neg\n",
    "df['AS definitivo (cm2/m)'] = AS_definitivo_neg\n",
    "df"
   ]
  },
  {
   "cell_type": "markdown",
   "metadata": {},
   "source": [
    "#### Momento positivos - Verificação fadiga"
   ]
  },
  {
   "cell_type": "markdown",
   "metadata": {},
   "source": [
    "#### Momentos negativos - Verificação fadiga"
   ]
  },
  {
   "cell_type": "markdown",
   "metadata": {},
   "source": [
    "#### Resumo armadura positiva"
   ]
  },
  {
   "cell_type": "markdown",
   "metadata": {},
   "source": [
    "#### Resumo armadura negativa"
   ]
  },
  {
   "cell_type": "markdown",
   "metadata": {},
   "source": [
    "## Direção longitudinal"
   ]
  },
  {
   "cell_type": "markdown",
   "metadata": {},
   "source": [
    "### Envoltorio dos momentos fletores"
   ]
  },
  {
   "cell_type": "markdown",
   "metadata": {},
   "source": [
    "<img src=\"pontes/images/1.5.1.jpg\" width=\"80%\" />"
   ]
  },
  {
   "cell_type": "markdown",
   "metadata": {},
   "source": [
    "# ????"
   ]
  },
  {
   "cell_type": "markdown",
   "metadata": {},
   "source": [
    "## ???"
   ]
  },
  {
   "cell_type": "markdown",
   "metadata": {},
   "source": [
    "## Cargas permanentes"
   ]
  },
  {
   "cell_type": "markdown",
   "metadata": {},
   "source": [
    "### Cálculo das cargas"
   ]
  },
  {
   "cell_type": "markdown",
   "metadata": {},
   "source": [
    "### Momentos fletores nas seções de cálculo, devido a carga permanente"
   ]
  },
  {
   "cell_type": "markdown",
   "metadata": {},
   "source": [
    "### Seção $S_1$"
   ]
  },
  {
   "cell_type": "markdown",
   "metadata": {},
   "source": [
    "### Seção $S_2$"
   ]
  },
  {
   "cell_type": "markdown",
   "metadata": {},
   "source": [
    "### Seção $S_3$"
   ]
  },
  {
   "cell_type": "markdown",
   "metadata": {},
   "source": [
    "## Cargas móveis"
   ]
  },
  {
   "cell_type": "markdown",
   "metadata": {},
   "source": [
    "### Momento fletor nas seções de cálculo, devido a carga móvel"
   ]
  },
  {
   "cell_type": "markdown",
   "metadata": {},
   "source": [
    "#### Direção transversal ('x')"
   ]
  },
  {
   "cell_type": "markdown",
   "metadata": {},
   "source": [
    "#### Direção longitudinal ('y')"
   ]
  },
  {
   "cell_type": "markdown",
   "metadata": {},
   "source": [
    "## Direção transversal ('x')"
   ]
  },
  {
   "cell_type": "markdown",
   "metadata": {},
   "source": [
    "### Coeficiente de impacto vertical"
   ]
  },
  {
   "cell_type": "markdown",
   "metadata": {},
   "source": [
    "### Envoltório dos momentos fletores"
   ]
  },
  {
   "cell_type": "markdown",
   "metadata": {},
   "source": [
    "### Dimensionamento aos momentos fletores - direção ('y')"
   ]
  },
  {
   "cell_type": "markdown",
   "metadata": {},
   "source": [
    "<img src=\"pontes/images/2.4.3.jpg\" width=\"80%\" />"
   ]
  },
  {
   "cell_type": "markdown",
   "metadata": {},
   "source": [
    "<img src=\"pontes/images/2.4.3.1.jpg\" width=\"80%\" />"
   ]
  }
 ],
 "metadata": {
  "kernelspec": {
   "display_name": "Python 3",
   "language": "python",
   "name": "python3"
  },
  "language_info": {
   "codemirror_mode": {
    "name": "ipython",
    "version": 3
   },
   "file_extension": ".py",
   "mimetype": "text/x-python",
   "name": "python",
   "nbconvert_exporter": "python",
   "pygments_lexer": "ipython3",
   "version": "3.5.2"
  },
  "latex_envs": {
   "LaTeX_envs_menu_present": true,
   "autocomplete": true,
   "bibliofile": "biblio.bib",
   "cite_by": "apalike",
   "current_citInitial": 1,
   "eqLabelWithNumbers": true,
   "eqNumInitial": 1,
   "hotkeys": {
    "equation": "Ctrl-E",
    "itemize": "Ctrl-I"
   },
   "labels_anchors": false,
   "latex_user_defs": false,
   "report_style_numbering": false,
   "user_envs_cfg": false
  },
  "toc": {
   "nav_menu": {},
   "number_sections": true,
   "sideBar": true,
   "skip_h1_title": false,
   "toc_cell": true,
   "toc_position": {
    "height": "571px",
    "left": "0px",
    "right": "20px",
    "top": "106px",
    "width": "283px"
   },
   "toc_section_display": "block",
   "toc_window_display": true
  },
  "varInspector": {
   "cols": {
    "lenName": 16,
    "lenType": 16,
    "lenVar": 40
   },
   "kernels_config": {
    "python": {
     "delete_cmd_postfix": "",
     "delete_cmd_prefix": "del ",
     "library": "var_list.py",
     "varRefreshCmd": "print(var_dic_list())"
    },
    "r": {
     "delete_cmd_postfix": ") ",
     "delete_cmd_prefix": "rm(",
     "library": "var_list.r",
     "varRefreshCmd": "cat(var_dic_list()) "
    }
   },
   "oldHeight": 341,
   "position": {
    "height": "363px",
    "left": "792px",
    "right": "20px",
    "top": "31px",
    "width": "480px"
   },
   "types_to_exclude": [
    "module",
    "function",
    "builtin_function_or_method",
    "instance",
    "_Feature"
   ],
   "varInspector_section_display": "block",
   "window_display": false
  }
 },
 "nbformat": 4,
 "nbformat_minor": 2
}
