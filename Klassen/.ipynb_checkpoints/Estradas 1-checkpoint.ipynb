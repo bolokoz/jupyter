{
 "cells": [
  {
   "cell_type": "markdown",
   "metadata": {
    "toc": "true"
   },
   "source": [
    " # Table of Contents\n",
    "<div class=\"toc\" style=\"margin-top: 1em;\"><ul class=\"toc-item\" id=\"toc-level0\"><li><span><a href=\"http://localhost:8888/notebooks/Klassen/Estradas%201.ipynb#Curva-horizontal\" data-toc-modified-id=\"Curva-horizontal-1\"><span class=\"toc-item-num\">1&nbsp;&nbsp;</span>Curva horizontal</a></span><ul class=\"toc-item\"><li><span><a href=\"http://localhost:8888/notebooks/Klassen/Estradas%201.ipynb#Curva-circular-simples\" data-toc-modified-id=\"Curva-circular-simples-1.1\"><span class=\"toc-item-num\">1.1&nbsp;&nbsp;</span>Curva circular simples</a></span><ul class=\"toc-item\"><li><span><a href=\"http://localhost:8888/notebooks/Klassen/Estradas%201.ipynb#Tangente-externa\" data-toc-modified-id=\"Tangente-externa-1.1.1\"><span class=\"toc-item-num\">1.1.1&nbsp;&nbsp;</span>Tangente externa</a></span></li><li><span><a href=\"http://localhost:8888/notebooks/Klassen/Estradas%201.ipynb#Grau-da-curva\" data-toc-modified-id=\"Grau-da-curva-1.1.2\"><span class=\"toc-item-num\">1.1.2&nbsp;&nbsp;</span>Grau da curva</a></span></li><li><span><a href=\"http://localhost:8888/notebooks/Klassen/Estradas%201.ipynb#Desenvolvimento---comprimento-do-arco\" data-toc-modified-id=\"Desenvolvimento---comprimento-do-arco-1.1.3\"><span class=\"toc-item-num\">1.1.3&nbsp;&nbsp;</span>Desenvolvimento - comprimento do arco</a></span></li><li><span><a href=\"http://localhost:8888/notebooks/Klassen/Estradas%201.ipynb#Deflexão\" data-toc-modified-id=\"Deflexão-1.1.4\"><span class=\"toc-item-num\">1.1.4&nbsp;&nbsp;</span>Deflexão</a></span><ul class=\"toc-item\"><li><span><a href=\"http://localhost:8888/notebooks/Klassen/Estradas%201.ipynb#Exercicio-1\" data-toc-modified-id=\"Exercicio-1-1.1.4.1\"><span class=\"toc-item-num\">1.1.4.1&nbsp;&nbsp;</span>Exercicio 1</a></span></li></ul></li></ul></li></ul></li></ul></div>"
   ]
  },
  {
   "cell_type": "code",
   "execution_count": 14,
   "metadata": {
    "collapsed": true
   },
   "outputs": [],
   "source": [
    "import pint\n",
    "u = pint.UnitRegistry()\n",
    "import numpy as np"
   ]
  },
  {
   "cell_type": "markdown",
   "metadata": {},
   "source": [
    "# Curva horizontal"
   ]
  },
  {
   "cell_type": "markdown",
   "metadata": {},
   "source": [
    "## Curva circular simples"
   ]
  },
  {
   "cell_type": "markdown",
   "metadata": {},
   "source": [
    "![image.png](attachment:image.png)"
   ]
  },
  {
   "cell_type": "markdown",
   "metadata": {},
   "source": [
    "### Tangente externa\n",
    "\n",
    "$$T = R \\cdot tan (\\frac{AC}{2})$$\n",
    "- T (metros): comprimento da tangente externa\n",
    "- R (metros): raio da curva\n",
    "- AC (radianos): angulo da curva central"
   ]
  },
  {
   "cell_type": "code",
   "execution_count": 15,
   "metadata": {
    "collapsed": true
   },
   "outputs": [],
   "source": [
    "def t(raio_metros,anguloCentral_radianos):\n",
    "    \"\"\"Tangente Externa\n",
    "    args:\n",
    "        r (metros): raio da curva\n",
    "        AC (radianos): angulo central da curva\n",
    "    \"\"\"\n",
    "    return raio_metros*tan((anguloCentral_radianos/2))"
   ]
  },
  {
   "cell_type": "markdown",
   "metadata": {},
   "source": [
    "### Grau da curva\n",
    "\n",
    "\n",
    "$$G = \\frac{180 \\cdot c}{\\pi \\cdot R}$$\n",
    "\n",
    "- c (metros): comprimento de corda\n",
    "- R (metros): raio da curva\n",
    "\n",
    "**Deve ser múltiplo de 40'**\n",
    "1. Adotar raio provisório\n",
    "2. Determinar grau de curva e arredondar para múltiplo de 40'\n",
    "3. Agora pode-se achar raio verdadeiro\n"
   ]
  },
  {
   "cell_type": "code",
   "execution_count": 16,
   "metadata": {
    "collapsed": true
   },
   "outputs": [],
   "source": [
    "def dd2dms(deg):\n",
    "    \"\"\"Transforma grau decimal em graus minutos e segundos\n",
    "    \"\"\"\n",
    "    d = int(deg)\n",
    "    md = abs(deg - d) * 60\n",
    "    m = int(md)\n",
    "    sd = (md - m) * 60\n",
    "    return [d, m, sd]\n",
    "\n",
    "def dd2ms(deg):\n",
    "    \"\"\"Transforma grau decimal em apenas minutos e segundos\n",
    "    \"\"\"\n",
    "    d = int(deg) * 60\n",
    "    md = abs(deg - int(deg))\n",
    "    m = int(md)\n",
    "    sd = (md - m) * 60\n",
    "    return d+ sd\n",
    "\n",
    "def ms2dd(minutes, seconds):\n",
    "    \"\"\"Transforma minutos para graus decimais\n",
    "    \"\"\"\n",
    "    dd = float(minutes)/60 + float(seconds)/(60*60)\n",
    "    return dd\n",
    "\n",
    "def G(corda_metros, raio_metros):\n",
    "    \"\"\"Grau da curva em radianos\n",
    "    args:\n",
    "        corda (metros): comprimento da corda\n",
    "        raio (metros): raio da curva\n",
    "    \"\"\"\n",
    "    return (180 * u.degree * corda_metros / (np.pi * raio_metros))\n",
    "    "
   ]
  },
  {
   "cell_type": "markdown",
   "metadata": {},
   "source": [
    "### Desenvolvimento - comprimento do arco\n",
    "\n",
    "$$D = \\frac{AC \\cdot \\pi \\cdot R}{180}$$\n",
    "\n",
    "Comprimento em metros do PC (ponto de curva) até PT (ponto de tangente)"
   ]
  },
  {
   "cell_type": "code",
   "execution_count": 17,
   "metadata": {
    "collapsed": true
   },
   "outputs": [],
   "source": [
    "def D(anguloCentral_graus, raio_metros):\n",
    "    \"\"\"Comprimento em metros do arco\n",
    "    \"\"\"\n",
    "    return anguloCentral_graus*np.pi*raio_metros/180"
   ]
  },
  {
   "cell_type": "markdown",
   "metadata": {},
   "source": [
    "### Deflexão\n",
    "\n",
    "Primeira deflexão\n",
    "$$ds_1 = (20 - a) \\cdot \\frac{G}{2c}$$\n",
    "\n",
    "Demais deflexões\n",
    "$$ds_n = b \\cdot \\frac{G}{2c}$$"
   ]
  },
  {
   "cell_type": "code",
   "execution_count": null,
   "metadata": {
    "collapsed": true
   },
   "outputs": [],
   "source": []
  },
  {
   "cell_type": "markdown",
   "metadata": {},
   "source": [
    "#### Exercicio 1\n",
    "Angulo curva = 46\n",
    "\n",
    "Raio entre 100 e 600 metros\n",
    "\n",
    "P1 = 145 + 2.4"
   ]
  },
  {
   "cell_type": "code",
   "execution_count": 18,
   "metadata": {
    "collapsed": true
   },
   "outputs": [],
   "source": [
    "AC = 46 * u.degree\n",
    "R = 100 * u.meter"
   ]
  },
  {
   "cell_type": "markdown",
   "metadata": {},
   "source": [
    "Como o raio está entre 600 e 100, adotar corda de 10.\n",
    "Determinar Grau provisório múltiplo de 40."
   ]
  },
  {
   "cell_type": "code",
   "execution_count": 19,
   "metadata": {
    "collapsed": false,
    "scrolled": true
   },
   "outputs": [
    {
     "data": {
      "text/html": [
       "5.729577951308232 degree"
      ],
      "text/latex": [
       "$5.729577951308232\\ \\mathrm{degree}$"
      ],
      "text/plain": [
       "<Quantity(5.729577951308232, 'degree')>"
      ]
     },
     "execution_count": 19,
     "metadata": {},
     "output_type": "execute_result"
    }
   ],
   "source": [
    "c = 10 * u.meter\n",
    "G10_ = G(c,R)\n",
    "G10_"
   ]
  },
  {
   "cell_type": "markdown",
   "metadata": {},
   "source": [
    "Arredondando para multiplo de 40"
   ]
  },
  {
   "cell_type": "code",
   "execution_count": 20,
   "metadata": {
    "collapsed": false
   },
   "outputs": [
    {
     "name": "stdout",
     "output_type": "stream",
     "text": [
      "343.77467707849394 minutos\n"
     ]
    }
   ],
   "source": [
    "print(dd2ms(G10_.magnitude),\"minutos\")"
   ]
  },
  {
   "cell_type": "markdown",
   "metadata": {},
   "source": [
    "Adotar 320 minutos, que equivale em graus a:"
   ]
  },
  {
   "cell_type": "code",
   "execution_count": 21,
   "metadata": {
    "collapsed": false
   },
   "outputs": [
    {
     "name": "stdout",
     "output_type": "stream",
     "text": [
      "5.333333333333333 graus decimais \n",
      " [5, 19, 59.999999999998934] graus minutos segundos\n"
     ]
    }
   ],
   "source": [
    "dd = ms2dd(320,0)\n",
    "dms = dd2dms(dd)\n",
    "print(\"{} graus decimais \\n {} graus minutos segundos\".format(dd,dms))"
   ]
  },
  {
   "cell_type": "markdown",
   "metadata": {},
   "source": [
    "Achar o raio utilizado"
   ]
  },
  {
   "cell_type": "code",
   "execution_count": 22,
   "metadata": {
    "collapsed": false
   },
   "outputs": [
    {
     "data": {
      "text/html": [
       "107.42958658702936 meter"
      ],
      "text/latex": [
       "$107.42958658702936\\ \\mathrm{meter}$"
      ],
      "text/plain": [
       "<Quantity(107.42958658702936, 'meter')>"
      ]
     },
     "execution_count": 22,
     "metadata": {},
     "output_type": "execute_result"
    }
   ],
   "source": [
    "R = (180 * c) / (np.pi * dd)\n",
    "R"
   ]
  },
  {
   "cell_type": "code",
   "execution_count": 23,
   "metadata": {
    "collapsed": false
   },
   "outputs": [
    {
     "data": {
      "text/html": [
       "86.25 degree meter"
      ],
      "text/latex": [
       "$86.25\\ \\mathrm{degree} \\cdot \\mathrm{meter}$"
      ],
      "text/plain": [
       "<Quantity(86.25, 'degree * meter')>"
      ]
     },
     "execution_count": 23,
     "metadata": {},
     "output_type": "execute_result"
    }
   ],
   "source": [
    "d = D(AC, R)\n",
    "d"
   ]
  },
  {
   "cell_type": "code",
   "execution_count": null,
   "metadata": {
    "collapsed": true
   },
   "outputs": [],
   "source": []
  }
 ],
 "metadata": {
  "kernelspec": {
   "display_name": "Python 3",
   "language": "python",
   "name": "python3"
  },
  "language_info": {
   "codemirror_mode": {
    "name": "ipython",
    "version": 3
   },
   "file_extension": ".py",
   "mimetype": "text/x-python",
   "name": "python",
   "nbconvert_exporter": "python",
   "pygments_lexer": "ipython3",
   "version": "3.5.2"
  },
  "latex_envs": {
   "LaTeX_envs_menu_present": true,
   "autocomplete": true,
   "bibliofile": "biblio.bib",
   "cite_by": "apalike",
   "current_citInitial": 1,
   "eqLabelWithNumbers": true,
   "eqNumInitial": 1,
   "hotkeys": {
    "equation": "Ctrl-E",
    "itemize": "Ctrl-I"
   },
   "labels_anchors": false,
   "latex_user_defs": false,
   "report_style_numbering": false,
   "user_envs_cfg": false
  },
  "toc": {
   "nav_menu": {},
   "number_sections": true,
   "sideBar": true,
   "skip_h1_title": false,
   "toc_cell": true,
   "toc_position": {},
   "toc_section_display": "block",
   "toc_window_display": true
  }
 },
 "nbformat": 4,
 "nbformat_minor": 2
}
