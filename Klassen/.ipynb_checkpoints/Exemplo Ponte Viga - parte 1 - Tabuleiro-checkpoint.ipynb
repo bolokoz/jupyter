{
 "cells": [
  {
   "cell_type": "markdown",
   "metadata": {
    "toc": "true"
   },
   "source": [
    " # Table of Contents\n",
    "<div class=\"toc\" style=\"margin-top: 1em;\"><ul class=\"toc-item\" id=\"toc-level0\"><li><span><a href=\"http://localhost:8888/notebooks/Klassen/Pontes.ipynb#Exemplo:-Cálculo-da-laje-central\" data-toc-modified-id=\"Exemplo:-Cálculo-da-laje-central-1\"><span class=\"toc-item-num\">1&nbsp;&nbsp;</span>Exemplo: Cálculo da laje central</a></span><ul class=\"toc-item\"><li><span><a href=\"http://localhost:8888/notebooks/Klassen/Pontes.ipynb#Esquema-estrutural\" data-toc-modified-id=\"Esquema-estrutural-1.1\"><span class=\"toc-item-num\">1.1&nbsp;&nbsp;</span>Esquema estrutural</a></span></li><li><span><a href=\"http://localhost:8888/notebooks/Klassen/Pontes.ipynb#Cargas-permanentes\" data-toc-modified-id=\"Cargas-permanentes-1.2\"><span class=\"toc-item-num\">1.2&nbsp;&nbsp;</span>Cargas permanentes</a></span></li><li><span><a href=\"http://localhost:8888/notebooks/Klassen/Pontes.ipynb#???????\" data-toc-modified-id=\"???????-1.3\"><span class=\"toc-item-num\">1.3&nbsp;&nbsp;</span>???????</a></span></li><li><span><a href=\"http://localhost:8888/notebooks/Klassen/Pontes.ipynb#Direção-transversal\" data-toc-modified-id=\"Direção-transversal-1.4\"><span class=\"toc-item-num\">1.4&nbsp;&nbsp;</span>Direção transversal</a></span><ul class=\"toc-item\"><li><span><a href=\"http://localhost:8888/notebooks/Klassen/Pontes.ipynb#Diagramas-de-momentos-fletores\" data-toc-modified-id=\"Diagramas-de-momentos-fletores-1.4.1\"><span class=\"toc-item-num\">1.4.1&nbsp;&nbsp;</span>Diagramas de momentos fletores</a></span><ul class=\"toc-item\"><li><span><a href=\"http://localhost:8888/notebooks/Klassen/Pontes.ipynb#Momentos-permanentes\" data-toc-modified-id=\"Momentos-permanentes-1.4.1.1\"><span class=\"toc-item-num\">1.4.1.1&nbsp;&nbsp;</span>Momentos permanentes</a></span></li><li><span><a href=\"http://localhost:8888/notebooks/Klassen/Pontes.ipynb#Momentos-móveis\" data-toc-modified-id=\"Momentos-móveis-1.4.1.2\"><span class=\"toc-item-num\">1.4.1.2&nbsp;&nbsp;</span>Momentos móveis</a></span></li></ul></li><li><span><a href=\"http://localhost:8888/notebooks/Klassen/Pontes.ipynb#Seção-transversal\" data-toc-modified-id=\"Seção-transversal-1.4.2\"><span class=\"toc-item-num\">1.4.2&nbsp;&nbsp;</span>Seção transversal</a></span></li><li><span><a href=\"http://localhost:8888/notebooks/Klassen/Pontes.ipynb#Momentos-fletores-nas-seções-de-cálculo-devido-a-carga-permanente\" data-toc-modified-id=\"Momentos-fletores-nas-seções-de-cálculo-devido-a-carga-permanente-1.4.3\"><span class=\"toc-item-num\">1.4.3&nbsp;&nbsp;</span>Momentos fletores nas seções de cálculo devido a carga permanente</a></span></li><li><span><a href=\"http://localhost:8888/notebooks/Klassen/Pontes.ipynb#Momento-fletor-na-seção-de-cálculo,-devido-carga-móvel\" data-toc-modified-id=\"Momento-fletor-na-seção-de-cálculo,-devido-carga-móvel-1.4.4\"><span class=\"toc-item-num\">1.4.4&nbsp;&nbsp;</span>Momento fletor na seção de cálculo, devido carga móvel</a></span></li><li><span><a href=\"http://localhost:8888/notebooks/Klassen/Pontes.ipynb#Coeficiente-de-impacto-vertical\" data-toc-modified-id=\"Coeficiente-de-impacto-vertical-1.4.5\"><span class=\"toc-item-num\">1.4.5&nbsp;&nbsp;</span>Coeficiente de impacto vertical</a></span></li><li><span><a href=\"http://localhost:8888/notebooks/Klassen/Pontes.ipynb#Envoltório-momento-fletor\" data-toc-modified-id=\"Envoltório-momento-fletor-1.4.6\"><span class=\"toc-item-num\">1.4.6&nbsp;&nbsp;</span>Envoltório momento fletor</a></span></li><li><span><a href=\"http://localhost:8888/notebooks/Klassen/Pontes.ipynb#DImensionamento-ao-momento-fletor\" data-toc-modified-id=\"DImensionamento-ao-momento-fletor-1.4.7\"><span class=\"toc-item-num\">1.4.7&nbsp;&nbsp;</span>DImensionamento ao momento fletor</a></span><ul class=\"toc-item\"><li><span><a href=\"http://localhost:8888/notebooks/Klassen/Pontes.ipynb#Momentos-positivos\" data-toc-modified-id=\"Momentos-positivos-1.4.7.1\"><span class=\"toc-item-num\">1.4.7.1&nbsp;&nbsp;</span>Momentos positivos</a></span></li><li><span><a href=\"http://localhost:8888/notebooks/Klassen/Pontes.ipynb#Momentos-negativos\" data-toc-modified-id=\"Momentos-negativos-1.4.7.2\"><span class=\"toc-item-num\">1.4.7.2&nbsp;&nbsp;</span>Momentos negativos</a></span></li><li><span><a href=\"http://localhost:8888/notebooks/Klassen/Pontes.ipynb#Momento-positivos---Verificação-fadiga\" data-toc-modified-id=\"Momento-positivos---Verificação-fadiga-1.4.7.3\"><span class=\"toc-item-num\">1.4.7.3&nbsp;&nbsp;</span>Momento positivos - Verificação fadiga</a></span></li><li><span><a href=\"http://localhost:8888/notebooks/Klassen/Pontes.ipynb#Momentos-negativos---Verificação-fadiga\" data-toc-modified-id=\"Momentos-negativos---Verificação-fadiga-1.4.7.4\"><span class=\"toc-item-num\">1.4.7.4&nbsp;&nbsp;</span>Momentos negativos - Verificação fadiga</a></span></li><li><span><a href=\"http://localhost:8888/notebooks/Klassen/Pontes.ipynb#Resumo-armadura-positiva\" data-toc-modified-id=\"Resumo-armadura-positiva-1.4.7.5\"><span class=\"toc-item-num\">1.4.7.5&nbsp;&nbsp;</span>Resumo armadura positiva</a></span></li><li><span><a href=\"http://localhost:8888/notebooks/Klassen/Pontes.ipynb#Resumo-armadura-negativa\" data-toc-modified-id=\"Resumo-armadura-negativa-1.4.7.6\"><span class=\"toc-item-num\">1.4.7.6&nbsp;&nbsp;</span>Resumo armadura negativa</a></span></li></ul></li></ul></li><li><span><a href=\"http://localhost:8888/notebooks/Klassen/Pontes.ipynb#Direção-longitudinal\" data-toc-modified-id=\"Direção-longitudinal-1.5\"><span class=\"toc-item-num\">1.5&nbsp;&nbsp;</span>Direção longitudinal</a></span><ul class=\"toc-item\"><li><span><a href=\"http://localhost:8888/notebooks/Klassen/Pontes.ipynb#Envoltorio-dos-momentos-fletores\" data-toc-modified-id=\"Envoltorio-dos-momentos-fletores-1.5.1\"><span class=\"toc-item-num\">1.5.1&nbsp;&nbsp;</span>Envoltorio dos momentos fletores</a></span></li></ul></li></ul></li><li><span><a href=\"http://localhost:8888/notebooks/Klassen/Pontes.ipynb#????\" data-toc-modified-id=\"????-2\"><span class=\"toc-item-num\">2&nbsp;&nbsp;</span>????</a></span><ul class=\"toc-item\"><li><span><a href=\"http://localhost:8888/notebooks/Klassen/Pontes.ipynb#???\" data-toc-modified-id=\"???-2.1\"><span class=\"toc-item-num\">2.1&nbsp;&nbsp;</span>???</a></span></li><li><span><a href=\"http://localhost:8888/notebooks/Klassen/Pontes.ipynb#Cargas-permanentes\" data-toc-modified-id=\"Cargas-permanentes-2.2\"><span class=\"toc-item-num\">2.2&nbsp;&nbsp;</span>Cargas permanentes</a></span><ul class=\"toc-item\"><li><span><a href=\"http://localhost:8888/notebooks/Klassen/Pontes.ipynb#Cálculo-das-cargas\" data-toc-modified-id=\"Cálculo-das-cargas-2.2.1\"><span class=\"toc-item-num\">2.2.1&nbsp;&nbsp;</span>Cálculo das cargas</a></span></li><li><span><a href=\"http://localhost:8888/notebooks/Klassen/Pontes.ipynb#Momentos-fletores-nas-seções-de-cálculo,-devido-a-carga-permanente\" data-toc-modified-id=\"Momentos-fletores-nas-seções-de-cálculo,-devido-a-carga-permanente-2.2.2\"><span class=\"toc-item-num\">2.2.2&nbsp;&nbsp;</span>Momentos fletores nas seções de cálculo, devido a carga permanente</a></span></li><li><span><a href=\"http://localhost:8888/notebooks/Klassen/Pontes.ipynb#Seção-$S_1$\" data-toc-modified-id=\"Seção-$S_1$-2.2.3\"><span class=\"toc-item-num\">2.2.3&nbsp;&nbsp;</span>Seção $S_1$</a></span></li><li><span><a href=\"http://localhost:8888/notebooks/Klassen/Pontes.ipynb#Seção-$S_2$\" data-toc-modified-id=\"Seção-$S_2$-2.2.4\"><span class=\"toc-item-num\">2.2.4&nbsp;&nbsp;</span>Seção $S_2$</a></span></li><li><span><a href=\"http://localhost:8888/notebooks/Klassen/Pontes.ipynb#Seção-$S_3$\" data-toc-modified-id=\"Seção-$S_3$-2.2.5\"><span class=\"toc-item-num\">2.2.5&nbsp;&nbsp;</span>Seção $S_3$</a></span></li></ul></li><li><span><a href=\"http://localhost:8888/notebooks/Klassen/Pontes.ipynb#Cargas-móveis\" data-toc-modified-id=\"Cargas-móveis-2.3\"><span class=\"toc-item-num\">2.3&nbsp;&nbsp;</span>Cargas móveis</a></span><ul class=\"toc-item\"><li><span><a href=\"http://localhost:8888/notebooks/Klassen/Pontes.ipynb#Momento-fletor-nas-seções-de-cálculo,-devido-a-carga-móvel\" data-toc-modified-id=\"Momento-fletor-nas-seções-de-cálculo,-devido-a-carga-móvel-2.3.1\"><span class=\"toc-item-num\">2.3.1&nbsp;&nbsp;</span>Momento fletor nas seções de cálculo, devido a carga móvel</a></span><ul class=\"toc-item\"><li><span><a href=\"http://localhost:8888/notebooks/Klassen/Pontes.ipynb#Direção-transversal-('x')\" data-toc-modified-id=\"Direção-transversal-('x')-2.3.1.1\"><span class=\"toc-item-num\">2.3.1.1&nbsp;&nbsp;</span>Direção transversal ('x')</a></span></li><li><span><a href=\"http://localhost:8888/notebooks/Klassen/Pontes.ipynb#Direção-longitudinal-('y')\" data-toc-modified-id=\"Direção-longitudinal-('y')-2.3.1.2\"><span class=\"toc-item-num\">2.3.1.2&nbsp;&nbsp;</span>Direção longitudinal ('y')</a></span></li></ul></li></ul></li><li><span><a href=\"http://localhost:8888/notebooks/Klassen/Pontes.ipynb#Direção-transversal-('x')\" data-toc-modified-id=\"Direção-transversal-('x')-2.4\"><span class=\"toc-item-num\">2.4&nbsp;&nbsp;</span>Direção transversal ('x')</a></span><ul class=\"toc-item\"><li><span><a href=\"http://localhost:8888/notebooks/Klassen/Pontes.ipynb#Coeficiente-de-impacto-vertical\" data-toc-modified-id=\"Coeficiente-de-impacto-vertical-2.4.1\"><span class=\"toc-item-num\">2.4.1&nbsp;&nbsp;</span>Coeficiente de impacto vertical</a></span></li><li><span><a href=\"http://localhost:8888/notebooks/Klassen/Pontes.ipynb#Envoltório-dos-momentos-fletores\" data-toc-modified-id=\"Envoltório-dos-momentos-fletores-2.4.2\"><span class=\"toc-item-num\">2.4.2&nbsp;&nbsp;</span>Envoltório dos momentos fletores</a></span></li><li><span><a href=\"http://localhost:8888/notebooks/Klassen/Pontes.ipynb#Dimensionamento-aos-momentos-fletores---direção-('y')\" data-toc-modified-id=\"Dimensionamento-aos-momentos-fletores---direção-('y')-2.4.3\"><span class=\"toc-item-num\">2.4.3&nbsp;&nbsp;</span>Dimensionamento aos momentos fletores - direção ('y')</a></span></li></ul></li></ul></li><li><span><a href=\"http://localhost:8888/notebooks/Klassen/Pontes.ipynb#Cálculo-da-viga-principal\" data-toc-modified-id=\"Cálculo-da-viga-principal-3\"><span class=\"toc-item-num\">3&nbsp;&nbsp;</span>Cálculo da viga principal</a></span><ul class=\"toc-item\"><li><span><a href=\"http://localhost:8888/notebooks/Klassen/Pontes.ipynb#Esquema-estrutural-e-seções-de-cálculo\" data-toc-modified-id=\"Esquema-estrutural-e-seções-de-cálculo-3.1\"><span class=\"toc-item-num\">3.1&nbsp;&nbsp;</span>Esquema estrutural e seções de cálculo</a></span></li><li><span><a href=\"http://localhost:8888/notebooks/Klassen/Pontes.ipynb#Carga-permanente\" data-toc-modified-id=\"Carga-permanente-3.2\"><span class=\"toc-item-num\">3.2&nbsp;&nbsp;</span>Carga permanente</a></span><ul class=\"toc-item\"><li><span><a href=\"http://localhost:8888/notebooks/Klassen/Pontes.ipynb#Cálculo-das-cargas-permamentes\" data-toc-modified-id=\"Cálculo-das-cargas-permamentes-3.2.1\"><span class=\"toc-item-num\">3.2.1&nbsp;&nbsp;</span>Cálculo das cargas permamentes</a></span><ul class=\"toc-item\"><li><span><a href=\"http://localhost:8888/notebooks/Klassen/Pontes.ipynb#Peso-próprio-da-viga\" data-toc-modified-id=\"Peso-próprio-da-viga-3.2.1.1\"><span class=\"toc-item-num\">3.2.1.1&nbsp;&nbsp;</span>Peso próprio da viga</a></span></li><li><span><a href=\"http://localhost:8888/notebooks/Klassen/Pontes.ipynb#Laje-central\" data-toc-modified-id=\"Laje-central-3.2.1.2\"><span class=\"toc-item-num\">3.2.1.2&nbsp;&nbsp;</span>Laje central</a></span></li><li><span><a href=\"http://localhost:8888/notebooks/Klassen/Pontes.ipynb#Laje-em-balanço\" data-toc-modified-id=\"Laje-em-balanço-3.2.1.3\"><span class=\"toc-item-num\">3.2.1.3&nbsp;&nbsp;</span>Laje em balanço</a></span></li><li><span><a href=\"http://localhost:8888/notebooks/Klassen/Pontes.ipynb#Carga-uniformemente-distribuída\" data-toc-modified-id=\"Carga-uniformemente-distribuída-3.2.1.4\"><span class=\"toc-item-num\">3.2.1.4&nbsp;&nbsp;</span>Carga uniformemente distribuída</a></span></li><li><span><a href=\"http://localhost:8888/notebooks/Klassen/Pontes.ipynb#Carga-concentrada-sobre-os-apoios-devido-o-peso-do-alargamento\" data-toc-modified-id=\"Carga-concentrada-sobre-os-apoios-devido-o-peso-do-alargamento-3.2.1.5\"><span class=\"toc-item-num\">3.2.1.5&nbsp;&nbsp;</span>Carga concentrada sobre os apoios devido o peso do alargamento</a></span></li><li><span><a href=\"http://localhost:8888/notebooks/Klassen/Pontes.ipynb#Carga-concentrada-nos-vãos-devido-o-peso-próprio-das-transversinas-intermediárias\" data-toc-modified-id=\"Carga-concentrada-nos-vãos-devido-o-peso-próprio-das-transversinas-intermediárias-3.2.1.6\"><span class=\"toc-item-num\">3.2.1.6&nbsp;&nbsp;</span>Carga concentrada nos vãos devido o peso próprio das transversinas intermediárias</a></span></li><li><span><a href=\"http://localhost:8888/notebooks/Klassen/Pontes.ipynb#Carga-concentrada-nos-apoios-devido-o-peso-próprio-das-transversinas\" data-toc-modified-id=\"Carga-concentrada-nos-apoios-devido-o-peso-próprio-das-transversinas-3.2.1.7\"><span class=\"toc-item-num\">3.2.1.7&nbsp;&nbsp;</span>Carga concentrada nos apoios devido o peso próprio das transversinas</a></span></li><li><span><a href=\"http://localhost:8888/notebooks/Klassen/Pontes.ipynb#????????\" data-toc-modified-id=\"????????-3.2.1.8\"><span class=\"toc-item-num\">3.2.1.8&nbsp;&nbsp;</span>????????</a></span></li><li><span><a href=\"http://localhost:8888/notebooks/Klassen/Pontes.ipynb#Carga-concentrada-no-externo-do-balanço-devido-ao-peso-próprio-da-?????\" data-toc-modified-id=\"Carga-concentrada-no-externo-do-balanço-devido-ao-peso-próprio-da-?????-3.2.1.9\"><span class=\"toc-item-num\">3.2.1.9&nbsp;&nbsp;</span>Carga concentrada no externo do balanço devido ao peso próprio da ?????</a></span></li><li><span><a href=\"http://localhost:8888/notebooks/Klassen/Pontes.ipynb#Carga-concentrada-no-extremo-do-balanço-devido-a-laje-de-transição-(placa-da-aproximação)\" data-toc-modified-id=\"Carga-concentrada-no-extremo-do-balanço-devido-a-laje-de-transição-(placa-da-aproximação)-3.2.1.10\"><span class=\"toc-item-num\">3.2.1.10&nbsp;&nbsp;</span>Carga concentrada no extremo do balanço devido a laje de transição (placa da aproximação)</a></span></li></ul></li><li><span><a href=\"http://localhost:8888/notebooks/Klassen/Pontes.ipynb#Esquema-da-viga-principal-SEM-laje-de-transição\" data-toc-modified-id=\"Esquema-da-viga-principal-SEM-laje-de-transição-3.2.2\"><span class=\"toc-item-num\">3.2.2&nbsp;&nbsp;</span>Esquema da viga principal <strong>SEM</strong> laje de transição</a></span></li><li><span><a href=\"http://localhost:8888/notebooks/Klassen/Pontes.ipynb#Esquema-da-viga-principal-COM-laje-de-transição\" data-toc-modified-id=\"Esquema-da-viga-principal-COM-laje-de-transição-3.2.3\"><span class=\"toc-item-num\">3.2.3&nbsp;&nbsp;</span>Esquema da viga principal <strong>COM</strong> laje de transição</a></span></li><li><span><a href=\"http://localhost:8888/notebooks/Klassen/Pontes.ipynb#Momento-fletor-e-esforços-cortantes-nas-seções-de-cálculo,-devido-a-carga-permanente-com-a-laje-de-transição\" data-toc-modified-id=\"Momento-fletor-e-esforços-cortantes-nas-seções-de-cálculo,-devido-a-carga-permanente-com-a-laje-de-transição-3.2.4\"><span class=\"toc-item-num\">3.2.4&nbsp;&nbsp;</span>Momento fletor e esforços cortantes nas seções de cálculo, devido a carga permanente com a laje de transição</a></span></li></ul></li><li><span><a href=\"http://localhost:8888/notebooks/Klassen/Pontes.ipynb#Cargas-móveis\" data-toc-modified-id=\"Cargas-móveis-3.3\"><span class=\"toc-item-num\">3.3&nbsp;&nbsp;</span>Cargas móveis</a></span><ul class=\"toc-item\"><li><span><a href=\"http://localhost:8888/notebooks/Klassen/Pontes.ipynb#Coeficiente-de-impacto-vertical\" data-toc-modified-id=\"Coeficiente-de-impacto-vertical-3.3.1\"><span class=\"toc-item-num\">3.3.1&nbsp;&nbsp;</span>Coeficiente de impacto vertical</a></span></li><li><span><a href=\"http://localhost:8888/notebooks/Klassen/Pontes.ipynb#Determinação-do-trem-tipo-real,-sem-impacto\" data-toc-modified-id=\"Determinação-do-trem-tipo-real,-sem-impacto-3.3.2\"><span class=\"toc-item-num\">3.3.2&nbsp;&nbsp;</span>Determinação do trem tipo real, sem impacto</a></span></li><li><span><a href=\"http://localhost:8888/notebooks/Klassen/Pontes.ipynb#Determinação-do-veículo-tipo-SIMPLIFICADO-sem-impacto\" data-toc-modified-id=\"Determinação-do-veículo-tipo-SIMPLIFICADO-sem-impacto-3.3.3\"><span class=\"toc-item-num\">3.3.3&nbsp;&nbsp;</span>Determinação do veículo tipo <em>SIMPLIFICADO</em> sem impacto</a></span></li><li><span><a href=\"http://localhost:8888/notebooks/Klassen/Pontes.ipynb#Determinação-do-trem-tipo\" data-toc-modified-id=\"Determinação-do-trem-tipo-3.3.4\"><span class=\"toc-item-num\">3.3.4&nbsp;&nbsp;</span>Determinação do trem tipo</a></span></li><li><span><a href=\"http://localhost:8888/notebooks/Klassen/Pontes.ipynb#Momento-fletor-nas-seções-devido-a-carga-móvel\" data-toc-modified-id=\"Momento-fletor-nas-seções-devido-a-carga-móvel-3.3.5\"><span class=\"toc-item-num\">3.3.5&nbsp;&nbsp;</span>Momento fletor nas seções devido a carga móvel</a></span></li></ul></li></ul></li></ul></div>"
   ]
  },
  {
   "cell_type": "markdown",
   "metadata": {},
   "source": [
    "# Exemplo: Cálculo da laje central"
   ]
  },
  {
   "cell_type": "markdown",
   "metadata": {},
   "source": [
    "<img src=\"pontes/images/1.jpg\" width=\"300\" />"
   ]
  },
  {
   "cell_type": "markdown",
   "metadata": {},
   "source": [
    "## Esquema estrutural"
   ]
  },
  {
   "cell_type": "markdown",
   "metadata": {},
   "source": [
    "<img src=\"pontes/images/1.1.jpg\" width=\"300\" />"
   ]
  },
  {
   "cell_type": "code",
   "execution_count": 1,
   "metadata": {
    "collapsed": false,
    "scrolled": true
   },
   "outputs": [
    {
     "data": {
      "text/html": [
       "<div>\n",
       "<style>\n",
       "    .dataframe thead tr:only-child th {\n",
       "        text-align: right;\n",
       "    }\n",
       "\n",
       "    .dataframe thead th {\n",
       "        text-align: left;\n",
       "    }\n",
       "\n",
       "    .dataframe tbody tr th {\n",
       "        vertical-align: top;\n",
       "    }\n",
       "</style>\n",
       "<table border=\"1\" class=\"dataframe\">\n",
       "  <thead>\n",
       "    <tr style=\"text-align: right;\">\n",
       "      <th></th>\n",
       "      <th>0</th>\n",
       "    </tr>\n",
       "  </thead>\n",
       "  <tbody>\n",
       "    <tr>\n",
       "      <th>t1</th>\n",
       "      <td>0.62</td>\n",
       "    </tr>\n",
       "    <tr>\n",
       "      <th>t2</th>\n",
       "      <td>0.8</td>\n",
       "    </tr>\n",
       "    <tr>\n",
       "      <th>t</th>\n",
       "      <td>1.1916375287812984 meter</td>\n",
       "    </tr>\n",
       "    <tr>\n",
       "      <th>t/a</th>\n",
       "      <td>0.5958187643906492 dimensionless</td>\n",
       "    </tr>\n",
       "    <tr>\n",
       "      <th>lx/a</th>\n",
       "      <td>3.3 dimensionless</td>\n",
       "    </tr>\n",
       "  </tbody>\n",
       "</table>\n",
       "</div>"
      ],
      "text/plain": [
       "                                     0\n",
       "t1                                0.62\n",
       "t2                                 0.8\n",
       "t             1.1916375287812984 meter\n",
       "t/a   0.5958187643906492 dimensionless\n",
       "lx/a                 3.3 dimensionless"
      ]
     },
     "execution_count": 1,
     "metadata": {},
     "output_type": "execute_result"
    }
   ],
   "source": [
    "import pandas as pd\n",
    "import numpy as np\n",
    "import pint\n",
    "u = pint.UnitRegistry()\n",
    "\n",
    "# distancia entre eixos do trem tipo\n",
    "a = 2 * u.meter\n",
    "\n",
    "# distancia entre as longarinas\n",
    "lx = 6.6 * u.meter\n",
    "\n",
    "# ????? \n",
    "t1 = 0.2 + 2 * (0.085) + 0.25\n",
    "t2 = 0.5 + 2 * (0.025) + 0.25\n",
    "t = np.sqrt((t1 + t2)) * u.meter\n",
    "\n",
    "# Imprimir tabela de dados\n",
    "df = pd.DataFrame(\n",
    "    [t1, t2,t, t/a, lx/a],\n",
    "    ['t1', 't2', 't', 't/a', 'lx/a']\n",
    ")\n",
    "df\n"
   ]
  },
  {
   "cell_type": "markdown",
   "metadata": {},
   "source": [
    "## Cargas permanentes"
   ]
  },
  {
   "cell_type": "code",
   "execution_count": 2,
   "metadata": {
    "collapsed": false
   },
   "outputs": [
    {
     "data": {
      "text/html": [
       "<div>\n",
       "<style>\n",
       "    .dataframe thead tr:only-child th {\n",
       "        text-align: right;\n",
       "    }\n",
       "\n",
       "    .dataframe thead th {\n",
       "        text-align: left;\n",
       "    }\n",
       "\n",
       "    .dataframe tbody tr th {\n",
       "        vertical-align: top;\n",
       "    }\n",
       "</style>\n",
       "<table border=\"1\" class=\"dataframe\">\n",
       "  <thead>\n",
       "    <tr style=\"text-align: right;\">\n",
       "      <th></th>\n",
       "      <th>0</th>\n",
       "    </tr>\n",
       "  </thead>\n",
       "  <tbody>\n",
       "    <tr>\n",
       "      <th>altura_laje</th>\n",
       "      <td>0.25</td>\n",
       "    </tr>\n",
       "    <tr>\n",
       "      <th>peso_concreto</th>\n",
       "      <td>2.5 force_ton / meter ** 3</td>\n",
       "    </tr>\n",
       "    <tr>\n",
       "      <th>pp_laje</th>\n",
       "      <td>0.625 force_ton / meter ** 2</td>\n",
       "    </tr>\n",
       "    <tr>\n",
       "      <th>altura_pavimento</th>\n",
       "      <td>0.085 meter</td>\n",
       "    </tr>\n",
       "    <tr>\n",
       "      <th>peso_pavimento</th>\n",
       "      <td>2.4 force_ton / meter ** 3</td>\n",
       "    </tr>\n",
       "    <tr>\n",
       "      <th>pp_pavimento</th>\n",
       "      <td>0.20400000000000001 force_ton / meter ** 2</td>\n",
       "    </tr>\n",
       "    <tr>\n",
       "      <th>g</th>\n",
       "      <td>0.829 force_ton / meter ** 2</td>\n",
       "    </tr>\n",
       "  </tbody>\n",
       "</table>\n",
       "</div>"
      ],
      "text/plain": [
       "                                                           0\n",
       "altura_laje                                             0.25\n",
       "peso_concreto                     2.5 force_ton / meter ** 3\n",
       "pp_laje                         0.625 force_ton / meter ** 2\n",
       "altura_pavimento                                 0.085 meter\n",
       "peso_pavimento                    2.4 force_ton / meter ** 3\n",
       "pp_pavimento      0.20400000000000001 force_ton / meter ** 2\n",
       "g                               0.829 force_ton / meter ** 2"
      ]
     },
     "execution_count": 2,
     "metadata": {},
     "output_type": "execute_result"
    }
   ],
   "source": [
    "# Peso próprio da laje\n",
    "altura_laje = 0.25 * u.meter\n",
    "peso_concreto = 2.5 * u.ton_force / u.meter**3\n",
    "pp_laje = altura_laje * peso_concreto\n",
    "\n",
    "# Peso próprio pavimento\n",
    "altura_pavimento = 0.085 * u.meter\n",
    "peso_pavimento =  2.4 * u.ton_force / u.meter**3\n",
    "pp_pavimento = altura_pavimento * peso_pavimento\n",
    "\n",
    "# Peso total\n",
    "g = pp_laje + pp_pavimento\n",
    "\n",
    "# Imprimir tabela de dados\n",
    "df = pd.DataFrame(\n",
    "    [altura_laje.magnitude, peso_concreto, pp_laje, altura_pavimento, peso_pavimento, pp_pavimento, g],\n",
    "    ['altura_laje', \"peso_concreto\", 'pp_laje', 'altura_pavimento', 'peso_pavimento', 'pp_pavimento', 'g']\n",
    ")\n",
    "df\n"
   ]
  },
  {
   "cell_type": "code",
   "execution_count": 3,
   "metadata": {
    "collapsed": false,
    "scrolled": true
   },
   "outputs": [
    {
     "data": {
      "text/html": [
       "<div>\n",
       "<style>\n",
       "    .dataframe thead tr:only-child th {\n",
       "        text-align: right;\n",
       "    }\n",
       "\n",
       "    .dataframe thead th {\n",
       "        text-align: left;\n",
       "    }\n",
       "\n",
       "    .dataframe tbody tr th {\n",
       "        vertical-align: top;\n",
       "    }\n",
       "</style>\n",
       "<table border=\"1\" class=\"dataframe\">\n",
       "  <thead>\n",
       "    <tr style=\"text-align: right;\">\n",
       "      <th></th>\n",
       "      <th>magnitude</th>\n",
       "      <th>units</th>\n",
       "    </tr>\n",
       "  </thead>\n",
       "  <tbody>\n",
       "    <tr>\n",
       "      <th>g</th>\n",
       "      <td>0.829000</td>\n",
       "      <td>force_ton / meter ** 2</td>\n",
       "    </tr>\n",
       "    <tr>\n",
       "      <th>lx</th>\n",
       "      <td>6.600000</td>\n",
       "      <td>meter</td>\n",
       "    </tr>\n",
       "    <tr>\n",
       "      <th>$k_{xm}$</th>\n",
       "      <td>0.041700</td>\n",
       "      <td>force_ton</td>\n",
       "    </tr>\n",
       "    <tr>\n",
       "      <th>$M_{xm}$</th>\n",
       "      <td>1.505839</td>\n",
       "      <td>force_ton ** 2</td>\n",
       "    </tr>\n",
       "    <tr>\n",
       "      <th>$k_{ym}$</th>\n",
       "      <td>0.069000</td>\n",
       "      <td>force_ton</td>\n",
       "    </tr>\n",
       "    <tr>\n",
       "      <th>$M_{ym}$</th>\n",
       "      <td>2.491676</td>\n",
       "      <td>force_ton ** 2</td>\n",
       "    </tr>\n",
       "    <tr>\n",
       "      <th>$k_{xe}$</th>\n",
       "      <td>-0.083300</td>\n",
       "      <td>force_ton</td>\n",
       "    </tr>\n",
       "    <tr>\n",
       "      <th>$M_{xe}$</th>\n",
       "      <td>-3.008066</td>\n",
       "      <td>force_ton ** 2</td>\n",
       "    </tr>\n",
       "  </tbody>\n",
       "</table>\n",
       "</div>"
      ],
      "text/plain": [
       "          magnitude                   units\n",
       "g          0.829000  force_ton / meter ** 2\n",
       "lx         6.600000                   meter\n",
       "$k_{xm}$   0.041700               force_ton\n",
       "$M_{xm}$   1.505839          force_ton ** 2\n",
       "$k_{ym}$   0.069000               force_ton\n",
       "$M_{ym}$   2.491676          force_ton ** 2\n",
       "$k_{xe}$  -0.083300               force_ton\n",
       "$M_{xe}$  -3.008066          force_ton ** 2"
      ]
     },
     "execution_count": 3,
     "metadata": {},
     "output_type": "execute_result"
    }
   ],
   "source": [
    "kxm = 0.0417 * u.ton_force\n",
    "mxm = kxm * g * lx**2\n",
    "\n",
    "kym = 0.069 * u.ton_force\n",
    "mym = kym * g * lx**2\n",
    "\n",
    "kxe = -0.0833 * u.ton_force\n",
    "mxe = kxe * g * lx**2\n",
    "\n",
    "# Imprimir tabela de dados\n",
    "df1 = pd.DataFrame([\n",
    "    [g.magnitude, g.units],\n",
    "    [lx.magnitude, lx.units],\n",
    "        [kxm.magnitude, kxm.units],\n",
    "    [mxm.magnitude, mxm.units],\n",
    "        [kym.magnitude, kym.units],\n",
    "    [mym.magnitude, mym.units],\n",
    "        [kxe.magnitude, kxe.units],\n",
    "    [mxe.magnitude, mxe.units]\n",
    "],\n",
    "    columns=['magnitude', 'units'],\n",
    "    index=['g','lx','$k_{xm}$','$M_{xm}$','$k_{ym}$','$M_{ym}$','$k_{xe}$', '$M_{xe}$']\n",
    ")\n",
    "df1\n"
   ]
  },
  {
   "cell_type": "markdown",
   "metadata": {},
   "source": [
    "## ???????\n",
    "## Direção transversal"
   ]
  },
  {
   "cell_type": "markdown",
   "metadata": {},
   "source": [
    "Entrar com os valores na tabela e fazer as operações pedidas para poder completar a tabela"
   ]
  },
  {
   "cell_type": "markdown",
   "metadata": {},
   "source": [
    "<style type=\"text/css\">\n",
    ".tg  {border-collapse:collapse;border-spacing:0;border-color:#999;}\n",
    ".tg td{font-family:Arial, sans-serif;font-size:14px;padding:10px 5px;border-style:solid;border-width:1px;overflow:hidden;word-break:normal;border-color:#999;color:#444;background-color:#F7FDFA;}\n",
    ".tg th{font-family:Arial, sans-serif;font-size:14px;font-weight:normal;padding:10px 5px;border-style:solid;border-width:1px;overflow:hidden;word-break:normal;border-color:#999;color:#fff;background-color:#26ADE4;}\n",
    ".tg .tg-baqh{text-align:center;vertical-align:top}\n",
    ".tg .tg-8xib{background-color:#fffc9e;text-align:center;vertical-align:top}\n",
    ".tg .tg-7ygo{background-color:#fffe65;text-align:center;vertical-align:top}\n",
    "</style>\n",
    "<table class=\"tg\">\n",
    "  <tr>\n",
    "    <th class=\"tg-baqh\" colspan=\"10\">Carga das rodas - 1 tf</th>\n",
    "    <th class=\"tg-baqh\" colspan=\"6\">Carga multidão - 1tf/m2</th>\n",
    "  </tr>\n",
    "  <tr>\n",
    "    <td class=\"tg-baqh\" rowspan=\"3\">lx/a</td>\n",
    "    <td class=\"tg-baqh\" colspan=\"3\">$M_{xm}$</td>\n",
    "    <td class=\"tg-baqh\" colspan=\"3\">$M_{xm}$</td>\n",
    "    <td class=\"tg-baqh\" colspan=\"3\">$M_{xm}$</td>\n",
    "    <td class=\"tg-baqh\" colspan=\"2\">$M_{xm}$</td>\n",
    "    <td class=\"tg-baqh\" colspan=\"2\">$M_{xm}$</td>\n",
    "    <td class=\"tg-baqh\" colspan=\"2\">$M_{xm}$</td>\n",
    "  </tr>\n",
    "  <tr>\n",
    "    <td class=\"tg-baqh\" colspan=\"3\">$\\frac{t}{a}$</td>\n",
    "    <td class=\"tg-baqh\" colspan=\"3\">$\\frac{t}{a}$</td>\n",
    "    <td class=\"tg-baqh\" colspan=\"3\">$\\frac{t}{a}$</td>\n",
    "    <td class=\"tg-baqh\" rowspan=\"2\">p</td>\n",
    "    <td class=\"tg-baqh\" rowspan=\"2\">p'</td>\n",
    "    <td class=\"tg-baqh\" rowspan=\"2\">p</td>\n",
    "    <td class=\"tg-baqh\" rowspan=\"2\">p'</td>\n",
    "    <td class=\"tg-baqh\" rowspan=\"2\">p</td>\n",
    "    <td class=\"tg-baqh\" rowspan=\"2\">p'</td>\n",
    "  </tr>\n",
    "  <tr>\n",
    "    <td class=\"tg-baqh\">0.25</td>\n",
    "    <td class=\"tg-8xib\"> {{ t/a }} </td>\n",
    "    <td class=\"tg-baqh\">0.5</td>\n",
    "    <td class=\"tg-baqh\">0.25</td>\n",
    "    <td class=\"tg-7ygo\"> {{ t/a }} </td>\n",
    "    <td class=\"tg-baqh\">0.5</td>\n",
    "    <td class=\"tg-baqh\">0.25</td>\n",
    "    <td class=\"tg-baqh\"> {{ t/a }}</td>\n",
    "    <td class=\"tg-baqh\">0.5</td>\n",
    "  </tr>\n",
    "  <tr>\n",
    "    <td class=\"tg-baqh\">3</td>\n",
    "    <td class=\"tg-baqh\">0.415</td>\n",
    "    <td class=\"tg-baqh\">média</td>\n",
    "    <td class=\"tg-baqh\">0.370</td>\n",
    "    <td class=\"tg-baqh\">0.239</td>\n",
    "    <td class=\"tg-baqh\">média</td>\n",
    "    <td class=\"tg-baqh\">0.179</td>\n",
    "    <td class=\"tg-baqh\">0.840</td>\n",
    "    <td class=\"tg-baqh\">média</td>\n",
    "    <td class=\"tg-baqh\">0.8</td>\n",
    "    <td class=\"tg-baqh\">0.3</td>\n",
    "    <td class=\"tg-baqh\">0.53</td>\n",
    "    <td class=\"tg-baqh\">0.05</td>\n",
    "    <td class=\"tg-baqh\">0.24</td>\n",
    "    <td class=\"tg-baqh\">0.2</td>\n",
    "    <td class=\"tg-baqh\">0.8</td>\n",
    "  </tr>\n",
    "  <tr>\n",
    "    <td class=\"tg-baqh\">{{lx/a}}</td>\n",
    "    <td class=\"tg-baqh\"></td>\n",
    "    <td class=\"tg-baqh\">interpolocação</td>\n",
    "    <td class=\"tg-baqh\"></td>\n",
    "    <td class=\"tg-baqh\"></td>\n",
    "    <td class=\"tg-baqh\">interpolocação</td>\n",
    "    <td class=\"tg-baqh\"></td>\n",
    "    <td class=\"tg-baqh\"></td>\n",
    "    <td class=\"tg-baqh\">interpolocação</td>\n",
    "    <td class=\"tg-baqh\"></td>\n",
    "    <td class=\"tg-baqh\">interpolocação</td>\n",
    "    <td class=\"tg-baqh\">interpolocação</td>\n",
    "    <td class=\"tg-baqh\">interpolocação</td>\n",
    "    <td class=\"tg-baqh\">interpolocação</td>\n",
    "    <td class=\"tg-baqh\">interpolocação</td>\n",
    "    <td class=\"tg-baqh\">interpolocação</td>\n",
    "  </tr>\n",
    "  <tr>\n",
    "    <td class=\"tg-baqh\">4</td>\n",
    "    <td class=\"tg-baqh\">média</td>\n",
    "    <td class=\"tg-baqh\">0.502</td>\n",
    "    <td class=\"tg-baqh\">0.485</td>\n",
    "    <td class=\"tg-baqh\">0,315</td>\n",
    "    <td class=\"tg-baqh\">média</td>\n",
    "    <td class=\"tg-baqh\">0,262</td>\n",
    "    <td class=\"tg-baqh\">1.06</td>\n",
    "    <td class=\"tg-baqh\">média</td>\n",
    "    <td class=\"tg-baqh\">0.8</td>\n",
    "    <td class=\"tg-baqh\">0.8</td>\n",
    "    <td class=\"tg-baqh\">1.11</td>\n",
    "    <td class=\"tg-baqh\">0.130</td>\n",
    "    <td class=\"tg-baqh\">0.570</td>\n",
    "    <td class=\"tg-baqh\">0.55</td>\n",
    "    <td class=\"tg-baqh\">2.2</td>\n",
    "  </tr>\n",
    "</table>"
   ]
  },
  {
   "cell_type": "code",
   "execution_count": 4,
   "metadata": {
    "collapsed": false
   },
   "outputs": [
    {
     "data": {
      "text/html": [
       "<div>\n",
       "<style>\n",
       "    .dataframe thead tr:only-child th {\n",
       "        text-align: right;\n",
       "    }\n",
       "\n",
       "    .dataframe thead th {\n",
       "        text-align: left;\n",
       "    }\n",
       "\n",
       "    .dataframe tbody tr th {\n",
       "        vertical-align: top;\n",
       "    }\n",
       "</style>\n",
       "<table border=\"1\" class=\"dataframe\">\n",
       "  <thead>\n",
       "    <tr style=\"text-align: right;\">\n",
       "      <th></th>\n",
       "      <th>valor1</th>\n",
       "      <th>valor2</th>\n",
       "      <th>média</th>\n",
       "    </tr>\n",
       "  </thead>\n",
       "  <tbody>\n",
       "    <tr>\n",
       "      <th></th>\n",
       "      <td>0.415</td>\n",
       "      <td>0.37</td>\n",
       "      <td>0.3925</td>\n",
       "    </tr>\n",
       "  </tbody>\n",
       "</table>\n",
       "</div>"
      ],
      "text/plain": [
       "  valor1  valor2   média\n",
       "   0.415    0.37  0.3925"
      ]
     },
     "execution_count": 4,
     "metadata": {},
     "output_type": "execute_result"
    }
   ],
   "source": [
    "# Exemplo de média\n",
    "df = pd.DataFrame(index=[''])\n",
    "df['valor1'] = [0.415]\n",
    "df['valor2'] = [0.370]\n",
    "df['média'] = np.mean([0.415,0.37])\n",
    "df\n"
   ]
  },
  {
   "cell_type": "code",
   "execution_count": 5,
   "metadata": {
    "collapsed": false
   },
   "outputs": [
    {
     "data": {
      "text/html": [
       "<div>\n",
       "<style>\n",
       "    .dataframe thead tr:only-child th {\n",
       "        text-align: right;\n",
       "    }\n",
       "\n",
       "    .dataframe thead th {\n",
       "        text-align: left;\n",
       "    }\n",
       "\n",
       "    .dataframe tbody tr th {\n",
       "        vertical-align: top;\n",
       "    }\n",
       "</style>\n",
       "<table border=\"1\" class=\"dataframe\">\n",
       "  <thead>\n",
       "    <tr style=\"text-align: right;\">\n",
       "      <th></th>\n",
       "      <th>coluna1</th>\n",
       "      <th>coluna2</th>\n",
       "    </tr>\n",
       "  </thead>\n",
       "  <tbody>\n",
       "    <tr>\n",
       "      <th>0</th>\n",
       "      <td>3.0</td>\n",
       "      <td>0.392</td>\n",
       "    </tr>\n",
       "    <tr>\n",
       "      <th>1</th>\n",
       "      <td>3.3</td>\n",
       "      <td>0.425</td>\n",
       "    </tr>\n",
       "    <tr>\n",
       "      <th>2</th>\n",
       "      <td>4.0</td>\n",
       "      <td>0.502</td>\n",
       "    </tr>\n",
       "  </tbody>\n",
       "</table>\n",
       "</div>"
      ],
      "text/plain": [
       "   coluna1  coluna2\n",
       "0      3.0    0.392\n",
       "1      3.3    0.425\n",
       "2      4.0    0.502"
      ]
     },
     "execution_count": 5,
     "metadata": {},
     "output_type": "execute_result"
    }
   ],
   "source": [
    "# Exemplo de interpolação\n",
    "lx_a = [3,4]\n",
    "mxm = [0.392,0.502]\n",
    "\n",
    "df = pd.DataFrame()\n",
    "df['coluna1'] = [3,3.3,4]\n",
    "df['coluna2'] = [0.392,np.interp(3.3,lx_a,mxm),0.502]\n",
    "df"
   ]
  },
  {
   "cell_type": "markdown",
   "metadata": {},
   "source": [
    "Tabela completa"
   ]
  },
  {
   "cell_type": "markdown",
   "metadata": {},
   "source": [
    "<style type=\"text/css\">\n",
    ".tg  {border-collapse:collapse;border-spacing:0;border-color:#999;}\n",
    ".tg td{font-family:Arial, sans-serif;font-size:14px;padding:10px 5px;border-style:solid;border-width:1px;overflow:hidden;word-break:normal;border-color:#999;color:#444;background-color:#F7FDFA;}\n",
    ".tg th{font-family:Arial, sans-serif;font-size:14px;font-weight:normal;padding:10px 5px;border-style:solid;border-width:1px;overflow:hidden;word-break:normal;border-color:#999;color:#fff;background-color:#26ADE4;}\n",
    ".tg .tg-baqh{text-align:center;vertical-align:top}\n",
    "</style>\n",
    "<table class=\"tg\">\n",
    "  <tr>\n",
    "    <th class=\"tg-baqh\" colspan=\"10\">Carga das rodas - 1 tf</th>\n",
    "    <th class=\"tg-baqh\" colspan=\"6\">Carga multidão - 1tf/m2</th>\n",
    "  </tr>\n",
    "  <tr>\n",
    "    <td class=\"tg-baqh\" rowspan=\"3\">lx/a</td>\n",
    "    <td class=\"tg-baqh\" colspan=\"3\">$M_{xm}$</td>\n",
    "    <td class=\"tg-baqh\" colspan=\"3\">$M_{ym}$</td>\n",
    "    <td class=\"tg-baqh\" colspan=\"3\">$-M_{xe}$</td>\n",
    "    <td class=\"tg-baqh\" colspan=\"2\">$M_{xm}$</td>\n",
    "    <td class=\"tg-baqh\" colspan=\"2\">$M_{ym}$</td>\n",
    "    <td class=\"tg-baqh\" colspan=\"2\">$-M_{xe}$</td>\n",
    "  </tr>\n",
    "  <tr>\n",
    "    <td class=\"tg-baqh\" colspan=\"3\">$\\frac{t}{a}$</td>\n",
    "    <td class=\"tg-baqh\" colspan=\"3\">$\\frac{t}{a}$</td>\n",
    "    <td class=\"tg-baqh\" colspan=\"3\">$\\frac{t}{a}$</td>\n",
    "    <td class=\"tg-baqh\" rowspan=\"2\">p</td>\n",
    "    <td class=\"tg-baqh\" rowspan=\"2\">p'</td>\n",
    "    <td class=\"tg-baqh\" rowspan=\"2\">p</td>\n",
    "    <td class=\"tg-baqh\" rowspan=\"2\">p'</td>\n",
    "    <td class=\"tg-baqh\" rowspan=\"2\">p</td>\n",
    "    <td class=\"tg-baqh\" rowspan=\"2\">p'</td>\n",
    "  </tr>\n",
    "  <tr>\n",
    "    <td class=\"tg-baqh\">0.25</td>\n",
    "    <td class=\"tg-baqh\">0.378</td>\n",
    "    <td class=\"tg-baqh\">0.5</td>\n",
    "    <td class=\"tg-baqh\">0.25</td>\n",
    "    <td class=\"tg-baqh\">0.378</td>\n",
    "    <td class=\"tg-baqh\">0.5</td>\n",
    "    <td class=\"tg-baqh\">0.25</td>\n",
    "    <td class=\"tg-baqh\">0.578</td>\n",
    "    <td class=\"tg-baqh\">0.5</td>\n",
    "  </tr>\n",
    "  <tr>\n",
    "    <td class=\"tg-baqh\">3</td>\n",
    "    <td class=\"tg-baqh\">0.415</td>\n",
    "    <td class=\"tg-baqh\">0.392</td>\n",
    "    <td class=\"tg-baqh\">0.370</td>\n",
    "    <td class=\"tg-baqh\">0.239</td>\n",
    "    <td class=\"tg-baqh\">0.208</td>\n",
    "    <td class=\"tg-baqh\">0.179</td>\n",
    "    <td class=\"tg-baqh\">0.840</td>\n",
    "    <td class=\"tg-baqh\">0.820</td>\n",
    "    <td class=\"tg-baqh\">0.8</td>\n",
    "    <td class=\"tg-baqh\">0.3</td>\n",
    "    <td class=\"tg-baqh\">0.53</td>\n",
    "    <td class=\"tg-baqh\">0.05</td>\n",
    "    <td class=\"tg-baqh\">0.24</td>\n",
    "    <td class=\"tg-baqh\">0.2</td>\n",
    "    <td class=\"tg-baqh\">0.8</td>\n",
    "  </tr>\n",
    "  <tr>\n",
    "    <td class=\"tg-baqh\">3.3</td>\n",
    "    <td class=\"tg-baqh\"></td>\n",
    "    <td class=\"tg-baqh\">0.425</td>\n",
    "    <td class=\"tg-baqh\"></td>\n",
    "    <td class=\"tg-baqh\"></td>\n",
    "    <td class=\"tg-baqh\">0.232</td>\n",
    "    <td class=\"tg-baqh\"></td>\n",
    "    <td class=\"tg-baqh\"></td>\n",
    "    <td class=\"tg-baqh\">0.884</td>\n",
    "    <td class=\"tg-baqh\"></td>\n",
    "    <td class=\"tg-baqh\">0.45</td>\n",
    "    <td class=\"tg-baqh\">0.704</td>\n",
    "    <td class=\"tg-baqh\">0.074</td>\n",
    "    <td class=\"tg-baqh\">0.339</td>\n",
    "    <td class=\"tg-baqh\">0.305</td>\n",
    "    <td class=\"tg-baqh\">1.22</td>\n",
    "  </tr>\n",
    "  <tr>\n",
    "    <td class=\"tg-baqh\">4</td>\n",
    "    <td class=\"tg-baqh\">0.52</td>\n",
    "    <td class=\"tg-baqh\">0.502</td>\n",
    "    <td class=\"tg-baqh\">0.485</td>\n",
    "    <td class=\"tg-baqh\">0,315</td>\n",
    "    <td class=\"tg-baqh\">0,288</td>\n",
    "    <td class=\"tg-baqh\">0,262</td>\n",
    "    <td class=\"tg-baqh\">1.06</td>\n",
    "    <td class=\"tg-baqh\">1.01</td>\n",
    "    <td class=\"tg-baqh\">0.8</td>\n",
    "    <td class=\"tg-baqh\">0.8</td>\n",
    "    <td class=\"tg-baqh\">1.11</td>\n",
    "    <td class=\"tg-baqh\">0.130</td>\n",
    "    <td class=\"tg-baqh\">0.570</td>\n",
    "    <td class=\"tg-baqh\">0.55</td>\n",
    "    <td class=\"tg-baqh\">2.2</td>\n",
    "  </tr>\n",
    "</table>"
   ]
  },
  {
   "cell_type": "code",
   "execution_count": 6,
   "metadata": {
    "collapsed": false
   },
   "outputs": [
    {
     "data": {
      "text/html": [
       "<div>\n",
       "<style>\n",
       "    .dataframe thead tr:only-child th {\n",
       "        text-align: right;\n",
       "    }\n",
       "\n",
       "    .dataframe thead th {\n",
       "        text-align: left;\n",
       "    }\n",
       "\n",
       "    .dataframe tbody tr th {\n",
       "        vertical-align: top;\n",
       "    }\n",
       "</style>\n",
       "<table border=\"1\" class=\"dataframe\">\n",
       "  <thead>\n",
       "    <tr style=\"text-align: right;\">\n",
       "      <th></th>\n",
       "      <th>$M_{xm}$</th>\n",
       "      <th>$M_{ym}$</th>\n",
       "      <th>$M_{xe}$</th>\n",
       "    </tr>\n",
       "  </thead>\n",
       "  <tbody>\n",
       "    <tr>\n",
       "      <th>Momentos móveis $\\dfrac{tf \\cdot m}{m}$</th>\n",
       "      <td>3.7645</td>\n",
       "      <td>1.9465</td>\n",
       "      <td>-7.3925</td>\n",
       "    </tr>\n",
       "  </tbody>\n",
       "</table>\n",
       "</div>"
      ],
      "text/plain": [
       "                                         $M_{xm}$  $M_{ym}$  $M_{xe}$\n",
       "Momentos móveis $\\dfrac{tf \\cdot m}{m}$    3.7645    1.9465   -7.3925"
      ]
     },
     "execution_count": 6,
     "metadata": {},
     "output_type": "execute_result"
    }
   ],
   "source": [
    "# Determinar os momentos moveis com uso da tabela\n",
    "mxm_movel = 0.425*7.5 + 0.45*0.5 + 0.704*0.5\n",
    "mym_movel = 0.232*7.5 + 0.074*0.5 + 0.339*0.5\n",
    "mxe_movel = 0.884*7.5 + 0.305*0.5 + 1.22*0.5\n",
    "\n",
    "df = pd.DataFrame(index=['Momentos móveis $\\dfrac{tf \\cdot m}{m}$'])\n",
    "df['$M_{xm}$'] = [mxm_movel]\n",
    "df['$M_{ym}$'] = [mym_movel]\n",
    "df['$M_{xe}$'] = [-mxe_movel]\n",
    "df"
   ]
  },
  {
   "cell_type": "markdown",
   "metadata": {},
   "source": [
    "### Diagramas de momentos fletores"
   ]
  },
  {
   "cell_type": "markdown",
   "metadata": {},
   "source": [
    "#### Momentos permanentes"
   ]
  },
  {
   "cell_type": "markdown",
   "metadata": {},
   "source": [
    "<img src=\"pontes/images/1.4.1.1.jpg\" width=\"60%\"/>"
   ]
  },
  {
   "cell_type": "markdown",
   "metadata": {},
   "source": [
    "#### Momentos móveis"
   ]
  },
  {
   "cell_type": "markdown",
   "metadata": {},
   "source": [
    "<img src=\"pontes/images/1.4.1.2.jpg\" width=\"60%\"/>"
   ]
  },
  {
   "cell_type": "markdown",
   "metadata": {},
   "source": [
    "### Seção transversal"
   ]
  },
  {
   "cell_type": "markdown",
   "metadata": {},
   "source": [
    "<img src=\"pontes/images/1.4.2.jpg\" width=\"400\" />"
   ]
  },
  {
   "cell_type": "markdown",
   "metadata": {},
   "source": [
    "### Momentos fletores nas seções de cálculo devido a carga permanente"
   ]
  },
  {
   "cell_type": "markdown",
   "metadata": {},
   "source": [
    "<img src=\"pontes/images/1.4.3.jpg\" width=\"300\" />"
   ]
  },
  {
   "cell_type": "code",
   "execution_count": 12,
   "metadata": {
    "collapsed": false
   },
   "outputs": [
    {
     "data": {
      "image/png": "[encoded data removed]",
      "text/plain": [
       "<matplotlib.figure.Figure at 0x7fe0e753a7b8>"
      ]
     },
     "metadata": {},
     "output_type": "display_data"
    }
   ],
   "source": [
    "def ms(x):\n",
    "    return -3.008 + 2.736*x - 0.829*x**2/2\n",
    "\n",
    "from __future__ import print_function, division\n",
    "import numpy as np\n",
    "import matplotlib as mpl\n",
    "import matplotlib.pyplot as plt\n",
    "%matplotlib inline\n",
    "\n",
    "# Silly example data\n",
    "x = np.linspace(0, 6.6, num=40, endpoint=True)\n",
    "\n",
    "# Make the plot\n",
    "plt.plot(x, -ms(x), linewidth=3, linestyle=\"--\",\n",
    "         color=\"blue\", label=r\"Legend label $\\sin(x)$\")\n",
    "plt.xlabel(r\"Description of $x$ coordinate (units)\")\n",
    "plt.ylabel(r\"Description of $y$ coordinate (units)\")\n",
    "plt.title(r\"Title here (remove for papers)\")\n",
    "plt.plot([0,6.6], [0, 0], linewidth = 10, alpha=0.5)\n",
    "plt.xlim(-1, 7)\n",
    "plt.legend(loc=\"lower left\")\n",
    "plt.show()\n"
   ]
  },
  {
   "cell_type": "markdown",
   "metadata": {},
   "source": [
    "### Momento fletor na seção de cálculo, devido carga móvel"
   ]
  },
  {
   "cell_type": "markdown",
   "metadata": {},
   "source": [
    "### Coeficiente de impacto vertical"
   ]
  },
  {
   "cell_type": "markdown",
   "metadata": {},
   "source": [
    "### Envoltório momento fletor"
   ]
  },
  {
   "cell_type": "markdown",
   "metadata": {},
   "source": [
    "### DImensionamento ao momento fletor"
   ]
  },
  {
   "cell_type": "markdown",
   "metadata": {},
   "source": [
    "<img src=\"pontes/images/1.4.7.jpg\" width=\"300\" />"
   ]
  },
  {
   "cell_type": "markdown",
   "metadata": {},
   "source": [
    "#### Momentos positivos"
   ]
  },
  {
   "cell_type": "markdown",
   "metadata": {},
   "source": [
    "#### Momentos negativos"
   ]
  },
  {
   "cell_type": "markdown",
   "metadata": {},
   "source": [
    "#### Momento positivos - Verificação fadiga"
   ]
  },
  {
   "cell_type": "markdown",
   "metadata": {},
   "source": [
    "#### Momentos negativos - Verificação fadiga"
   ]
  },
  {
   "cell_type": "markdown",
   "metadata": {},
   "source": [
    "#### Resumo armadura positiva"
   ]
  },
  {
   "cell_type": "markdown",
   "metadata": {},
   "source": [
    "#### Resumo armadura negativa"
   ]
  },
  {
   "cell_type": "markdown",
   "metadata": {},
   "source": [
    "## Direção longitudinal"
   ]
  },
  {
   "cell_type": "markdown",
   "metadata": {},
   "source": [
    "### Envoltorio dos momentos fletores"
   ]
  },
  {
   "cell_type": "markdown",
   "metadata": {},
   "source": [
    "<img src=\"pontes/images/1.5.1.jpg\" width=\"80%\" />"
   ]
  },
  {
   "cell_type": "markdown",
   "metadata": {},
   "source": [
    "# ????"
   ]
  },
  {
   "cell_type": "markdown",
   "metadata": {},
   "source": [
    "## ???"
   ]
  },
  {
   "cell_type": "markdown",
   "metadata": {},
   "source": [
    "## Cargas permanentes"
   ]
  },
  {
   "cell_type": "markdown",
   "metadata": {},
   "source": [
    "### Cálculo das cargas"
   ]
  },
  {
   "cell_type": "markdown",
   "metadata": {},
   "source": [
    "### Momentos fletores nas seções de cálculo, devido a carga permanente"
   ]
  },
  {
   "cell_type": "markdown",
   "metadata": {},
   "source": [
    "### Seção $S_1$"
   ]
  },
  {
   "cell_type": "markdown",
   "metadata": {},
   "source": [
    "### Seção $S_2$"
   ]
  },
  {
   "cell_type": "markdown",
   "metadata": {},
   "source": [
    "### Seção $S_3$"
   ]
  },
  {
   "cell_type": "markdown",
   "metadata": {},
   "source": [
    "## Cargas móveis"
   ]
  },
  {
   "cell_type": "markdown",
   "metadata": {},
   "source": [
    "### Momento fletor nas seções de cálculo, devido a carga móvel"
   ]
  },
  {
   "cell_type": "markdown",
   "metadata": {},
   "source": [
    "#### Direção transversal ('x')"
   ]
  },
  {
   "cell_type": "markdown",
   "metadata": {},
   "source": [
    "#### Direção longitudinal ('y')"
   ]
  },
  {
   "cell_type": "markdown",
   "metadata": {},
   "source": [
    "## Direção transversal ('x')"
   ]
  },
  {
   "cell_type": "markdown",
   "metadata": {},
   "source": [
    "### Coeficiente de impacto vertical"
   ]
  },
  {
   "cell_type": "markdown",
   "metadata": {},
   "source": [
    "### Envoltório dos momentos fletores"
   ]
  },
  {
   "cell_type": "markdown",
   "metadata": {},
   "source": [
    "### Dimensionamento aos momentos fletores - direção ('y')"
   ]
  },
  {
   "cell_type": "markdown",
   "metadata": {},
   "source": [
    "<img src=\"pontes/images/2.4.3.jpg\" width=\"80%\" />"
   ]
  },
  {
   "cell_type": "markdown",
   "metadata": {},
   "source": [
    "<img src=\"pontes/images/2.4.3.1.jpg\" width=\"80%\" />"
   ]
  },
  {
   "cell_type": "markdown",
   "metadata": {},
   "source": [
    "# Cálculo da viga principal"
   ]
  },
  {
   "cell_type": "markdown",
   "metadata": {},
   "source": [
    "## Esquema estrutural e seções de cálculo"
   ]
  },
  {
   "cell_type": "markdown",
   "metadata": {},
   "source": [
    "<img src=\"pontes/images/3.1.jpg\" width=\"60%\" />"
   ]
  },
  {
   "cell_type": "markdown",
   "metadata": {},
   "source": [
    "## Carga permanente"
   ]
  },
  {
   "cell_type": "markdown",
   "metadata": {},
   "source": [
    "### Cálculo das cargas permamentes"
   ]
  },
  {
   "cell_type": "markdown",
   "metadata": {},
   "source": [
    "#### Peso próprio da viga"
   ]
  },
  {
   "cell_type": "markdown",
   "metadata": {},
   "source": [
    "<img src=\"pontes/images/3.2.1.1.jpg\" width=\"300\" />"
   ]
  },
  {
   "cell_type": "markdown",
   "metadata": {},
   "source": [
    "#### Laje central"
   ]
  },
  {
   "cell_type": "markdown",
   "metadata": {},
   "source": [
    "<img src=\"pontes/images/3.2.1.2.jpg\" width=\"600\" />"
   ]
  },
  {
   "cell_type": "markdown",
   "metadata": {},
   "source": [
    "#### Laje em balanço"
   ]
  },
  {
   "cell_type": "markdown",
   "metadata": {},
   "source": [
    "#### Carga uniformemente distribuída"
   ]
  },
  {
   "cell_type": "markdown",
   "metadata": {},
   "source": [
    "<img src=\"pontes/images/3.2.1.4.jpg\" width=\"500\" />"
   ]
  },
  {
   "cell_type": "markdown",
   "metadata": {},
   "source": [
    "#### Carga concentrada sobre os apoios devido o peso do alargamento"
   ]
  },
  {
   "cell_type": "markdown",
   "metadata": {},
   "source": [
    "#### Carga concentrada nos vãos devido o peso próprio das transversinas intermediárias"
   ]
  },
  {
   "cell_type": "markdown",
   "metadata": {},
   "source": [
    "<img src=\"pontes/images/3.2.1.6.jpg\" width=\"500\" />"
   ]
  },
  {
   "cell_type": "markdown",
   "metadata": {},
   "source": [
    "#### Carga concentrada nos apoios devido o peso próprio das transversinas"
   ]
  },
  {
   "cell_type": "markdown",
   "metadata": {},
   "source": [
    "<img src=\"pontes/images/3.2.1.7.jpg\" width=\"80%\" />"
   ]
  },
  {
   "cell_type": "markdown",
   "metadata": {},
   "source": [
    "#### ????????"
   ]
  },
  {
   "cell_type": "markdown",
   "metadata": {},
   "source": [
    "#### Carga concentrada no externo do balanço devido ao peso próprio da ?????"
   ]
  },
  {
   "cell_type": "markdown",
   "metadata": {},
   "source": [
    "<img src=\"pontes/images/3.2.1.9.jpg\" width=\"300\" />"
   ]
  },
  {
   "cell_type": "markdown",
   "metadata": {},
   "source": [
    "#### Carga concentrada no extremo do balanço devido a laje de transição (placa da aproximação)"
   ]
  },
  {
   "cell_type": "markdown",
   "metadata": {},
   "source": [
    "<img src=\"pontes/images/3.2.1.10.jpg\" width=\"300\" />"
   ]
  },
  {
   "cell_type": "markdown",
   "metadata": {},
   "source": [
    "### Esquema da viga principal **SEM** laje de transição"
   ]
  },
  {
   "cell_type": "markdown",
   "metadata": {},
   "source": [
    "<img src=\"pontes/images/3.2.2.jpg\" width=\"80%\" />"
   ]
  },
  {
   "cell_type": "markdown",
   "metadata": {},
   "source": [
    "### Esquema da viga principal **COM** laje de transição"
   ]
  },
  {
   "cell_type": "markdown",
   "metadata": {},
   "source": [
    "<img src=\"pontes/images/3.2.3.jpg\" width=\"80%\" />"
   ]
  },
  {
   "cell_type": "markdown",
   "metadata": {},
   "source": [
    "### Momento fletor e esforços cortantes nas seções de cálculo, devido a carga permanente com a laje de transição"
   ]
  },
  {
   "cell_type": "markdown",
   "metadata": {},
   "source": [
    "## Cargas móveis"
   ]
  },
  {
   "cell_type": "markdown",
   "metadata": {},
   "source": [
    "### Coeficiente de impacto vertical"
   ]
  },
  {
   "cell_type": "markdown",
   "metadata": {},
   "source": [
    "### Determinação do trem tipo real, sem impacto"
   ]
  },
  {
   "cell_type": "markdown",
   "metadata": {},
   "source": [
    "<img src=\"pontes/images/3.3.2.jpg\" width=\"300\" />"
   ]
  },
  {
   "cell_type": "markdown",
   "metadata": {},
   "source": [
    "### Determinação do veículo tipo *SIMPLIFICADO* sem impacto"
   ]
  },
  {
   "cell_type": "markdown",
   "metadata": {},
   "source": [
    "### Determinação do trem tipo"
   ]
  },
  {
   "cell_type": "markdown",
   "metadata": {},
   "source": [
    "### Momento fletor nas seções devido a carga móvel"
   ]
  }
 ],
 "metadata": {
  "kernelspec": {
   "display_name": "Python 3",
   "language": "python",
   "name": "python3"
  },
  "language_info": {
   "codemirror_mode": {
    "name": "ipython",
    "version": 3
   },
   "file_extension": ".py",
   "mimetype": "text/x-python",
   "name": "python",
   "nbconvert_exporter": "python",
   "pygments_lexer": "ipython3",
   "version": "3.5.2"
  },
  "latex_envs": {
   "LaTeX_envs_menu_present": true,
   "autocomplete": true,
   "bibliofile": "biblio.bib",
   "cite_by": "apalike",
   "current_citInitial": 1,
   "eqLabelWithNumbers": true,
   "eqNumInitial": 1,
   "hotkeys": {
    "equation": "Ctrl-E",
    "itemize": "Ctrl-I"
   },
   "labels_anchors": false,
   "latex_user_defs": false,
   "report_style_numbering": false,
   "user_envs_cfg": false
  },
  "toc": {
   "nav_menu": {},
   "number_sections": true,
   "sideBar": true,
   "skip_h1_title": false,
   "toc_cell": true,
   "toc_position": {
    "height": "571px",
    "left": "0px",
    "right": "20px",
    "top": "106px",
    "width": "283px"
   },
   "toc_section_display": "block",
   "toc_window_display": true
  },
  "varInspector": {
   "cols": {
    "lenName": 16,
    "lenType": 16,
    "lenVar": 40
   },
   "kernels_config": {
    "python": {
     "delete_cmd_postfix": "",
     "delete_cmd_prefix": "del ",
     "library": "var_list.py",
     "varRefreshCmd": "print(var_dic_list())"
    },
    "r": {
     "delete_cmd_postfix": ") ",
     "delete_cmd_prefix": "rm(",
     "library": "var_list.r",
     "varRefreshCmd": "cat(var_dic_list()) "
    }
   },
   "oldHeight": 341,
   "position": {
    "height": "363px",
    "left": "792px",
    "right": "20px",
    "top": "31px",
    "width": "480px"
   },
   "types_to_exclude": [
    "module",
    "function",
    "builtin_function_or_method",
    "instance",
    "_Feature"
   ],
   "varInspector_section_display": "block",
   "window_display": false
  }
 },
 "nbformat": 4,
 "nbformat_minor": 2
}
