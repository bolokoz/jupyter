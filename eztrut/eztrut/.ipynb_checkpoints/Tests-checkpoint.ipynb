{
 "cells": [
  {
   "cell_type": "code",
   "execution_count": 2,
   "metadata": {
    "collapsed": false
   },
   "outputs": [],
   "source": [
    "import eztrut as ez\n",
    "import matplotlib.pyplot as plt\n",
    "import numpy as np"
   ]
  },
  {
   "cell_type": "code",
   "execution_count": null,
   "metadata": {
    "collapsed": false
   },
   "outputs": [],
   "source": [
    "# Criar uma viga de tamanho 4. Momento, inercia e area serao padrao.\n",
    "viga1 = ez.Viga(5)\n",
    "\n",
    "# Criar dois apoios. Um apoio fixo na ponta esquerda (x = 0) e outro livre no fim (x = 4)\n",
    "apoioA = ez.Apoio(x=1, tipo=2)\n",
    "apoioB = ez.Apoio(x=3, tipo=1)\n",
    "\n",
    "# Criar uma forca CONCENTRADA vertical (de cima para baixo) de 10kN no meio da viga (x = 2)\n",
    "forca1 = ez.ForcaC(f=-10000, x=5, tipo=2)\n",
    "\n",
    "# Criar a estrutura para resolver os diagramas\n",
    "apoios = [apoioA, apoioB]\n",
    "forcas = [forca1]\n",
    "estrut1 = ez.Eztrut(viga1, apoios, forcas)"
   ]
  },
  {
   "cell_type": "code",
   "execution_count": null,
   "metadata": {
    "collapsed": false
   },
   "outputs": [],
   "source": [
    "estrut1.mostrar_figura()\n",
    "estrut1.plotagem_reacao_apoio()"
   ]
  },
  {
   "cell_type": "code",
   "execution_count": 5,
   "metadata": {
    "collapsed": false,
    "scrolled": true
   },
   "outputs": [
    {
     "name": "stdout",
     "output_type": "stream",
     "text": [
      " Soma de forcas em y: -10.0 kN \n",
      " Apoio A: -10.0 kN \n",
      " Apoio B: 20.0 kN \n",
      "\n"
     ]
    }
   ],
   "source": [
    "estrut1.reacao_apoio_biapoiada_isoestatica()"
   ]
  },
  {
   "cell_type": "code",
   "execution_count": 6,
   "metadata": {
    "collapsed": false
   },
   "outputs": [
    {
     "name": "stdout",
     "output_type": "stream",
     "text": [
      "dist forca apoio [4]\n"
     ]
    },
    {
     "data": {
      "text/latex": [
       "$$\\sum F_x = 0 \\\\\\sum F_y = 0 \\rightarrow R_a + R_b = -10000\\\\\\sum M_a = 0 \\rightarrow 4 \\cdot (-10000) = R_b \\cdot (-20000.0)$$"
      ],
      "text/plain": [
       "<IPython.core.display.Math object>"
      ]
     },
     "execution_count": 6,
     "metadata": {},
     "output_type": "execute_result"
    }
   ],
   "source": [
    "estrut1.memorial_reacao()"
   ]
  },
  {
   "cell_type": "code",
   "execution_count": 7,
   "metadata": {
    "collapsed": false
   },
   "outputs": [
    {
     "data": {
      "text/plain": [
       "[(0, 1), (1, 3), (3, 5)]"
      ]
     },
     "execution_count": 7,
     "metadata": {},
     "output_type": "execute_result"
    }
   ],
   "source": [
    "(estrut1.trechos)"
   ]
  },
  {
   "cell_type": "code",
   "execution_count": 8,
   "metadata": {
    "collapsed": false
   },
   "outputs": [
    {
     "data": {
      "text/plain": [
       "[(0, 2), (2, 4), (4, 6), (6, 4), (4, 5), (5, 7), (7, 3), (3, 1)]"
      ]
     },
     "execution_count": 8,
     "metadata": {},
     "output_type": "execute_result"
    }
   ],
   "source": [
    "items = [0,2,4,6,4,5,7,3,1]\n",
    "[(items[i],items[i+1]) for i in range(len(items)-1)]"
   ]
  },
  {
   "cell_type": "code",
   "execution_count": 9,
   "metadata": {
    "collapsed": false
   },
   "outputs": [
    {
     "data": {
      "text/plain": [
       "array([[  1920.,   4800.,  -1920.,   4800.],\n",
       "       [  4800.,  16000.,  -4800.,   8000.],\n",
       "       [ -1920.,  -4800.,   1920.,  -4800.],\n",
       "       [  4800.,   8000.,  -4800.,  16000.]])"
      ]
     },
     "execution_count": 9,
     "metadata": {},
     "output_type": "execute_result"
    }
   ],
   "source": [
    "estrut1.viga.k"
   ]
  },
  {
   "cell_type": "code",
   "execution_count": 10,
   "metadata": {
    "collapsed": false
   },
   "outputs": [
    {
     "data": {
      "text/plain": [
       "array([[  5000.,      0.,      0.,  -5000.,      0.,      0.],\n",
       "       [     0.,   3750.,   7500.,      0.,  -3750.,   7500.],\n",
       "       [     0.,   7500.,  20000.,      0.,  -7500.,  10000.],\n",
       "       [ -5000.,      0.,      0.,   5000.,      0.,      0.],\n",
       "       [     0.,  -3750.,  -7500.,      0.,   3750.,  -7500.],\n",
       "       [     0.,   7500.,  10000.,      0.,  -7500.,  20000.]])"
      ]
     },
     "execution_count": 10,
     "metadata": {},
     "output_type": "execute_result"
    }
   ],
   "source": [
    "elemento = ez.Elemento(4)\n",
    "a = elemento.k\n",
    "a"
   ]
  },
  {
   "cell_type": "code",
   "execution_count": null,
   "metadata": {
    "collapsed": true
   },
   "outputs": [],
   "source": []
  }
 ],
 "metadata": {
  "kernelspec": {
   "display_name": "Python 3",
   "language": "python",
   "name": "python3"
  },
  "language_info": {
   "codemirror_mode": {
    "name": "ipython",
    "version": 3
   },
   "file_extension": ".py",
   "mimetype": "text/x-python",
   "name": "python",
   "nbconvert_exporter": "python",
   "pygments_lexer": "ipython3",
   "version": "3.5.2"
  }
 },
 "nbformat": 4,
 "nbformat_minor": 2
}
