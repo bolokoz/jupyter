{
 "cells": [
  {
   "cell_type": "markdown",
   "metadata": {},
   "source": [
    "# Objetivo\n",
    "\n",
    "### Alternativa para FTOOL com as seguintes vantagens\n",
    "\n",
    "- Pode ser utilizado direto num site online\n",
    "- Input com texto tornando mais rapido\n",
    "- Total transparencia dos processos\n",
    "- Possibilidade de criacao de memorial de calculo (com imagens e formulas)\n",
    "- Utilizar (quase) como o MathCad\n",
    "- Uso da plataforma interativa Jupyter\n",
    "\n",
    "### Desvantagens\n",
    "\n",
    "- como faz\n"
   ]
  },
  {
   "cell_type": "markdown",
   "metadata": {},
   "source": [
    "# Passos\n",
    "\n",
    "## 1.  Coleta de dados\n",
    "\n",
    "(talvez utilizar o metodo descrito [aqui](http://webserver2.tecgraf.puc-rio.br/~lfm/compgraf-161/LFMartha-MetRigidezDireta-caps1-2-3-4-5.pdf))\n",
    "\n",
    "    1. Barras\n",
    "        1. coordenadas inciais e finais (? balanco)\n",
    "        2. inercia\n",
    "        3. elasticidade\n",
    "        4. area\n",
    "    2.  Apoios\n",
    "        1. coordenadas\n",
    "        2. eixos restritos\n",
    "    3.  Forcas\n",
    "        1. Forcas concentradas\n",
    "            1. magnitude (sentido indicado com positivo ou negativo)\n",
    "            2. direcao\n",
    "            3. coordenada\n",
    "        2. Forcas distribuidas\n",
    "            1. ? magnitude inicial e final (sentido indicado com positivo ou negativo)\n",
    "            2. direcao\n",
    "            3. coordenada incial e final\n",
    "    \n",
    "## 2.  Verificar os dados obtidos\n",
    "\n",
    "    1. ## Plotar figura para conferencia\n",
    "    2. ## Mostrar nos e quais forcas atuam em cada barra\n",
    "    3. ## Verificar estaticidade\n",
    "\n",
    "## 3.  Iniciar calculos\n",
    "    1. Montar matriz de rigidez para cada barra\n",
    "    2. Verificar quais apoios pertencem a mais de uma barra\n",
    "    3. ? Forcas equivalentes nodais\n",
    "    4. \n",
    "    5.\n",
    "    6.\n",
    "    7.\n",
    "    \n",
    "## 4.  Resultados\n",
    "    1. Reacoes \n",
    "    2. Diagramas\n",
    "    3. Memorial\n",
    "    \n"
   ]
  },
  {
   "cell_type": "markdown",
   "metadata": {},
   "source": [
    "\n",
    "### DUVIDAS\n",
    "    COmo aplicar o metodo do deslocamento para isoestatica? (generalizar)\n",
    "    E as barras que possuem balanco?"
   ]
  },
  {
   "cell_type": "markdown",
   "metadata": {},
   "source": [
    "---"
   ]
  },
  {
   "cell_type": "markdown",
   "metadata": {},
   "source": [
    "# Exemplo de utilizacao"
   ]
  },
  {
   "cell_type": "markdown",
   "metadata": {},
   "source": [
    "### Importacao das bibliotecas"
   ]
  },
  {
   "cell_type": "code",
   "execution_count": 18,
   "metadata": {
    "collapsed": false
   },
   "outputs": [],
   "source": [
    "import eztrut as ezt # biblioteca que estamos tentando criar\n",
    "import matplotlib.pyplot as plt # biblioteca para plotar \n",
    "import numpy as np # biblioteca para manipulacao de matrizes e matematica"
   ]
  },
  {
   "cell_type": "markdown",
   "metadata": {},
   "source": [
    "### Coleta de dados"
   ]
  },
  {
   "cell_type": "markdown",
   "metadata": {},
   "source": [
    "#### 1. Barras"
   ]
  },
  {
   "cell_type": "code",
   "execution_count": 20,
   "metadata": {
    "collapsed": true
   },
   "outputs": [],
   "source": [
    "# Criar uma viga de tamanho 5. Caso nao especificar: Momento, inercia e area serao padrao.\n",
    "viga1 = ezt.Viga(5)"
   ]
  },
  {
   "cell_type": "markdown",
   "metadata": {},
   "source": [
    "#### 2. Apoios"
   ]
  },
  {
   "cell_type": "code",
   "execution_count": 21,
   "metadata": {
    "collapsed": true
   },
   "outputs": [],
   "source": [
    "# Criar dois apoios. Um apoio fixo na esquerda (x = 1) e outro livre no fim (x = 3)\n",
    "# Eixos restritos = [x, y, z] --> 1 = restrito, 0 = livre\n",
    "# ex. Engastamento = [1, 1, 1]\n",
    "apoioA = ezt.Apoio(x=1, eixos_restritos=[0,1,0])\n",
    "apoioB = ezt.Apoio(3, [1,1,0]) # os parametros podem ser omitidos mas devem ser colocados EM ORDEM"
   ]
  },
  {
   "cell_type": "markdown",
   "metadata": {},
   "source": [
    "#### 3. Forcas"
   ]
  },
  {
   "cell_type": "code",
   "execution_count": 22,
   "metadata": {
    "collapsed": true
   },
   "outputs": [],
   "source": [
    "# Criar uma forca CONCENTRADA vertical (de cima para baixo) de 10kN\n",
    "forca1 = ezt.ForcaC(f=-10000, x=5, tipo=2, eixo=[0,-10000,0])"
   ]
  },
  {
   "cell_type": "markdown",
   "metadata": {},
   "source": [
    "---"
   ]
  },
  {
   "cell_type": "markdown",
   "metadata": {},
   "source": [
    "### Finalizada a coleta de dados, criar a estrutura"
   ]
  },
  {
   "cell_type": "code",
   "execution_count": 23,
   "metadata": {
    "collapsed": false
   },
   "outputs": [],
   "source": [
    "# Criar a estrutura para resolver os diagramas\n",
    "apoios = [apoioA, apoioB]\n",
    "forcas = [forca1]\n",
    "estrut1 = ezt.Eztrut(viga1, apoios, forcas)"
   ]
  },
  {
   "cell_type": "markdown",
   "metadata": {},
   "source": [
    "#### Mostrar a figura e estaticidade"
   ]
  },
  {
   "cell_type": "code",
   "execution_count": 25,
   "metadata": {
    "collapsed": false
   },
   "outputs": [
    {
     "data": {
      "image/png": "[encoded data removed]",
      "text/plain": [
       "<matplotlib.figure.Figure at 0x776d490>"
      ]
     },
     "metadata": {},
     "output_type": "display_data"
    },
    {
     "data": {
      "text/plain": [
       "3"
      ]
     },
     "execution_count": 25,
     "metadata": {},
     "output_type": "execute_result"
    }
   ],
   "source": [
    "# a funcao de mostrar a figura pertence a estrutura chamando o metodo mostrar_figura()\n",
    "estrut1.mostrar_figura()\n",
    "estrut1.estaticidade()"
   ]
  },
  {
   "cell_type": "markdown",
   "metadata": {},
   "source": [
    "### Reacoes de apoio"
   ]
  },
  {
   "cell_type": "code",
   "execution_count": 26,
   "metadata": {
    "collapsed": false,
    "scrolled": true
   },
   "outputs": [
    {
     "name": "stdout",
     "output_type": "stream",
     "text": [
      " Soma de forcas em y: -10.0 kN \n",
      " Apoio A: -10.0 kN \n",
      " Apoio B: 20.0 kN \n",
      "\n"
     ]
    }
   ],
   "source": [
    "# no momento ainda nao sei como aplicar metodo da rigidez.\n",
    "# caso for isoestatica, a estrutura pode ser resolvida usando o metodo a seguir\n",
    "estrut1.reacao_apoio_biapoiada_isoestatica()"
   ]
  },
  {
   "cell_type": "markdown",
   "metadata": {},
   "source": [
    "#### Um exemplo de como pode ser possivel a producao de memorias de calculo"
   ]
  },
  {
   "cell_type": "code",
   "execution_count": 5,
   "metadata": {
    "collapsed": false,
    "scrolled": true
   },
   "outputs": [
    {
     "name": "stdout",
     "output_type": "stream",
     "text": [
      "dist forca apoio [4]\n"
     ]
    },
    {
     "data": {
      "text/latex": [
       "$$\\sum F_x = 0 \\\\\\sum F_y = 0 \\rightarrow R_a + R_b = -10000\\\\\\sum M_a = 0 \\rightarrow 4 \\cdot (-10000) = R_b \\cdot (-20000.0)$$"
      ],
      "text/plain": [
       "<IPython.core.display.Math object>"
      ]
     },
     "execution_count": 5,
     "metadata": {},
     "output_type": "execute_result"
    }
   ],
   "source": [
    "estrut1.memorial_reacao()"
   ]
  },
  {
   "cell_type": "markdown",
   "metadata": {},
   "source": [
    "### Qualquer parametro pode ser checado, por exemplo:"
   ]
  },
  {
   "cell_type": "code",
   "execution_count": 30,
   "metadata": {
    "collapsed": false
   },
   "outputs": [
    {
     "name": "stdout",
     "output_type": "stream",
     "text": [
      "L = 5 m, \n",
      "Inercia = 1 m^4, \n",
      "Elasticidade = 20000 MPa \n",
      "\n"
     ]
    }
   ],
   "source": [
    "# mostrar propriedades da viga que forma a estrutura chamada \"estrut1\"\n",
    "print(estrut1.viga)"
   ]
  },
  {
   "cell_type": "code",
   "execution_count": 33,
   "metadata": {
    "collapsed": false
   },
   "outputs": [
    {
     "name": "stdout",
     "output_type": "stream",
     "text": [
      "[[  1920.   4800.  -1920.   4800.]\n",
      " [  4800.  16000.  -4800.   8000.]\n",
      " [ -1920.  -4800.   1920.  -4800.]\n",
      " [  4800.   8000.  -4800.  16000.]]\n"
     ]
    }
   ],
   "source": [
    "# mostrar matriz de rigidez da viga\n",
    "print(estrut1.viga.k)"
   ]
  },
  {
   "cell_type": "code",
   "execution_count": 37,
   "metadata": {
    "collapsed": false
   },
   "outputs": [
    {
     "name": "stdout",
     "output_type": "stream",
     "text": [
      "-10000\n"
     ]
    }
   ],
   "source": [
    "# soma das forcas em y na estrutura (esforcos externos)\n",
    "print(estrut1.soma_forcas_y)"
   ]
  },
  {
   "cell_type": "code",
   "execution_count": null,
   "metadata": {
    "collapsed": true
   },
   "outputs": [],
   "source": []
  }
 ],
 "metadata": {
  "kernelspec": {
   "display_name": "Python 3",
   "language": "python",
   "name": "python3"
  },
  "language_info": {
   "codemirror_mode": {
    "name": "ipython",
    "version": 3
   },
   "file_extension": ".py",
   "mimetype": "text/x-python",
   "name": "python",
   "nbconvert_exporter": "python",
   "pygments_lexer": "ipython3",
   "version": "3.6.0"
  }
 },
 "nbformat": 4,
 "nbformat_minor": 2
}
